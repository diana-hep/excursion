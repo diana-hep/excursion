{
 "cells": [
  {
   "cell_type": "code",
   "execution_count": 1,
   "outputs": [],
   "source": [
    "import torch\n",
    "\n",
    "from excursion_new.excursion import ExcursionProblem\n",
    "from excursion_new.optimize._estimator import Optimizer"
   ],
   "metadata": {
    "collapsed": false,
    "pycharm": {
     "name": "#%%\n"
    }
   }
  },
  {
   "cell_type": "code",
   "execution_count": 2,
   "outputs": [
    {
     "name": "stderr",
     "output_type": "stream",
     "text": [
      "C:\\Users\\excursion\\anaconda3\\envs\\jason_refactor\\lib\\site-packages\\numpy\\lib\\index_tricks.py:185: ComplexWarning: Casting complex values to real discards the imaginary part\n",
      "  nn[k] = (nn[k]*step+start)\n"
     ]
    }
   ],
   "source": [
    "import excursion_new.test_suite.test_functions.fast_1D as testcase_1D\n",
    "test_problem = ExcursionProblem(testcase_1D.true_functions, ndim=testcase_1D.ndim, thresholds=testcase_1D.thresholds, bounding_box=testcase_1D.bounding_box, plot_npoints=testcase_1D.plot_npoints)\n",
    "opt = Optimizer(problem_details=test_problem, n_funcs=1, device_type=\"cuda\")"
   ],
   "metadata": {
    "collapsed": false,
    "pycharm": {
     "name": "#%%\n"
    }
   }
  },
  {
   "cell_type": "code",
   "execution_count": 3,
   "outputs": [
    {
     "name": "stderr",
     "output_type": "stream",
     "text": [
      "C:\\Users\\excursion\\anaconda3\\envs\\jason_refactor\\lib\\site-packages\\gpytorch\\likelihoods\\gaussian_likelihood.py:270: GPInputWarning: You have passed data through a FixedNoiseGaussianLikelihood that did not match the size of the fixed noise, *and* you did not specify noise. This is treated as a no-op.\n",
      "  warnings.warn(\n"
     ]
    }
   ],
   "source": [
    "for iteration in range(2):\n",
    "    new_x = opt.suggest()\n",
    "    new_y = test_problem.functions[0](new_x)\n",
    "    opt.tell(new_x,new_y)"
   ],
   "metadata": {
    "collapsed": false,
    "pycharm": {
     "name": "#%%\n"
    }
   }
  },
  {
   "cell_type": "code",
   "execution_count": 4,
   "outputs": [],
   "source": [
    "import excursion_new.test_suite.test_functions.fast_2D as testcase_2D\n",
    "test_problem = ExcursionProblem(testcase_2D.true_functions, ndim=testcase_2D.ndim, thresholds=testcase_2D.thresholds, bounding_box=testcase_2D.bounding_box, plot_npoints=testcase_2D.plot_npoints)\n",
    "opt = Optimizer(problem_details=test_problem, n_funcs=1, device_type=\"cuda\")"
   ],
   "metadata": {
    "collapsed": false,
    "pycharm": {
     "name": "#%%\n"
    }
   }
  },
  {
   "cell_type": "code",
   "execution_count": 5,
   "outputs": [
    {
     "name": "stdout",
     "output_type": "stream",
     "text": [
      "torch.Size([1, 2])\n",
      "<class 'torch.Tensor'>\n",
      "2\n",
      "torch.Size([1, 2])\n",
      "<class 'torch.Tensor'>\n",
      "2\n"
     ]
    }
   ],
   "source": [
    "for iteration in range(2):\n",
    "    new_x = opt.suggest()\n",
    "    print(new_x.shape)\n",
    "    new_y = test_problem.functions[0](new_x)\n",
    "    opt.tell(new_x,new_y)\n",
    "    print(type(opt.models[0].train_inputs[0]))\n",
    "    print(opt.models[0].train_inputs[0].ndimension())\n",
    "\n",
    "\n"
   ],
   "metadata": {
    "collapsed": false,
    "pycharm": {
     "name": "#%%\n"
    }
   }
  }
 ],
 "metadata": {
  "kernelspec": {
   "name": "pycharm-15431b4e",
   "language": "python",
   "display_name": "PyCharm (jason_refactor)"
  },
  "language_info": {
   "codemirror_mode": {
    "name": "ipython",
    "version": 2
   },
   "file_extension": ".py",
   "mimetype": "text/x-python",
   "name": "python",
   "nbconvert_exporter": "python",
   "pygments_lexer": "ipython2",
   "version": "2.7.6"
  }
 },
 "nbformat": 4,
 "nbformat_minor": 0
}