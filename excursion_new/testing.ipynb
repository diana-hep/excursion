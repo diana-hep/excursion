{
 "cells": [
  {
   "cell_type": "code",
   "execution_count": 1,
   "outputs": [
    {
     "name": "stderr",
     "output_type": "stream",
     "text": [
      "C:\\Users\\excursion\\anaconda3\\envs\\jason_refactor\\lib\\site-packages\\numpy\\lib\\index_tricks.py:185: ComplexWarning: Casting complex values to real discards the imaginary part\n",
      "  nn[k] = (nn[k]*step+start)\n"
     ]
    }
   ],
   "source": [
    "import torch\n",
    "\n",
    "from excursion_new.learner import Learner\n",
    "import excursion_new.test_suite.test_functions.fast_2D as testcase_2D\n",
    "import excursion_new.test_suite.test_functions.fast_1D as testcase_1D\n",
    "\n",
    "learner_one = Learner(testcase_1D)\n",
    "learner_two = Learner(testcase_2D)\n",
    "learner_one.initialize()\n",
    "learner_two.initialize()"
   ],
   "metadata": {
    "collapsed": false,
    "pycharm": {
     "name": "#%%\n"
    }
   }
  },
  {
   "cell_type": "code",
   "execution_count": 2,
   "outputs": [
    {
     "name": "stdout",
     "output_type": "stream",
     "text": [
      "tensor([[0.2250, 1.3875]], device='cuda:0', dtype=torch.float64)\n",
      "tensor([[-0.8990]], device='cuda:0', dtype=torch.float64)\n",
      "tensor([[1.3875, 0.6750]], device='cuda:0', dtype=torch.float64)\n",
      "tensor([[-0.8384]], device='cuda:0', dtype=torch.float64)\n"
     ]
    },
    {
     "name": "stderr",
     "output_type": "stream",
     "text": [
      "C:\\Users\\excursion\\anaconda3\\envs\\jason_refactor\\lib\\site-packages\\gpytorch\\likelihoods\\gaussian_likelihood.py:270: GPInputWarning: You have passed data through a FixedNoiseGaussianLikelihood that did not match the size of the fixed noise, *and* you did not specify noise. This is treated as a no-op.\n",
      "  warnings.warn(\n",
      "C:\\Users\\excursion\\anaconda3\\envs\\jason_refactor\\lib\\site-packages\\gpytorch\\distributions\\multivariate_normal.py:259: NumericalWarning: Negative variance values detected. This is likely due to numerical instabilities. Rounding negative variances up to 1e-10.\n",
      "  warnings.warn(\n"
     ]
    },
    {
     "name": "stdout",
     "output_type": "stream",
     "text": [
      "tensor([[1.4625, 0.3000]], device='cuda:0', dtype=torch.float64)\n",
      "tensor([[-0.2121]], device='cuda:0', dtype=torch.float64)\n",
      "tensor([[1.5000, 1.3125]], device='cuda:0', dtype=torch.float64)\n",
      "tensor([[0.9596]], device='cuda:0', dtype=torch.float64)\n",
      "tensor([[0.9000, 0.5625]], device='cuda:0', dtype=torch.float64)\n",
      "tensor([[0.8586]], device='cuda:0', dtype=torch.float64)\n",
      "tensor([[0.9375, 0.3000]], device='cuda:0', dtype=torch.float64)\n",
      "tensor([[0.8384]], device='cuda:0', dtype=torch.float64)\n"
     ]
    }
   ],
   "source": [
    "for iteration in range(6):\n",
    "    x_one = learner_one.suggest()\n",
    "    x_two = learner_two.suggest()\n",
    "    print(x_two)\n",
    "    print(x_one)\n",
    "    learner_one.evaluate_and_tell(x_one)\n",
    "    learner_two.evaluate_and_tell(x_two)"
   ],
   "metadata": {
    "collapsed": false,
    "pycharm": {
     "name": "#%%\n"
    }
   }
  },
  {
   "cell_type": "code",
   "execution_count": 3,
   "outputs": [],
   "source": [
    "import excursion_new.test_suite.test_functions.fast_3D as testcase_3D\n",
    "learner_three = Learner(testcase_3D)\n",
    "learner_three.initialize()"
   ],
   "metadata": {
    "collapsed": false,
    "pycharm": {
     "name": "#%%\n"
    }
   }
  },
  {
   "cell_type": "code",
   "execution_count": 4,
   "outputs": [
    {
     "name": "stdout",
     "output_type": "stream",
     "text": [
      "tensor([[0.1500, 0.9750, 0.9000]], device='cuda:0', dtype=torch.float64)\n",
      "tensor([[0.1875, 0.8250, 0.1875]], device='cuda:0', dtype=torch.float64)\n",
      "tensor([[1.5000, 0.0000, 1.4625]], device='cuda:0', dtype=torch.float64)\n",
      "tensor([[0., 0., 0.]], device='cuda:0', dtype=torch.float64)\n",
      "tensor([[0.1500, 0.3750, 0.8625]], device='cuda:0', dtype=torch.float64)\n",
      "tensor([[0.1125, 0.4125, 0.2250]], device='cuda:0', dtype=torch.float64)\n"
     ]
    }
   ],
   "source": [
    "for iteration in range(6):\n",
    "    x_three = learner_three.suggest()\n",
    "    print(x_three)\n",
    "    learner_three.evaluate_and_tell(x_three)"
   ],
   "metadata": {
    "collapsed": false,
    "pycharm": {
     "name": "#%%\n"
    }
   }
  }
 ],
 "metadata": {
  "kernelspec": {
   "name": "pycharm-15431b4e",
   "language": "python",
   "display_name": "PyCharm (jason_refactor)"
  },
  "language_info": {
   "codemirror_mode": {
    "name": "ipython",
    "version": 2
   },
   "file_extension": ".py",
   "mimetype": "text/x-python",
   "name": "python",
   "nbconvert_exporter": "python",
   "pygments_lexer": "ipython2",
   "version": "2.7.6"
  }
 },
 "nbformat": 4,
 "nbformat_minor": 0
}