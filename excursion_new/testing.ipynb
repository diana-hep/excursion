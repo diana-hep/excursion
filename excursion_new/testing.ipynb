{
 "cells": [
  {
   "cell_type": "markdown",
   "source": [
    "## Step 1: Load\n",
    "\n",
    "We need to set-up several things and with a specific structure so that it's readable for the excursion estimator and\n",
    "learner object.\n",
    "We have pre-loaded a python script for data on:\n",
    "-  **True/Black-box function** (this is not a tutorial using funcX, just a simple toy function is all we need)\n",
    "-  **Grid**: domain where you will search for next evaluation points?\n",
    "<br /><br />We have pre-loaded a yaml script for algorithm options on:\n",
    "-  **Gaussian Process**: which kernel and likelihood do you want to use?\n",
    "-  **Algorithm Options**: which acquisition function? Do you want batch selection? How many points per batch? Which batch method selection?\n",
    "\n",
    "There are many choices and a user might not know a priori what to use. That is why I am preparing a set of complete\n",
    "examples that you just have to load to get started. These pre-build examples are in `excursion/???/*.py` these\n",
    "`.py` scripts contain initialization for: true/black-box function and grid (the \"numerical options\"). The files in\n",
    "`excursion/??/??/*.yml` are yaml files that contain pre-established Gaussian Processes and Algorithm Options\n",
    "(the \"algorithm options\"). This way of ordering the init step makes it easy to fix a numerical problem while trying\n",
    "different algorithm configurations and vice versa.\n",
    "<br /><br /> The purpose of using the abstract interfaces for a learner object helps reduce the amount of interaction\n",
    "users have with the torch library to a minimum. The complete examples provide the ability for the user to explore the entire\n",
    "excursion library without having to write their own code.\n"
   ],
   "metadata": {
    "collapsed": false
   }
  },
  {
   "cell_type": "code",
   "execution_count": 1,
   "outputs": [],
   "source": [
    "import yaml\n",
    "import json\n",
    "%load_ext autoreload\n",
    "%autoreload 2\n",
    "import numpy as np\n",
    "np.warnings.filterwarnings('ignore')\n",
    "%matplotlib inline"
   ],
   "metadata": {
    "collapsed": false,
    "pycharm": {
     "name": "#%%\n"
    }
   }
  },
  {
   "cell_type": "code",
   "execution_count": 2,
   "outputs": [
    {
     "name": "stdout",
     "output_type": "stream",
     "text": [
      "algorithm_opts =\n",
      "{\n",
      "    \"example\": \"Simple Learner Usage\",\n",
      "    \"ninit\": 3,\n",
      "    \"init_type\": \"random\",\n",
      "    \"jump_start\": false,\n",
      "    \"device\": \"cpu\",\n",
      "    \"model\": {\n",
      "        \"type\": \"ExactGP\"\n",
      "    },\n",
      "    \"acq\": {\n",
      "        \"acq_type\": \"PES\"\n",
      "    }\n",
      "}\n"
     ]
    }
   ],
   "source": [
    "import excursion_new.test_suite.test_functions.fast_2D as testcase_2D\n",
    "import excursion_new.test_suite.test_functions.fast_1D as testcase_1D\n",
    "\n",
    "file = open('../excursion_new/test_suite/algorithm_specs_test.yaml', \"r\")\n",
    "algorithm_opts = yaml.safe_load(file)\n",
    "print('algorithm_opts =')\n",
    "print(json.dumps(algorithm_opts, indent=4))"
   ],
   "metadata": {
    "collapsed": false,
    "pycharm": {
     "name": "#%%\n"
    }
   }
  },
  {
   "cell_type": "markdown",
   "source": [
    "## Step 2: Initialize the learner objects.\n",
    "There are many ways we could have started our Bayesian optimization problem. Using the provided example templates you\n",
    "can avoid all of that using the Learner class. If you wanted your own special initialization you can use _Learner and\n",
    "make your own."
   ],
   "metadata": {
    "collapsed": false
   }
  },
  {
   "cell_type": "code",
   "execution_count": 3,
   "outputs": [
    {
     "ename": "AttributeError",
     "evalue": "'Optimizer' object has no attribute 'data_'",
     "output_type": "error",
     "traceback": [
      "\u001B[1;31m---------------------------------------------------------------------------\u001B[0m",
      "\u001B[1;31mAttributeError\u001B[0m                            Traceback (most recent call last)",
      "\u001B[1;32mC:\\Users\\EXCURS~1\\AppData\\Local\\Temp/ipykernel_9780/3585757722.py\u001B[0m in \u001B[0;36m<module>\u001B[1;34m\u001B[0m\n\u001B[0;32m      7\u001B[0m \u001B[1;31m# Can fix later so that just calling learner.suggest() if initialize wasn't called yet then it will call.\u001B[0m\u001B[1;33m\u001B[0m\u001B[1;33m\u001B[0m\u001B[1;33m\u001B[0m\u001B[0m\n\u001B[0;32m      8\u001B[0m \u001B[1;31m# It can be very expensive to initialize an estimator if it is a snapshot, since it will need training, so this function was spun off.\u001B[0m\u001B[1;33m\u001B[0m\u001B[1;33m\u001B[0m\u001B[1;33m\u001B[0m\u001B[0m\n\u001B[1;32m----> 9\u001B[1;33m \u001B[0mlearner_one\u001B[0m\u001B[1;33m.\u001B[0m\u001B[0minitialize\u001B[0m\u001B[1;33m(\u001B[0m\u001B[1;33m)\u001B[0m\u001B[1;33m\u001B[0m\u001B[1;33m\u001B[0m\u001B[0m\n\u001B[0m\u001B[0;32m     10\u001B[0m \u001B[0mlearner_two\u001B[0m\u001B[1;33m.\u001B[0m\u001B[0minitialize\u001B[0m\u001B[1;33m(\u001B[0m\u001B[1;33m)\u001B[0m\u001B[1;33m\u001B[0m\u001B[1;33m\u001B[0m\u001B[0m\n\u001B[0;32m     11\u001B[0m \u001B[1;33m\u001B[0m\u001B[0m\n",
      "\u001B[1;32m~\\Documents\\excursion_project\\excursion\\excursion_new\\learner.py\u001B[0m in \u001B[0;36minitialize\u001B[1;34m(self, snapshot)\u001B[0m\n\u001B[0;32m     56\u001B[0m             \u001B[1;32mraise\u001B[0m \u001B[0mNotImplementedError\u001B[0m\u001B[1;33m(\u001B[0m\u001B[1;34m\"Must initialize estimator with stored data in details\"\u001B[0m\u001B[1;33m)\u001B[0m\u001B[1;33m\u001B[0m\u001B[1;33m\u001B[0m\u001B[0m\n\u001B[0;32m     57\u001B[0m         \u001B[1;32melse\u001B[0m\u001B[1;33m:\u001B[0m\u001B[1;33m\u001B[0m\u001B[1;33m\u001B[0m\u001B[0m\n\u001B[1;32m---> 58\u001B[1;33m             self.estimator = est.Optimizer(problem_details=self.details, base_estimator=self.options['model']['type'],\n\u001B[0m\u001B[0;32m     59\u001B[0m                                            \u001B[0macq_func\u001B[0m\u001B[1;33m=\u001B[0m\u001B[0mself\u001B[0m\u001B[1;33m.\u001B[0m\u001B[0moptions\u001B[0m\u001B[1;33m[\u001B[0m\u001B[1;34m'acq'\u001B[0m\u001B[1;33m]\u001B[0m\u001B[1;33m[\u001B[0m\u001B[1;34m'acq_type'\u001B[0m\u001B[1;33m]\u001B[0m\u001B[1;33m,\u001B[0m\u001B[1;33m\u001B[0m\u001B[1;33m\u001B[0m\u001B[0m\n\u001B[0;32m     60\u001B[0m                                            \u001B[0mjump_start\u001B[0m\u001B[1;33m=\u001B[0m\u001B[0mself\u001B[0m\u001B[1;33m.\u001B[0m\u001B[0moptions\u001B[0m\u001B[1;33m[\u001B[0m\u001B[1;34m'jump_start'\u001B[0m\u001B[1;33m]\u001B[0m\u001B[1;33m,\u001B[0m \u001B[0mdevice_type\u001B[0m\u001B[1;33m=\u001B[0m\u001B[0mself\u001B[0m\u001B[1;33m.\u001B[0m\u001B[0moptions\u001B[0m\u001B[1;33m[\u001B[0m\u001B[1;34m'device'\u001B[0m\u001B[1;33m]\u001B[0m\u001B[1;33m,\u001B[0m\u001B[1;33m\u001B[0m\u001B[1;33m\u001B[0m\u001B[0m\n",
      "\u001B[1;32m~\\Documents\\excursion_project\\excursion\\excursion_new\\optimize\\estimator.py\u001B[0m in \u001B[0;36m__init__\u001B[1;34m(self, problem_details, device_type, n_funcs, base_estimator, n_initial_points, initial_point_generator, acq_func, acq_optimizer, acq_func_kwargs, acq_optimzer_kwargs, jump_start)\u001B[0m\n\u001B[0;32m    243\u001B[0m             \u001B[1;31m# Need to get a next_x so call private tell\u001B[0m\u001B[1;33m\u001B[0m\u001B[1;33m\u001B[0m\u001B[1;33m\u001B[0m\u001B[0m\n\u001B[0;32m    244\u001B[0m             \u001B[1;31m# Have to make sure _tell can handle lists of objects for multiple functions\u001B[0m\u001B[1;33m\u001B[0m\u001B[1;33m\u001B[0m\u001B[1;33m\u001B[0m\u001B[0m\n\u001B[1;32m--> 245\u001B[1;33m             \u001B[0mself\u001B[0m\u001B[1;33m.\u001B[0m\u001B[0m_tell\u001B[0m\u001B[1;33m(\u001B[0m\u001B[0minit_X\u001B[0m\u001B[1;33m,\u001B[0m \u001B[0minit_y\u001B[0m\u001B[1;33m)\u001B[0m\u001B[1;33m\u001B[0m\u001B[1;33m\u001B[0m\u001B[0m\n\u001B[0m\u001B[0;32m    246\u001B[0m \u001B[1;33m\u001B[0m\u001B[0m\n\u001B[0;32m    247\u001B[0m         \u001B[0mself\u001B[0m\u001B[1;33m.\u001B[0m\u001B[0mdata_\u001B[0m \u001B[1;33m=\u001B[0m \u001B[0mself\u001B[0m\u001B[1;33m.\u001B[0m\u001B[0m_Data\u001B[0m\u001B[1;33m(\u001B[0m\u001B[1;33m)\u001B[0m\u001B[1;33m\u001B[0m\u001B[1;33m\u001B[0m\u001B[0m\n",
      "\u001B[1;32m~\\Documents\\excursion_project\\excursion\\excursion_new\\optimize\\estimator.py\u001B[0m in \u001B[0;36m_tell\u001B[1;34m(self, x, y, fit)\u001B[0m\n\u001B[0;32m    431\u001B[0m             \u001B[1;32melse\u001B[0m\u001B[1;33m:\u001B[0m\u001B[1;33m\u001B[0m\u001B[1;33m\u001B[0m\u001B[0m\n\u001B[0;32m    432\u001B[0m                 \u001B[1;32mfor\u001B[0m \u001B[0mxi\u001B[0m\u001B[1;33m,\u001B[0m \u001B[0myi\u001B[0m \u001B[1;32min\u001B[0m \u001B[0mzipped\u001B[0m\u001B[1;33m:\u001B[0m\u001B[1;33m\u001B[0m\u001B[1;33m\u001B[0m\u001B[0m\n\u001B[1;32m--> 433\u001B[1;33m                     \u001B[0mself\u001B[0m\u001B[1;33m.\u001B[0m\u001B[0mdata_\u001B[0m\u001B[1;33m[\u001B[0m\u001B[0myi\u001B[0m\u001B[1;33m]\u001B[0m \u001B[1;33m=\u001B[0m \u001B[0mxi\u001B[0m\u001B[1;33m\u001B[0m\u001B[1;33m\u001B[0m\u001B[0m\n\u001B[0m\u001B[0;32m    434\u001B[0m         \u001B[1;32melse\u001B[0m\u001B[1;33m:\u001B[0m\u001B[1;33m\u001B[0m\u001B[1;33m\u001B[0m\u001B[0m\n\u001B[0;32m    435\u001B[0m             \u001B[0mself\u001B[0m\u001B[1;33m.\u001B[0m\u001B[0mdata_\u001B[0m\u001B[1;33m[\u001B[0m\u001B[0my\u001B[0m\u001B[1;33m]\u001B[0m \u001B[1;33m=\u001B[0m \u001B[0mx\u001B[0m\u001B[1;33m\u001B[0m\u001B[1;33m\u001B[0m\u001B[0m\n",
      "\u001B[1;31mAttributeError\u001B[0m: 'Optimizer' object has no attribute 'data_'"
     ]
    }
   ],
   "source": [
    "from excursion_new.learner import Learner\n",
    "learner_one = Learner(testcase_1D, algorithm_opts)\n",
    "learner_two = Learner(testcase_2D, algorithm_opts)\n",
    "\n",
    "\n",
    "# This creates the estimator object which will do the steps of Bayesian optimization.\n",
    "# Can fix later so that just calling learner.suggest() if initialize wasn't called yet then it will call.\n",
    "# It can be very expensive to initialize an estimator if it is a snapshot, since it will need training, so this function was spun off.\n",
    "learner_one.initialize()\n",
    "learner_two.initialize()"
   ],
   "metadata": {
    "collapsed": false,
    "pycharm": {
     "name": "#%%\n"
    }
   }
  },
  {
   "cell_type": "markdown",
   "source": [
    "## Step 3: Run the optimization loop.\n",
    "There are two ways to do this. If the problem details have properly provided a function handle then one can run the loop\n",
    "with the extra functions provided by learner. If not they must use the ask-and-tell style loop."
   ],
   "metadata": {
    "collapsed": false,
    "pycharm": {
     "name": "#%% md\n"
    }
   }
  },
  {
   "cell_type": "code",
   "execution_count": null,
   "outputs": [],
   "source": [
    "for iteration in range(15):\n",
    "    x_one = learner_one.suggest()\n",
    "    print(x_one)\n",
    "    result_one = learner_one.evaluate_and_tell(x_one)\n",
    "    result_one.plot()\n",
    "\n",
    "learner_two.run(15,plot_result=True)\n",
    "\n",
    "# for iteration in range(15):\n",
    "#     x_two = learner_two.suggest()\n",
    "#     print(x_two)\n",
    "#     result_two = learner_two.evaluate_and_tell(x_two)\n",
    "#     result_two.plot()"
   ],
   "metadata": {
    "collapsed": false,
    "pycharm": {
     "name": "#%%\n"
    }
   }
  },
  {
   "cell_type": "code",
   "execution_count": null,
   "outputs": [],
   "source": [
    "# #\n",
    "# # If I do not have the function handle properly provided in the problem details I can use basic ask-and-tell.\n",
    "# #\n",
    "import excursion_new.test_suite.test_functions.fast_3D as testcase_3D\n",
    "learner_three = Learner(testcase_3D, algorithm_opts)\n",
    "learner_three.initialize()\n",
    "\n",
    "for iteration in range(6):\n",
    "    x_three = learner_three.suggest()\n",
    "    new_y = learner_three.details.functions[0](x_three)\n",
    "    print(x_three, new_y)\n",
    "    result_three = learner_three.tell(x_three, new_y)\n",
    "    print(result_three)\n",
    "    # result_three.plot()"
   ],
   "metadata": {
    "collapsed": false,
    "pycharm": {
     "name": "#%%\n"
    }
   }
  }
 ],
 "metadata": {
  "kernelspec": {
   "name": "pycharm-15431b4e",
   "language": "python",
   "display_name": "PyCharm (jason_refactor)"
  },
  "language_info": {
   "codemirror_mode": {
    "name": "ipython",
    "version": 2
   },
   "file_extension": ".py",
   "mimetype": "text/x-python",
   "name": "python",
   "nbconvert_exporter": "python",
   "pygments_lexer": "ipython2",
   "version": "2.7.6"
  }
 },
 "nbformat": 4,
 "nbformat_minor": 0
}