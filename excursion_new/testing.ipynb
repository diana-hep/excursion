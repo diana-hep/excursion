{
 "cells": [
  {
   "cell_type": "code",
   "execution_count": 1,
   "outputs": [
    {
     "name": "stderr",
     "output_type": "stream",
     "text": [
      "C:\\Users\\excursion\\anaconda3\\envs\\jason_refactor\\lib\\site-packages\\numpy\\lib\\index_tricks.py:185: ComplexWarning: Casting complex values to real discards the imaginary part\n",
      "  nn[k] = (nn[k]*step+start)\n"
     ]
    }
   ],
   "source": [
    "import torch\n",
    "\n",
    "from excursion_new.learner import Learner\n",
    "import excursion_new.test_suite.test_functions.fast_2D as testcase_2D\n",
    "import excursion_new.test_suite.test_functions.fast_1D as testcase_1D\n",
    "\n",
    "learner_one = Learner(testcase_1D)\n",
    "learner_two = Learner(testcase_2D)\n",
    "learner_one.initialize()\n",
    "learner_two.initialize()"
   ],
   "metadata": {
    "collapsed": false,
    "pycharm": {
     "name": "#%%\n"
    }
   }
  },
  {
   "cell_type": "code",
   "execution_count": 2,
   "outputs": [
    {
     "name": "stdout",
     "output_type": "stream",
     "text": [
      "tensor([[0.3375, 1.0125]], device='cuda:0', dtype=torch.float64)\n",
      "tensor([[0.2727]], device='cuda:0', dtype=torch.float64)\n",
      "tensor([[0.1875, 0.8250]], device='cuda:0', dtype=torch.float64)\n",
      "tensor([[-0.5152]], device='cuda:0', dtype=torch.float64)\n"
     ]
    },
    {
     "name": "stderr",
     "output_type": "stream",
     "text": [
      "C:\\Users\\excursion\\anaconda3\\envs\\jason_refactor\\lib\\site-packages\\gpytorch\\likelihoods\\gaussian_likelihood.py:270: GPInputWarning: You have passed data through a FixedNoiseGaussianLikelihood that did not match the size of the fixed noise, *and* you did not specify noise. This is treated as a no-op.\n",
      "  warnings.warn(\n"
     ]
    }
   ],
   "source": [
    "for iteration in range(2):\n",
    "    x_one = learner_one.suggest()\n",
    "    x_two = learner_two.suggest()\n",
    "    print(x_two)\n",
    "    print(x_one)\n",
    "    learner_one.evaluate_and_tell(x_one)\n",
    "    learner_two.evaluate_and_tell(x_two)"
   ],
   "metadata": {
    "collapsed": false,
    "pycharm": {
     "name": "#%%\n"
    }
   }
  },
  {
   "cell_type": "code",
   "execution_count": 3,
   "outputs": [],
   "source": [
    "import excursion_new.test_suite.test_functions.fast_3D as testcase_3D\n",
    "learner_three = Learner(testcase_3D)\n",
    "learner_three.initialize()"
   ],
   "metadata": {
    "collapsed": false,
    "pycharm": {
     "name": "#%%\n"
    }
   }
  },
  {
   "cell_type": "code",
   "execution_count": 4,
   "outputs": [
    {
     "name": "stdout",
     "output_type": "stream",
     "text": [
      "tensor([[0.3750, 0.3375, 0.1875]], device='cuda:0', dtype=torch.float64)\n",
      "tensor([[1.4625, 0.7500, 0.9375]], device='cuda:0', dtype=torch.float64)\n"
     ]
    }
   ],
   "source": [
    "for iteration in range(2):\n",
    "    x_three = learner_three.suggest()\n",
    "    print(x_three)\n",
    "    learner_three.evaluate_and_tell(x_three)"
   ],
   "metadata": {
    "collapsed": false,
    "pycharm": {
     "name": "#%%\n"
    }
   }
  }
 ],
 "metadata": {
  "kernelspec": {
   "name": "pycharm-15431b4e",
   "language": "python",
   "display_name": "PyCharm (jason_refactor)"
  },
  "language_info": {
   "codemirror_mode": {
    "name": "ipython",
    "version": 2
   },
   "file_extension": ".py",
   "mimetype": "text/x-python",
   "name": "python",
   "nbconvert_exporter": "python",
   "pygments_lexer": "ipython2",
   "version": "2.7.6"
  }
 },
 "nbformat": 4,
 "nbformat_minor": 0
}