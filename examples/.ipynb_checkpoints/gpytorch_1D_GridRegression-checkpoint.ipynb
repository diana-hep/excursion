{
 "cells": [
  {
   "cell_type": "code",
   "execution_count": 1,
   "metadata": {},
   "outputs": [
    {
     "name": "stdout",
     "output_type": "stream",
     "text": [
      "Populating the interactive namespace from numpy and matplotlib\n"
     ]
    }
   ],
   "source": [
    "%pylab inline\n",
    "%load_ext autoreload\n",
    "%autoreload 2"
   ]
  },
  {
   "cell_type": "code",
   "execution_count": 2,
   "metadata": {},
   "outputs": [],
   "source": [
    "import numpy as np\n",
    "np.warnings.filterwarnings('ignore')\n",
    "import datetime\n",
    "import os\n",
    "import math\n",
    "import torch\n",
    "import gpytorch\n",
    "\n",
    "import excursion\n",
    "import excursion.testcases.fast as scandetails\n",
    "\n",
    "import excursion.optimize\n",
    "\n",
    "from excursion.utils import point_entropy, mesh2points, points2mesh, values2mesh\n",
    "\n",
    "import excursion.plotting.onedim as plots\n",
    "import excursion.utils as utils\n",
    "\n",
    "import matplotlib.pyplot as plt\n",
    "%matplotlib inline\n",
    "import numpy as np\n",
    "np.warnings.filterwarnings('ignore')\n",
    "import datetime\n",
    "import os\n",
    "import math\n",
    "import torch\n",
    "import gpytorch\n",
    "\n",
    "import excursion\n",
    "\n",
    "import excursion.testcases.fast_1D as testcase_details\n",
    "import excursion.optimize\n",
    "import excursion.active_learning as active_learning\n",
    "\n",
    "from excursion.utils import get_first_max_index,point_entropy, mesh2points, points2mesh, values2mesh\n",
    "\n",
    "import excursion.plotting.onedim as plots\n",
    "#import excursion.utils as utils\n",
    "\n",
    "import matplotlib.pyplot as plt\n",
    "%matplotlib inline"
   ]
  },
  {
   "cell_type": "code",
   "execution_count": 3,
   "metadata": {},
   "outputs": [
    {
     "data": {
      "image/png": "[encoded data removed]",
      "text/plain": [
       "<Figure size 432x288 with 1 Axes>"
      ]
     },
     "metadata": {
      "needs_background": "light"
     },
     "output_type": "display_data"
    }
   ],
   "source": [
    "grid = ix,iy = scandetails.plotG\n",
    "X = excursion.utils.mesh2points(grid,scandetails.plot_rangedef[:,2])\n",
    "\n",
    "functions = [\n",
    "    scandetails.truth,\n",
    "    lambda X: scandetails.truth(X-0.05)\n",
    "]\n",
    "\n",
    "\n",
    "scandetails.truth_functions = functions\n",
    "\n",
    "\n",
    "truthv = excursion.utils.values2mesh(\n",
    "    scandetails.truth(X),\n",
    "    scandetails.plot_rangedef,\n",
    "    scandetails.invalid_region\n",
    ")\n",
    "\n",
    "contours = []\n",
    "for truth_func in scandetails.truth_functions:\n",
    "    contours.append(\n",
    "        excursion.utils.values2mesh(\n",
    "            truth_func(X),\n",
    "            scandetails.plot_rangedef,\n",
    "            scandetails.invalid_region\n",
    "        )\n",
    "    )\n",
    "\n",
    "\n",
    "for cont,c in zip(contours, ['k','b']):\n",
    "    plt.contour(ix,iy,cont, levels = [0], colors=[c])"
   ]
  },
  {
   "cell_type": "code",
   "execution_count": 4,
   "metadata": {},
   "outputs": [],
   "source": [
    "#initialize it...\n",
    "N_INIT  = 5\n",
    "N_FUNCS = 2\n",
    "\n",
    "np.random.seed(1)\n",
    "train_x = np.random.uniform(scandetails.plot_rangedef[:,0],scandetails.plot_rangedef[:,1], size = (N_INIT,2))\n",
    "train_y = [np.array([scandetails.truth_functions[i](np.asarray([x]))[0] for x in train_x]) for i in range(N_FUNCS)]"
   ]
  },
  {
   "cell_type": "code",
   "execution_count": 5,
   "metadata": {},
   "outputs": [
    {
     "name": "stdout",
     "output_type": "stream",
     "text": [
      "tensor([[6.2553e-01, 1.0805e+00],\n",
      "        [1.7156e-04, 4.5350e-01],\n",
      "        [2.2013e-01, 1.3851e-01],\n",
      "        [2.7939e-01, 5.1834e-01],\n",
      "        [5.9515e-01, 8.0823e-01]], dtype=torch.float64)\n",
      "tensor([[  5.4591,   2.0052, -12.3826,  -4.1514,   0.1115],\n",
      "        [  5.1729,   2.2091, -13.7456,  -4.2863,  -1.1087]],\n",
      "       dtype=torch.float64)\n"
     ]
    }
   ],
   "source": [
    "print(torch.tensor(train_x))\n",
    "print(torch.tensor(train_y))"
   ]
  },
  {
   "cell_type": "markdown",
   "metadata": {},
   "source": [
    "## 1) Grid + Model specification"
   ]
  },
  {
   "cell_type": "code",
   "execution_count": 6,
   "metadata": {},
   "outputs": [
    {
     "name": "stdout",
     "output_type": "stream",
     "text": [
      "grid shape  torch.Size([10000, 2])\n",
      "train_x shape  torch.Size([5, 2])\n",
      "train_y shape  torch.Size([2, 5])\n"
     ]
    }
   ],
   "source": [
    "grid_bounds = [(0, 1.5), (0, 1,5)]\n",
    "grid_size = 100*100\n",
    "grid = torch.zeros(grid_size, len(grid_bounds))\n",
    "for i in range(len(grid_bounds)):\n",
    "    grid_diff = float(grid_bounds[i][1] - grid_bounds[i][0]) / (grid_size - 2)\n",
    "    grid[:, i] = torch.linspace(grid_bounds[i][0] - grid_diff, grid_bounds[i][1] + grid_diff, grid_size)\n",
    "\n",
    "train_x  = torch.tensor(train_x)\n",
    "train_y  = torch.tensor(train_y)\n",
    "    \n",
    "print('grid shape ', grid.shape)\n",
    "print('train_x shape ', train_x.shape)\n",
    "print('train_y shape ', train_y.shape)"
   ]
  },
  {
   "cell_type": "markdown",
   "metadata": {},
   "source": [
    "### 1) GP model specification\n",
    "prior:\n",
    " - RBF kernel \n",
    " - constant mean"
   ]
  },
  {
   "cell_type": "code",
   "execution_count": 7,
   "metadata": {},
   "outputs": [],
   "source": [
    "class GridGPRegressionModel(gpytorch.models.ExactGP):\n",
    "    def __init__(self, grid, train_x, train_y, likelihood):\n",
    "        super(GridGPRegressionModel, self).__init__(train_x, train_y, likelihood)\n",
    "        num_dims = train_x.size(-1)\n",
    "        self.mean_module = gpytorch.means.ConstantMean()\n",
    "        \n",
    "        self.covar_module = gpytorch.kernels.GridKernel(\\\n",
    "                            gpytorch.kernels.ScaleKernel(\\\n",
    "                            gpytorch.kernels.RBFKernel(\\\n",
    "                            lengthscale_constraint=gpytorch.constraints.GreaterThan(lower_bound=0.1)\n",
    "                            )), \\\n",
    "                            grid=grid)\n",
    "\n",
    "    def forward(self, x):\n",
    "        mean_x = self.mean_module(x)\n",
    "        covar_x = self.covar_module(x)\n",
    "        return gpytorch.distributions.MultivariateNormal(mean_x, covar_x)\n"
   ]
  },
  {
   "cell_type": "markdown",
   "metadata": {},
   "source": [
    "### 2) Likelihood / observational model\n",
    "\n",
    "excursion: $\\epsilon = 0$"
   ]
  },
  {
   "cell_type": "code",
   "execution_count": 8,
   "metadata": {},
   "outputs": [],
   "source": [
    "likelihood = gpytorch.likelihoods.FixedNoiseGaussianLikelihood(noise=torch.tensor([0.])) "
   ]
  },
  {
   "cell_type": "markdown",
   "metadata": {},
   "source": [
    "### 3) Model"
   ]
  },
  {
   "cell_type": "markdown",
   "metadata": {},
   "source": [
    "initialization: $x_0$ (2 points)"
   ]
  },
  {
   "cell_type": "code",
   "execution_count": 9,
   "metadata": {},
   "outputs": [],
   "source": [
    "model = GridGPRegressionModel(grid, train_x, train_y, likelihood)"
   ]
  },
  {
   "cell_type": "markdown",
   "metadata": {},
   "source": [
    "### 4) Acquisition of new points maximizing info gain: testing"
   ]
  },
  {
   "cell_type": "code",
   "execution_count": 10,
   "metadata": {},
   "outputs": [],
   "source": [
    "def plot_and_save(workdir, index, *args):\n",
    "    fig, axarr = plt.subplots(1, 2)\n",
    "    fig.set_size_inches(9.5, 3.5)\n",
    "    gp = args[0]\n",
    "    plots.plot_gpytorch(axarr,gp, likelihood, X, y_list, scandetails)\n",
    "    plt.tight_layout()\n",
    "    plt.savefig(os.path.join(workdir,'update_{}.png'.format(str(index).zfill(3))), bbox_inches = 'tight')\n",
    "    plt.show()"
   ]
  },
  {
   "cell_type": "markdown",
   "metadata": {},
   "source": [
    "### 5) Contour approximation"
   ]
  },
  {
   "cell_type": "code",
   "execution_count": 11,
   "metadata": {},
   "outputs": [
    {
     "data": {
      "text/plain": [
       "torch.Size([10000, 2])"
      ]
     },
     "execution_count": 11,
     "metadata": {},
     "output_type": "execute_result"
    }
   ],
   "source": [
    "grid.shape"
   ]
  },
  {
   "cell_type": "code",
   "execution_count": 12,
   "metadata": {
    "scrolled": false
   },
   "outputs": [
    {
     "ename": "NameError",
     "evalue": "name 'acq_type' is not defined",
     "output_type": "error",
     "traceback": [
      "\u001b[0;31m---------------------------------------------------------------------------\u001b[0m",
      "\u001b[0;31mNameError\u001b[0m                                 Traceback (most recent call last)",
      "\u001b[0;32m<ipython-input-12-7d2d98181834>\u001b[0m in \u001b[0;36m<module>\u001b[0;34m()\u001b[0m\n\u001b[1;32m     12\u001b[0m     \u001b[0macquisition_values_grid\u001b[0m \u001b[0;34m=\u001b[0m \u001b[0;34m[\u001b[0m\u001b[0;34m]\u001b[0m\u001b[0;34m\u001b[0m\u001b[0;34m\u001b[0m\u001b[0m\n\u001b[1;32m     13\u001b[0m     \u001b[0;32mfor\u001b[0m \u001b[0mx\u001b[0m \u001b[0;32min\u001b[0m \u001b[0mgrid\u001b[0m\u001b[0;34m:\u001b[0m\u001b[0;34m\u001b[0m\u001b[0;34m\u001b[0m\u001b[0m\n\u001b[0;32m---> 14\u001b[0;31m         \u001b[0mvalue\u001b[0m \u001b[0;34m=\u001b[0m \u001b[0mactive_learning\u001b[0m\u001b[0;34m.\u001b[0m\u001b[0macq\u001b[0m\u001b[0;34m(\u001b[0m\u001b[0mmodel\u001b[0m\u001b[0;34m,\u001b[0m\u001b[0mtestcase_details\u001b[0m\u001b[0;34m,\u001b[0m \u001b[0mx\u001b[0m\u001b[0;34m,\u001b[0m \u001b[0macq_type\u001b[0m\u001b[0;34m)\u001b[0m\u001b[0;34m\u001b[0m\u001b[0;34m\u001b[0m\u001b[0m\n\u001b[0m\u001b[1;32m     15\u001b[0m         \u001b[0macquisition_values_grid\u001b[0m\u001b[0;34m.\u001b[0m\u001b[0mappend\u001b[0m\u001b[0;34m(\u001b[0m\u001b[0mvalue\u001b[0m\u001b[0;34m)\u001b[0m\u001b[0;34m\u001b[0m\u001b[0;34m\u001b[0m\u001b[0m\n\u001b[1;32m     16\u001b[0m \u001b[0;34m\u001b[0m\u001b[0m\n",
      "\u001b[0;31mNameError\u001b[0m: name 'acq_type' is not defined"
     ]
    }
   ],
   "source": [
    "import imp\n",
    "imp.reload(plots)\n",
    "imp.reload(utils)\n",
    "\n",
    "import time\n",
    "\n",
    "n_iter = 50\n",
    "\n",
    "for i in range(n_iter):\n",
    "    \n",
    "    #find x_new by maximizing acq)(x)\n",
    "    acquisition_values_grid = []\n",
    "    for x in grid:\n",
    "        value = active_learning.acq(model,testcase_details, x, 'PES')\n",
    "        acquisition_values_grid.append(value)\n",
    "        \n",
    "    fig, axarr = plt.subplots(1, 3, sharey=True)\n",
    "    fig.set_size_inches(4.5, 1.5)\n",
    "    plots.plot(axarr,gps,train_x,train_y,scandetails)\n",
    "    plt.savefig(os.path.join(workdir,'update_{}.png'.format(str(index).zfill(3))))\n",
    "    plt.show()\n",
    "    \n",
    "    \n",
    "    new_indexs = np.argsort(acquisition_values_grid) #descending order\n",
    "        \n",
    "    ##discard those points already in dataset\n",
    "    new_index = get_first_max_index(model, new_indexs, testcase_details)\n",
    "    \n",
    "    ##get x, y\n",
    "    x_new = testcase_details.X[new_index].view(-1,1)\n",
    "    y_new = [scandetails.truth_functions[i](np.asarray([x_new]))[0] for i in range(N_FUNCS)]\n",
    "    \n",
    "    #update dataset\n",
    "    inputs_i = torch.cat((model.train_inputs[0], x_new),0).flatten()\n",
    "    targets_i = torch.cat((model.train_targets.view(-1,1), y_new),0).flatten()\n",
    "    model.set_train_data(inputs=inputs_i, targets=targets_i, strict=False)\n",
    "    \n",
    "    #fit posterior with new dataset\n",
    "    model.train()\n",
    "    likelihood.train()\n",
    "    excursion.fit_hyperparams(model,likelihood)\n",
    "    \n",
    "    print('Iteration {}, x_new {} \\n'.format(i,x_new))\n",
    "    \n",
    "\n",
    "print('TIME TAKEN**', time.process_time() - start)\n",
    "    "
   ]
  },
  {
   "cell_type": "code",
   "execution_count": null,
   "metadata": {},
   "outputs": [],
   "source": []
  },
  {
   "cell_type": "code",
   "execution_count": null,
   "metadata": {},
   "outputs": [],
   "source": []
  },
  {
   "cell_type": "code",
   "execution_count": null,
   "metadata": {},
   "outputs": [],
   "source": []
  },
  {
   "cell_type": "code",
   "execution_count": null,
   "metadata": {},
   "outputs": [],
   "source": []
  },
  {
   "cell_type": "code",
   "execution_count": null,
   "metadata": {},
   "outputs": [],
   "source": []
  },
  {
   "cell_type": "code",
   "execution_count": null,
   "metadata": {},
   "outputs": [],
   "source": []
  },
  {
   "cell_type": "code",
   "execution_count": null,
   "metadata": {},
   "outputs": [],
   "source": []
  },
  {
   "cell_type": "code",
   "execution_count": null,
   "metadata": {},
   "outputs": [],
   "source": []
  },
  {
   "cell_type": "code",
   "execution_count": null,
   "metadata": {},
   "outputs": [],
   "source": []
  },
  {
   "cell_type": "code",
   "execution_count": null,
   "metadata": {},
   "outputs": [],
   "source": []
  }
 ],
 "metadata": {
  "kernelspec": {
   "display_name": "Python 3",
   "language": "python",
   "name": "python3"
  },
  "language_info": {
   "codemirror_mode": {
    "name": "ipython",
    "version": 3
   },
   "file_extension": ".py",
   "mimetype": "text/x-python",
   "name": "python",
   "nbconvert_exporter": "python",
   "pygments_lexer": "ipython3",
   "version": "3.7.3"
  }
 },
 "nbformat": 4,
 "nbformat_minor": 4
}
