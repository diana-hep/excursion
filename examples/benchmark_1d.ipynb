{
 "cells": [
  {
   "cell_type": "code",
   "execution_count": 1,
   "metadata": {
    "collapsed": true,
    "pycharm": {
     "name": "#%%#%% md\n"
    }
   },
   "outputs": [],
   "source": [
    "# Benchmark: measuring runtime versus # iterations"
   ]
  },
  {
   "cell_type": "code",
   "execution_count": 2,
   "outputs": [],
   "source": [
    "#imports\n",
    "import os, time, datetime, json, yaml\n",
    "import numpy as np\n",
    "import pandas as pd\n",
    "%matplotlib inline\n",
    "%load_ext autoreload\n",
    "%autoreload 2\n",
    "np.warnings.filterwarnings('ignore')\n",
    "\n",
    "#excursion package imports\n",
    "import excursion.test_suite.test_functions.fast_1D as testcase_1D"
   ],
   "metadata": {
    "collapsed": false,
    "pycharm": {
     "name": "#%%\n"
    }
   }
  },
  {
   "cell_type": "code",
   "execution_count": 3,
   "outputs": [
    {
     "name": "stdout",
     "output_type": "stream",
     "text": [
      "algorithm_opts =\n",
      "{\n",
      "    \"example\": \"Simple Learner Usage\",\n",
      "    \"ninit\": 2,\n",
      "    \"init_type\": \"random\",\n",
      "    \"jump_start\": true,\n",
      "    \"device\": \"cuda\",\n",
      "    \"likelihood\": {\n",
      "        \"likelihood_type\": \"GaussianLikelihood\",\n",
      "        \"epsilon\": 0.0\n",
      "    },\n",
      "    \"model\": {\n",
      "        \"type\": \"ExactGP\",\n",
      "        \"fit_optimizer\": \"Adam\"\n",
      "    },\n",
      "    \"acq\": {\n",
      "        \"acq_type\": \"MES\"\n",
      "    }\n",
      "}\n"
     ]
    }
   ],
   "source": [
    "file = open('../excursion/test_suite/algorithm_options/algorithm_specs_test.yaml', \"r\")\n",
    "algorithm_opts = yaml.safe_load(file)\n",
    "print('algorithm_opts =')\n",
    "print(json.dumps(algorithm_opts, indent=4))\n",
    "\n",
    "from excursion.learner import Learner\n",
    "learner_one = Learner(testcase_1D, algorithm_opts)\n",
    "\n",
    "updates = range(10, 40, 1)\n"
   ],
   "metadata": {
    "collapsed": false,
    "pycharm": {
     "name": "#%%\n"
    }
   }
  },
  {
   "cell_type": "code",
   "execution_count": 4,
   "outputs": [
    {
     "ename": "KeyboardInterrupt",
     "evalue": "",
     "output_type": "error",
     "traceback": [
      "\u001B[1;31m---------------------------------------------------------------------------\u001B[0m",
      "\u001B[1;31mKeyboardInterrupt\u001B[0m                         Traceback (most recent call last)",
      "\u001B[1;32mC:\\Users\\EXCURS~1\\AppData\\Local\\Temp/ipykernel_17608/4282791748.py\u001B[0m in \u001B[0;36m<module>\u001B[1;34m\u001B[0m\n\u001B[0;32m     19\u001B[0m         \u001B[1;32mfor\u001B[0m \u001B[0miteration\u001B[0m \u001B[1;32min\u001B[0m \u001B[0mrange\u001B[0m\u001B[1;33m(\u001B[0m\u001B[0mn_updates\u001B[0m\u001B[1;33m)\u001B[0m\u001B[1;33m:\u001B[0m\u001B[1;33m\u001B[0m\u001B[1;33m\u001B[0m\u001B[0m\n\u001B[0;32m     20\u001B[0m             \u001B[0mx_one\u001B[0m \u001B[1;33m=\u001B[0m \u001B[0mlearner_one\u001B[0m\u001B[1;33m.\u001B[0m\u001B[0msuggest\u001B[0m\u001B[1;33m(\u001B[0m\u001B[1;33m)\u001B[0m\u001B[1;33m\u001B[0m\u001B[1;33m\u001B[0m\u001B[0m\n\u001B[1;32m---> 21\u001B[1;33m             \u001B[0mresult_one\u001B[0m \u001B[1;33m=\u001B[0m \u001B[0mlearner_one\u001B[0m\u001B[1;33m.\u001B[0m\u001B[0mevaluate_and_tell\u001B[0m\u001B[1;33m(\u001B[0m\u001B[0mx_one\u001B[0m\u001B[1;33m)\u001B[0m\u001B[1;33m\u001B[0m\u001B[1;33m\u001B[0m\u001B[0m\n\u001B[0m\u001B[0;32m     22\u001B[0m \u001B[1;33m\u001B[0m\u001B[0m\n\u001B[0;32m     23\u001B[0m         \u001B[1;31m#save results\u001B[0m\u001B[1;33m\u001B[0m\u001B[1;33m\u001B[0m\u001B[1;33m\u001B[0m\u001B[0m\n",
      "\u001B[1;32m~\\Documents\\excursion_project\\excursion\\excursion\\learner.py\u001B[0m in \u001B[0;36mevaluate_and_tell\u001B[1;34m(self, x)\u001B[0m\n\u001B[0;32m     87\u001B[0m     \u001B[1;32mdef\u001B[0m \u001B[0mevaluate_and_tell\u001B[0m\u001B[1;33m(\u001B[0m\u001B[0mself\u001B[0m\u001B[1;33m,\u001B[0m \u001B[0mx\u001B[0m\u001B[1;33m)\u001B[0m\u001B[1;33m:\u001B[0m\u001B[1;33m\u001B[0m\u001B[1;33m\u001B[0m\u001B[0m\n\u001B[0;32m     88\u001B[0m         \u001B[0my\u001B[0m \u001B[1;33m=\u001B[0m \u001B[0mself\u001B[0m\u001B[1;33m.\u001B[0m\u001B[0mevaluate\u001B[0m\u001B[1;33m(\u001B[0m\u001B[0mx\u001B[0m\u001B[1;33m)\u001B[0m\u001B[1;33m\u001B[0m\u001B[1;33m\u001B[0m\u001B[0m\n\u001B[1;32m---> 89\u001B[1;33m         \u001B[1;32mreturn\u001B[0m \u001B[0mself\u001B[0m\u001B[1;33m.\u001B[0m\u001B[0mtell\u001B[0m\u001B[1;33m(\u001B[0m\u001B[0mx\u001B[0m\u001B[1;33m,\u001B[0m \u001B[0my\u001B[0m\u001B[1;33m)\u001B[0m\u001B[1;33m\u001B[0m\u001B[1;33m\u001B[0m\u001B[0m\n\u001B[0m\u001B[0;32m     90\u001B[0m \u001B[1;33m\u001B[0m\u001B[0m\n\u001B[0;32m     91\u001B[0m     \u001B[1;32mdef\u001B[0m \u001B[0mrun\u001B[0m\u001B[1;33m(\u001B[0m\u001B[0mself\u001B[0m\u001B[1;33m,\u001B[0m \u001B[0mn_iterations\u001B[0m\u001B[1;33m,\u001B[0m \u001B[0mplot_result\u001B[0m\u001B[1;33m=\u001B[0m\u001B[1;32mFalse\u001B[0m\u001B[1;33m,\u001B[0m \u001B[0mshow_confusion_matrix\u001B[0m\u001B[1;33m=\u001B[0m\u001B[1;32mFalse\u001B[0m\u001B[1;33m)\u001B[0m\u001B[1;33m:\u001B[0m\u001B[1;33m\u001B[0m\u001B[1;33m\u001B[0m\u001B[0m\n",
      "\u001B[1;32m~\\Documents\\excursion_project\\excursion\\excursion\\learner.py\u001B[0m in \u001B[0;36mtell\u001B[1;34m(self, x, y)\u001B[0m\n\u001B[0;32m     80\u001B[0m \u001B[1;33m\u001B[0m\u001B[0m\n\u001B[0;32m     81\u001B[0m     \u001B[1;32mdef\u001B[0m \u001B[0mtell\u001B[0m\u001B[1;33m(\u001B[0m\u001B[0mself\u001B[0m\u001B[1;33m,\u001B[0m \u001B[0mx\u001B[0m\u001B[1;33m,\u001B[0m \u001B[0my\u001B[0m\u001B[1;33m)\u001B[0m\u001B[1;33m:\u001B[0m\u001B[1;33m\u001B[0m\u001B[1;33m\u001B[0m\u001B[0m\n\u001B[1;32m---> 82\u001B[1;33m         \u001B[1;32mreturn\u001B[0m \u001B[0mself\u001B[0m\u001B[1;33m.\u001B[0m\u001B[0mestimator\u001B[0m\u001B[1;33m.\u001B[0m\u001B[0mtell\u001B[0m\u001B[1;33m(\u001B[0m\u001B[0mx\u001B[0m\u001B[1;33m,\u001B[0m \u001B[0my\u001B[0m\u001B[1;33m)\u001B[0m\u001B[1;33m\u001B[0m\u001B[1;33m\u001B[0m\u001B[0m\n\u001B[0m\u001B[0;32m     83\u001B[0m \u001B[1;33m\u001B[0m\u001B[0m\n\u001B[0;32m     84\u001B[0m     \u001B[1;32mdef\u001B[0m \u001B[0mevaluate\u001B[0m\u001B[1;33m(\u001B[0m\u001B[0mself\u001B[0m\u001B[1;33m,\u001B[0m \u001B[0mx\u001B[0m\u001B[1;33m)\u001B[0m\u001B[1;33m:\u001B[0m\u001B[1;33m\u001B[0m\u001B[1;33m\u001B[0m\u001B[0m\n",
      "\u001B[1;32m~\\Documents\\excursion_project\\excursion\\excursion\\optimize\\estimator.py\u001B[0m in \u001B[0;36mtell\u001B[1;34m(self, x, y, fit)\u001B[0m\n\u001B[0;32m    364\u001B[0m         \u001B[1;31m# x data and come from acquisition\u001B[0m\u001B[1;33m\u001B[0m\u001B[1;33m\u001B[0m\u001B[1;33m\u001B[0m\u001B[0m\n\u001B[0;32m    365\u001B[0m \u001B[1;33m\u001B[0m\u001B[0m\n\u001B[1;32m--> 366\u001B[1;33m         \u001B[1;32mreturn\u001B[0m \u001B[0mself\u001B[0m\u001B[1;33m.\u001B[0m\u001B[0m_tell\u001B[0m\u001B[1;33m(\u001B[0m\u001B[0mx\u001B[0m\u001B[1;33m,\u001B[0m \u001B[0my\u001B[0m\u001B[1;33m,\u001B[0m \u001B[0mfit\u001B[0m\u001B[1;33m=\u001B[0m\u001B[0mfit\u001B[0m\u001B[1;33m)\u001B[0m\u001B[1;33m\u001B[0m\u001B[1;33m\u001B[0m\u001B[0m\n\u001B[0m\u001B[0;32m    367\u001B[0m \u001B[1;33m\u001B[0m\u001B[0m\n\u001B[0;32m    368\u001B[0m     \u001B[1;32mdef\u001B[0m \u001B[0m_tell\u001B[0m\u001B[1;33m(\u001B[0m\u001B[0mself\u001B[0m\u001B[1;33m,\u001B[0m \u001B[0mx\u001B[0m\u001B[1;33m,\u001B[0m \u001B[0my\u001B[0m\u001B[1;33m,\u001B[0m \u001B[0mfit\u001B[0m\u001B[1;33m=\u001B[0m\u001B[1;32mTrue\u001B[0m\u001B[1;33m)\u001B[0m \u001B[1;33m->\u001B[0m \u001B[0mExcursionResult\u001B[0m\u001B[1;33m:\u001B[0m\u001B[1;33m\u001B[0m\u001B[1;33m\u001B[0m\u001B[0m\n",
      "\u001B[1;32m~\\Documents\\excursion_project\\excursion\\excursion\\optimize\\estimator.py\u001B[0m in \u001B[0;36m_tell\u001B[1;34m(self, x, y, fit)\u001B[0m\n\u001B[0;32m    379\u001B[0m             \u001B[0mself\u001B[0m\u001B[1;33m.\u001B[0m\u001B[0mmodel\u001B[0m\u001B[1;33m.\u001B[0m\u001B[0mupdate_model\u001B[0m\u001B[1;33m(\u001B[0m\u001B[0mx\u001B[0m\u001B[1;33m,\u001B[0m \u001B[0my\u001B[0m\u001B[1;33m)\u001B[0m\u001B[1;33m\u001B[0m\u001B[1;33m\u001B[0m\u001B[0m\n\u001B[0;32m    380\u001B[0m             \u001B[1;32mif\u001B[0m \u001B[0mself\u001B[0m\u001B[1;33m.\u001B[0m\u001B[0m_n_initial_points\u001B[0m \u001B[1;33m>\u001B[0m \u001B[1;36m0\u001B[0m\u001B[1;33m:\u001B[0m \u001B[0mself\u001B[0m\u001B[1;33m.\u001B[0m\u001B[0m_n_initial_points\u001B[0m \u001B[1;33m-=\u001B[0m \u001B[1;36m1\u001B[0m\u001B[1;33m\u001B[0m\u001B[1;33m\u001B[0m\u001B[0m\n\u001B[1;32m--> 381\u001B[1;33m             \u001B[1;32mif\u001B[0m \u001B[0mfit\u001B[0m\u001B[1;33m:\u001B[0m \u001B[0mself\u001B[0m\u001B[1;33m.\u001B[0m\u001B[0mmodel\u001B[0m\u001B[1;33m.\u001B[0m\u001B[0mfit_model\u001B[0m\u001B[1;33m(\u001B[0m\u001B[0mself\u001B[0m\u001B[1;33m.\u001B[0m\u001B[0mfit_optimizer\u001B[0m\u001B[1;33m)\u001B[0m\u001B[1;33m\u001B[0m\u001B[1;33m\u001B[0m\u001B[0m\n\u001B[0m\u001B[0;32m    382\u001B[0m             \u001B[1;31m# Build result of current state, _tell will update to state n+1\u001B[0m\u001B[1;33m\u001B[0m\u001B[1;33m\u001B[0m\u001B[1;33m\u001B[0m\u001B[0m\n\u001B[0;32m    383\u001B[0m             result = build_result(self.details, self.model, self.acq_func.log, x, device=self.device,\n",
      "\u001B[1;32m~\\Documents\\excursion_project\\excursion\\excursion\\models\\exactgp_.py\u001B[0m in \u001B[0;36mfit_model\u001B[1;34m(self, fit_optimizer)\u001B[0m\n\u001B[0;32m     47\u001B[0m \u001B[1;33m\u001B[0m\u001B[0m\n\u001B[0;32m     48\u001B[0m     \u001B[1;32mdef\u001B[0m \u001B[0mfit_model\u001B[0m\u001B[1;33m(\u001B[0m\u001B[0mself\u001B[0m\u001B[1;33m,\u001B[0m \u001B[0mfit_optimizer\u001B[0m\u001B[1;33m)\u001B[0m\u001B[1;33m:\u001B[0m\u001B[1;33m\u001B[0m\u001B[1;33m\u001B[0m\u001B[0m\n\u001B[1;32m---> 49\u001B[1;33m         \u001B[1;32mreturn\u001B[0m \u001B[0mfit_hyperparams\u001B[0m\u001B[1;33m(\u001B[0m\u001B[0mself\u001B[0m\u001B[1;33m,\u001B[0m \u001B[0mfit_optimizer\u001B[0m\u001B[1;33m)\u001B[0m\u001B[1;33m\u001B[0m\u001B[1;33m\u001B[0m\u001B[0m\n\u001B[0m\u001B[0;32m     50\u001B[0m \u001B[1;33m\u001B[0m\u001B[0m\n\u001B[0;32m     51\u001B[0m     \u001B[1;31m# def special_strict_check(self, inputs=None, targets=None):\u001B[0m\u001B[1;33m\u001B[0m\u001B[1;33m\u001B[0m\u001B[1;33m\u001B[0m\u001B[0m\n",
      "\u001B[1;32m~\\Documents\\excursion_project\\excursion\\excursion\\models\\fit.py\u001B[0m in \u001B[0;36mfit_hyperparams\u001B[1;34m(gp, optimizer)\u001B[0m\n\u001B[0;32m     34\u001B[0m             \u001B[0moutput\u001B[0m \u001B[1;33m=\u001B[0m \u001B[0mgp\u001B[0m\u001B[1;33m(\u001B[0m\u001B[0mX_train\u001B[0m\u001B[1;33m)\u001B[0m\u001B[1;33m\u001B[0m\u001B[1;33m\u001B[0m\u001B[0m\n\u001B[0;32m     35\u001B[0m             \u001B[1;31m# Calc loss and backprop gradients\u001B[0m\u001B[1;33m\u001B[0m\u001B[1;33m\u001B[0m\u001B[1;33m\u001B[0m\u001B[0m\n\u001B[1;32m---> 36\u001B[1;33m             \u001B[0mloss\u001B[0m \u001B[1;33m=\u001B[0m \u001B[1;33m-\u001B[0m\u001B[0mmll\u001B[0m\u001B[1;33m(\u001B[0m\u001B[0moutput\u001B[0m\u001B[1;33m,\u001B[0m \u001B[0my_train\u001B[0m\u001B[1;33m)\u001B[0m\u001B[1;33m\u001B[0m\u001B[1;33m\u001B[0m\u001B[0m\n\u001B[0m\u001B[0;32m     37\u001B[0m             \u001B[0mloss\u001B[0m\u001B[1;33m.\u001B[0m\u001B[0msum\u001B[0m\u001B[1;33m(\u001B[0m\u001B[1;33m)\u001B[0m\u001B[1;33m.\u001B[0m\u001B[0mbackward\u001B[0m\u001B[1;33m(\u001B[0m\u001B[0mretain_graph\u001B[0m\u001B[1;33m=\u001B[0m\u001B[1;32mTrue\u001B[0m\u001B[1;33m)\u001B[0m\u001B[1;33m\u001B[0m\u001B[1;33m\u001B[0m\u001B[0m\n\u001B[0;32m     38\u001B[0m             \u001B[0moptimizer\u001B[0m\u001B[1;33m.\u001B[0m\u001B[0mstep\u001B[0m\u001B[1;33m(\u001B[0m\u001B[1;33m)\u001B[0m\u001B[1;33m\u001B[0m\u001B[1;33m\u001B[0m\u001B[0m\n",
      "\u001B[1;32m~\\anaconda3\\envs\\jason_refactor\\lib\\site-packages\\gpytorch\\module.py\u001B[0m in \u001B[0;36m__call__\u001B[1;34m(self, *inputs, **kwargs)\u001B[0m\n\u001B[0;32m     28\u001B[0m \u001B[1;33m\u001B[0m\u001B[0m\n\u001B[0;32m     29\u001B[0m     \u001B[1;32mdef\u001B[0m \u001B[0m__call__\u001B[0m\u001B[1;33m(\u001B[0m\u001B[0mself\u001B[0m\u001B[1;33m,\u001B[0m \u001B[1;33m*\u001B[0m\u001B[0minputs\u001B[0m\u001B[1;33m,\u001B[0m \u001B[1;33m**\u001B[0m\u001B[0mkwargs\u001B[0m\u001B[1;33m)\u001B[0m\u001B[1;33m:\u001B[0m\u001B[1;33m\u001B[0m\u001B[1;33m\u001B[0m\u001B[0m\n\u001B[1;32m---> 30\u001B[1;33m         \u001B[0moutputs\u001B[0m \u001B[1;33m=\u001B[0m \u001B[0mself\u001B[0m\u001B[1;33m.\u001B[0m\u001B[0mforward\u001B[0m\u001B[1;33m(\u001B[0m\u001B[1;33m*\u001B[0m\u001B[0minputs\u001B[0m\u001B[1;33m,\u001B[0m \u001B[1;33m**\u001B[0m\u001B[0mkwargs\u001B[0m\u001B[1;33m)\u001B[0m\u001B[1;33m\u001B[0m\u001B[1;33m\u001B[0m\u001B[0m\n\u001B[0m\u001B[0;32m     31\u001B[0m         \u001B[1;32mif\u001B[0m \u001B[0misinstance\u001B[0m\u001B[1;33m(\u001B[0m\u001B[0moutputs\u001B[0m\u001B[1;33m,\u001B[0m \u001B[0mlist\u001B[0m\u001B[1;33m)\u001B[0m\u001B[1;33m:\u001B[0m\u001B[1;33m\u001B[0m\u001B[1;33m\u001B[0m\u001B[0m\n\u001B[0;32m     32\u001B[0m             \u001B[1;32mreturn\u001B[0m \u001B[1;33m[\u001B[0m\u001B[0m_validate_module_outputs\u001B[0m\u001B[1;33m(\u001B[0m\u001B[0moutput\u001B[0m\u001B[1;33m)\u001B[0m \u001B[1;32mfor\u001B[0m \u001B[0moutput\u001B[0m \u001B[1;32min\u001B[0m \u001B[0moutputs\u001B[0m\u001B[1;33m]\u001B[0m\u001B[1;33m\u001B[0m\u001B[1;33m\u001B[0m\u001B[0m\n",
      "\u001B[1;32m~\\anaconda3\\envs\\jason_refactor\\lib\\site-packages\\gpytorch\\mlls\\exact_marginal_log_likelihood.py\u001B[0m in \u001B[0;36mforward\u001B[1;34m(self, function_dist, target, *params)\u001B[0m\n\u001B[0;32m     60\u001B[0m         \u001B[1;31m# Get the log prob of the marginal distribution\u001B[0m\u001B[1;33m\u001B[0m\u001B[1;33m\u001B[0m\u001B[1;33m\u001B[0m\u001B[0m\n\u001B[0;32m     61\u001B[0m         \u001B[0moutput\u001B[0m \u001B[1;33m=\u001B[0m \u001B[0mself\u001B[0m\u001B[1;33m.\u001B[0m\u001B[0mlikelihood\u001B[0m\u001B[1;33m(\u001B[0m\u001B[0mfunction_dist\u001B[0m\u001B[1;33m,\u001B[0m \u001B[1;33m*\u001B[0m\u001B[0mparams\u001B[0m\u001B[1;33m)\u001B[0m\u001B[1;33m\u001B[0m\u001B[1;33m\u001B[0m\u001B[0m\n\u001B[1;32m---> 62\u001B[1;33m         \u001B[0mres\u001B[0m \u001B[1;33m=\u001B[0m \u001B[0moutput\u001B[0m\u001B[1;33m.\u001B[0m\u001B[0mlog_prob\u001B[0m\u001B[1;33m(\u001B[0m\u001B[0mtarget\u001B[0m\u001B[1;33m)\u001B[0m\u001B[1;33m\u001B[0m\u001B[1;33m\u001B[0m\u001B[0m\n\u001B[0m\u001B[0;32m     63\u001B[0m         \u001B[0mres\u001B[0m \u001B[1;33m=\u001B[0m \u001B[0mself\u001B[0m\u001B[1;33m.\u001B[0m\u001B[0m_add_other_terms\u001B[0m\u001B[1;33m(\u001B[0m\u001B[0mres\u001B[0m\u001B[1;33m,\u001B[0m \u001B[0mparams\u001B[0m\u001B[1;33m)\u001B[0m\u001B[1;33m\u001B[0m\u001B[1;33m\u001B[0m\u001B[0m\n\u001B[0;32m     64\u001B[0m \u001B[1;33m\u001B[0m\u001B[0m\n",
      "\u001B[1;32m~\\anaconda3\\envs\\jason_refactor\\lib\\site-packages\\gpytorch\\distributions\\multivariate_normal.py\u001B[0m in \u001B[0;36mlog_prob\u001B[1;34m(self, value)\u001B[0m\n\u001B[0;32m    169\u001B[0m         \u001B[0minv_quad\u001B[0m\u001B[1;33m,\u001B[0m \u001B[0mlogdet\u001B[0m \u001B[1;33m=\u001B[0m \u001B[0mcovar\u001B[0m\u001B[1;33m.\u001B[0m\u001B[0minv_quad_logdet\u001B[0m\u001B[1;33m(\u001B[0m\u001B[0minv_quad_rhs\u001B[0m\u001B[1;33m=\u001B[0m\u001B[0mdiff\u001B[0m\u001B[1;33m.\u001B[0m\u001B[0munsqueeze\u001B[0m\u001B[1;33m(\u001B[0m\u001B[1;33m-\u001B[0m\u001B[1;36m1\u001B[0m\u001B[1;33m)\u001B[0m\u001B[1;33m,\u001B[0m \u001B[0mlogdet\u001B[0m\u001B[1;33m=\u001B[0m\u001B[1;32mTrue\u001B[0m\u001B[1;33m)\u001B[0m\u001B[1;33m\u001B[0m\u001B[1;33m\u001B[0m\u001B[0m\n\u001B[0;32m    170\u001B[0m \u001B[1;33m\u001B[0m\u001B[0m\n\u001B[1;32m--> 171\u001B[1;33m         \u001B[0mres\u001B[0m \u001B[1;33m=\u001B[0m \u001B[1;33m-\u001B[0m\u001B[1;36m0.5\u001B[0m \u001B[1;33m*\u001B[0m \u001B[0msum\u001B[0m\u001B[1;33m(\u001B[0m\u001B[1;33m[\u001B[0m\u001B[0minv_quad\u001B[0m\u001B[1;33m,\u001B[0m \u001B[0mlogdet\u001B[0m\u001B[1;33m,\u001B[0m \u001B[0mdiff\u001B[0m\u001B[1;33m.\u001B[0m\u001B[0msize\u001B[0m\u001B[1;33m(\u001B[0m\u001B[1;33m-\u001B[0m\u001B[1;36m1\u001B[0m\u001B[1;33m)\u001B[0m \u001B[1;33m*\u001B[0m \u001B[0mmath\u001B[0m\u001B[1;33m.\u001B[0m\u001B[0mlog\u001B[0m\u001B[1;33m(\u001B[0m\u001B[1;36m2\u001B[0m \u001B[1;33m*\u001B[0m \u001B[0mmath\u001B[0m\u001B[1;33m.\u001B[0m\u001B[0mpi\u001B[0m\u001B[1;33m)\u001B[0m\u001B[1;33m]\u001B[0m\u001B[1;33m)\u001B[0m\u001B[1;33m\u001B[0m\u001B[1;33m\u001B[0m\u001B[0m\n\u001B[0m\u001B[0;32m    172\u001B[0m         \u001B[1;32mreturn\u001B[0m \u001B[0mres\u001B[0m\u001B[1;33m\u001B[0m\u001B[1;33m\u001B[0m\u001B[0m\n\u001B[0;32m    173\u001B[0m \u001B[1;33m\u001B[0m\u001B[0m\n",
      "\u001B[1;31mKeyboardInterrupt\u001B[0m: "
     ]
    }
   ],
   "source": [
    "means = []\n",
    "stdev = []\n",
    "for n in updates:\n",
    "    runs = []\n",
    "    for run in range(10):\n",
    "        learner_one = Learner(testcase_1D, algorithm_opts)\n",
    "        learner_one.initialize()\n",
    "\n",
    "\n",
    "        start_time = time.process_time()\n",
    "\n",
    "        n_updates = n\n",
    "        #save results in folder\n",
    "        # timestampStr = datetime.datetime.now().strftime('%d-%b-%Y_%H_%M_%S') + '\\\\'\n",
    "        # outputfolder = r'C:\\Users\\excursion\\Documents\\excursion_project\\excursion\\examples\\results'\n",
    "        # outputfolder = os.path.join(outputfolder, timestampStr)\n",
    "        # os.makedirs(outputfolder)\n",
    "\n",
    "        for iteration in range(n_updates):\n",
    "            x_one = learner_one.suggest()\n",
    "            result_one = learner_one.evaluate_and_tell(x_one)\n",
    "\n",
    "        #save results\n",
    "        end_time = time.process_time() - start_time\n",
    "\n",
    "        # estimator.print_results(outputfolder, testcase_details, algorithm_opts)\n",
    "\n",
    "\n",
    "        runs.append(end_time)\n",
    "\n",
    "    runs = pd.Series(runs)\n",
    "    stdev.append(runs.std(ddof=0))\n",
    "    means.append(runs.mean())"
   ],
   "metadata": {
    "collapsed": false,
    "pycharm": {
     "name": "#%%\n"
    }
   }
  },
  {
   "cell_type": "code",
   "execution_count": 5,
   "outputs": [],
   "source": [
    "output = pd.DataFrame(data = {'mean': means, 'stdev': stdev}, dtype=float)\n",
    "\n",
    "timestampStr = datetime.datetime.now().strftime('%d-%b-%Y_%H_%M_%S') + '\\\\'\n",
    "outputfolder = r'C:\\Users\\excursion\\Documents\\excursion_project\\excursion\\examples\\results'\n",
    "outputfolder = os.path.join(outputfolder, timestampStr)\n",
    "os.makedirs(outputfolder)\n",
    "\n",
    "with open(outputfolder + \"rf_gpu_mes.json\", \"w\") as f:\n",
    "    output.to_json(path_or_buf=f, indent=4)"
   ],
   "metadata": {
    "collapsed": false,
    "pycharm": {
     "name": "#%%\n"
    }
   }
  },
  {
   "cell_type": "code",
   "source": [
    "\n",
    "with open(r'C:\\Users\\excursion\\Documents\\excursion_project\\no_git\\jason_refactor\\examples\\results\\06-Jul-2021_07_24_33\\jrf.json', \"r\") as f:\n",
    "    jrf = pd.io.json.read_json(path_or_buf=f, typ='frame', dtype=float)\n",
    "\n",
    "with open(r'C:\\Users\\excursion\\Documents\\excursion_project\\no_git\\irina_developer\\examples\\results\\06-Jul-2021_08_12_28\\jrf.json', \"r\") as f:\n",
    "    idev = pd.io.json.read_json(path_or_buf=f, typ='frame', dtype=float)\n",
    "\n",
    "with open(r'C:\\Users\\excursion\\Documents\\excursion_project\\no_git\\lukas_master\\examples\\results\\06-Jul-2021_09_35_17\\lm.json', \"r\") as f:\n",
    "    lm = pd.io.json.read_json(path_or_buf=f, typ='frame', dtype=float)\n",
    "\n",
    "with open(r'C:\\Users\\excursion\\Documents\\excursion_project\\no_git\\diana_hep\\examples\\results\\06-Jul-2021_13_52_40\\lm.json', \"r\") as f:\n",
    "    diana = pd.io.json.read_json(path_or_buf=f, typ='frame', dtype=float)\n",
    "\n",
    "with open(r'C:\\Users\\excursion\\Documents\\excursion_project\\excursion\\examples\\results\\09-Jul-2021_22_06_15\\jrf.json', \"r\") as f:\n",
    "    jrfgpu = pd.io.json.read_json(path_or_buf=f, typ='frame', dtype=float)\n",
    "\n",
    "with open(r'C:\\Users\\excursion\\Documents\\excursion_project\\excursion\\examples\\results\\10-Jul-2021_03_03_57\\rf_gpu_pes.json', \"r\") as f:\n",
    "    jrfgpupes = pd.io.json.read_json(path_or_buf=f, typ='frame', dtype=float)\n",
    "\n",
    "# with open(r'C:\\Users\\excursion\\Documents\\excursion_project\\excursion\\examples\\results\\10-Jul-2021_03_03_57\\rf_gpu_pes.json', \"r\") as f:\n",
    "#     jrfgpumes = pd.io.json.read_json(path_or_buf=f, typ='frame', dtype=float)\n",
    "#\n"
   ],
   "metadata": {
    "collapsed": false,
    "pycharm": {
     "name": "#%%\n"
    }
   },
   "execution_count": null,
   "outputs": []
  },
  {
   "cell_type": "raw",
   "source": [
    "\n",
    "plt.plot(jrf.index.to_list(), jrf['mean_jrf'], )\n",
    "plt.plot(jrf.index.to_list(), idev['mean_jrf'])\n",
    "plt.plot(jrf.index.to_list(), lm['mean_lm'])\n",
    "plt.plot(jrfgpu.index.to_list(), jrfgpu['mean'])\n",
    "plt.plot(diana.index.to_list(), diana['mean_lm'])\n",
    "plt.plot(jrfgpupes.index.to_list(), jrfgpupes['mean'])\n",
    "\n",
    "\n",
    "plt.legend()\n"
   ],
   "metadata": {
    "collapsed": false,
    "pycharm": {
     "name": "#%% raw\n"
    }
   }
  }
 ],
 "metadata": {
  "kernelspec": {
   "name": "pycharm-15431b4e",
   "language": "python",
   "display_name": "PyCharm (jason_refactor)"
  },
  "language_info": {
   "codemirror_mode": {
    "name": "ipython",
    "version": 2
   },
   "file_extension": ".py",
   "mimetype": "text/x-python",
   "name": "python",
   "nbconvert_exporter": "python",
   "pygments_lexer": "ipython2",
   "version": "2.7.6"
  }
 },
 "nbformat": 4,
 "nbformat_minor": 0
}