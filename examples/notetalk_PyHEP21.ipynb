{
 "cells": [
  {
   "cell_type": "markdown",
   "metadata": {},
   "source": [
    "# Active Learning for Level Set Estimation of Black Box functions\n",
    "\n",
    "Talk for [PyHEP2021](https://indico.cern.ch/event/1019958/) by [Irina Espejo](https://irinaespejo.github.io/)\n",
    "\n",
    "Work by [Lukas Heinrich](http://www.lukasheinrich.com/), [Gilles Louppe](https://glouppe.github.io/), [Irina Espejo](https://irinaespejo.github.io/), [Patrick Rieck](https://inspirehep.net/authors/1078568) and [Kyle Cranmer](http://theoryandpractice.org/)\n",
    "\n",
    "<img src=\"../assets/thankyou.jpg\" alt=\"Coauthors\" title=\"Co-authors\" width=\"550\" height=\"300\" />"
   ]
  },
  {
   "cell_type": "markdown",
   "metadata": {},
   "source": [
    "## TOC\n",
    "* [1. What is this about?](#1)\n",
    "* [2. Setting of the problem](#2)\n",
    "* [3. Specify the Gaussian Process prior](#3)\n",
    "* * [3.1. Casual user](#3.1)\n",
    "* * [3.2. Advanced](#3.2)\n",
    "* [4. Initialize excursion](#4)\n",
    "* [5. Active Learning](#5)\n",
    "* [6. 2D example](#2d)\n",
    "* [7. 4D example](#4d)\n",
    "* [7. Further work](#further)"
   ]
  },
  {
   "cell_type": "markdown",
   "metadata": {},
   "source": [
    "## 1. What is this about and why do I care? <a class=\"anchor\" id=\"1\"></a>\n",
    "\n",
    "- We care because this <bottom arrow> type of plot is the end step of a HEP experimental analysis. \n",
    "  \n",
    "  They are also incredibly expensive to produce, evaluating each point has high latency of days or weeks. \n",
    "  \n",
    "  **That is why we want to query the simulators pipeline as few times as possible while having an accurate estimation of the level sets**.\n",
    "  \n",
    "\n",
    "  <img src=\"../assets/ATLAS_contour.png\" alt=\"Contour\" title=\"A typical exclusion plot for a HEP analysis\" width=\"400\" height=\"400\" class=\"center\" />\n",
    "\n",
    "\n",
    "- The computational cost of the black box limits granularity and dimensionality of \n",
    "  scans and the quality of exclusion regions.\n",
    "\n",
    "\n",
    "\n",
    "- _What can we do to scale this process up_? This tutorial shows how to use `excursion`. \n",
    "  \n",
    "  It is a confluence of Active Learning with Gaussian Process Regression with [GPytorch](https://gpytorch.ai/) support"
   ]
  },
  {
   "cell_type": "markdown",
   "metadata": {},
   "source": [
    "## 2. Setting of the problem <a class=\"anchor\" id=\"2\"></a>\n",
    "\n",
    "Here is a function in 3D and a visualization of different level sets wrt different thresholds.\n",
    "\n",
    "In out case, the 3D surface is a p-value or CLs surface and the domain of the function are free parameters from a New Physics theory.\n",
    "\n",
    "We want to find the shape of a level set for a fixed confidence level.\n",
    "\n",
    "  <img src=\"../assets/level-set.png\" alt=\"level-set\" title=\"Several level sets for a function\" width=\"400\" height=\"300\" class=\"center\" />\n",
    "\n",
    "\n",
    "\n",
    "### Formal setting\n",
    "\n",
    "\n",
    "We have a black box function $f_{BB}(\\theta): \\mathbb{R}^d \\rightarrow \\mathbb{R}$ and a threshold $t \\in \\mathbb{R}$. \n",
    "\n",
    "\n",
    "Each evaluation $f_{BB}(\\theta_0)$ takes a long long time to process.\n",
    "\n",
    "\n",
    "We want to find the level set $E_t(f_{BB}) = \\{ \\theta \\in \\mathbb{R}^d | f_{BB}(\\theta) = t\\}$\n",
    "\n",
    "\n",
    "with as few queries to $f_{BB}$ as possible\n",
    "\n",
    "\n",
    "\n",
    "### The method\n",
    "\n",
    "1. Start with dataset $\\mathcal{D}_i = \\{  (\\theta_i, f_{BB}(\\theta_i)) \\}_i$\n",
    "   \n",
    "2. Train a Gaussian process   $Y | \\mathcal{D}$    and now we have a predictive mean  and covariance\n",
    "   \n",
    "3. Evaluate the acquisition function    $U_t(\\theta)$    for all $\\theta$ (cheap) using the GP posterior\n",
    "   \n",
    "4. Select new point in this way $\\theta^* = \\text{argmax}_\\theta U_t(\\theta)$ \n",
    "    \n",
    "5. Query the simulator at     $\\theta^*$       and update dataset $\\mathcal{D}_{i+1} \\leftarrow  \\mathcal{D}_i\\ , (\\theta^*, f_{BB}(\\theta^*))$\n",
    "\n",
    "\n",
    "### Comparison with Bayesian Optimization\n",
    "Our method might seem the same as Bayesian Optimization in structure.\n",
    "But, our target set is a curve not a point.\n",
    "\n",
    "<img src=\"../assets/BO.jpg\" alt=\"BO\" title=\"Comparison\" width=\"650\" height=\"350\" class=\"center\" />\n",
    "\n",
    "There are useful packages that implement Bayesian Optimization methods \n",
    "\n",
    "that have inspired our library:\n",
    "\n",
    "- Scikit-optimize [link](https://scikit-optimize.github.io/stable/) with an Ask & Tell API and based on scikit-learn\n",
    "    \n",
    "\n",
    "- BoTorch [link](https://botorch.org/) with a step API an based on [GPyTorch](https://gpytorch.ai/) which at its time is based on Torch.\n",
    "\n",
    "\n",
    "\n",
    "Let's start with a 1D example to have better visualizations. "
   ]
  },
  {
   "cell_type": "code",
   "execution_count": 1,
   "metadata": {},
   "outputs": [],
   "source": [
    "%load_ext autoreload\n",
    "%autoreload 2\n",
    "import numpy as np\n",
    "np.warnings.filterwarnings('ignore')"
   ]
  },
  {
   "cell_type": "code",
   "execution_count": 2,
   "metadata": {},
   "outputs": [
    {
     "data": {
      "image/png": "[encoded data removed]",
      "text/plain": [
       "<Figure size 432x288 with 1 Axes>"
      ]
     },
     "metadata": {
      "needs_background": "light"
     },
     "output_type": "display_data"
    }
   ],
   "source": [
    "# import testcase \n",
    "import excursion.testcases.fast_1D as testcase_1d\n",
    "\n",
    "#plot testcase \n",
    "from excursion.plotting import plot_testcase_1d\n",
    "plot_testcase_1d(testcase_1d, tol=0.05)"
   ]
  },
  {
   "cell_type": "markdown",
   "metadata": {},
   "source": [
    "## 3. Specify the Gaussian Process prior\n",
    "\n",
    "We use a Gaussian Process as a surrogate model for the Black Box function.\n",
    "Gaussian Processes are non-parametric models where inductive bias is specified by the choice of mean and kernel. The observational model is specified by the likelihood.\n",
    "GPyTorch has support for these [means](https://docs.gpytorch.ai/en/stable/means.html), [kernels](https://docs.gpytorch.ai/en/stable/kernels.html), [likelihoods](https://docs.gpytorch.ai/en/stable/models.html) and [inference models](https://docs.gpytorch.ai/en/stable/models.html)\n",
    "\n",
    "We will use a constant mean, an RBF kernel $k(X, X') = C \\exp{\\left( -\\frac{|| X-X' ||^2}{2l^2} \\right)}$ and Exact Inference (no noise is added to the Black Box observation)"
   ]
  },
  {
   "cell_type": "markdown",
   "metadata": {},
   "source": [
    "We anticipate two types of users:\n",
    "\n",
    "- Casual user for out-of-the-box usage and small tweaks\n",
    "  \n",
    "- Advanced user who wants to have full control of all the moving parts _without_ messing with       source code"
   ]
  },
  {
   "cell_type": "markdown",
   "metadata": {},
   "source": [
    "### 3.1 Casual user"
   ]
  },
  {
   "cell_type": "code",
   "execution_count": 3,
   "metadata": {},
   "outputs": [],
   "source": [
    "#load pre-existent algorithm options\n",
    "import yaml\n",
    "file = open('../excursion/testcases/algorithms/algorithm_specs.yaml', \"r\")\n",
    "algorithm_opts = yaml.safe_load(file)"
   ]
  },
  {
   "cell_type": "code",
   "execution_count": 4,
   "metadata": {},
   "outputs": [
    {
     "name": "stdout",
     "output_type": "stream",
     "text": [
      "X_init  tensor([0.1313, 0.1515], dtype=torch.float64)\n",
      "y_init  [tensor([6.0503, 5.9138], dtype=torch.float64)]\n"
     ]
    }
   ],
   "source": [
    "#is there GPU?\n",
    "import torch\n",
    "if torch.cuda.is_available():\n",
    "    device = torch.device('cuda')\n",
    "else:\n",
    "    device = torch.device('cpu')\n",
    "\n",
    "#initialize likelihood and GP with out-of-the-box options selected before\n",
    "from excursion import init_gp\n",
    "models, likelihood = init_gp(testcase_1d,             \\\n",
    "                             algorithm_opts,          \\\n",
    "                             device)"
   ]
  },
  {
   "cell_type": "code",
   "execution_count": 5,
   "metadata": {},
   "outputs": [
    {
     "data": {
      "image/png": "[encoded data removed]",
      "text/plain": [
       "<Figure size 504x360 with 1 Axes>"
      ]
     },
     "metadata": {
      "needs_background": "light"
     },
     "output_type": "display_data"
    }
   ],
   "source": [
    "#plot gaussian process initialization\n",
    "import excursion.plotting.onedim as plots\n",
    "model = models[0]\n",
    "plots.plot_GP(model, testcase_1d)"
   ]
  },
  {
   "cell_type": "markdown",
   "metadata": {},
   "source": [
    "### 3.2 Advanced user"
   ]
  },
  {
   "cell_type": "code",
   "execution_count": 6,
   "metadata": {},
   "outputs": [
    {
     "data": {
      "text/plain": [
       "'\\nimport gpytorch\\n\\nclass ExactGPModel(gpytorch.models.ExactGP):\\n    def __init__(self, train_x, train_y, likelihood):\\n        super(ExactGPModel, self).__init__(train_x, train_y, likelihood)\\n        self.mean_module = gpytorch.means.ConstantMean()\\n        self.covar_module = gpytorch.kernels.ScaleKernel(gpytorch.kernels.RBFKernel())\\n\\n    def forward(self, x):\\n        mean_x = self.mean_module(x)\\n        covar_x = self.covar_module(x)\\n        return gpytorch.distributions.MultivariateNormal(mean_x, covar_x)\\n\\n#initialize likelihood and GP\\nlikelihood = gpytorch.likelihoods.GaussianLikelihood()\\nmodel = ExactGPModel(train_x, train_y, likelihood)\\n\\n# fit hyperparameters\\nmodel.train()\\nlikelihood.train()\\nexcursion.fit_hyperparams(model,likelihood)\\n\\n#plot gaussian process initialization\\nimport excursion.plotting.onedim as plots\\nplots.plot_GP(model, testcase_1d)\\n'"
      ]
     },
     "execution_count": 6,
     "metadata": {},
     "output_type": "execute_result"
    }
   ],
   "source": [
    "# FOR REFERENCE ONLY\n",
    "# we will use the out of the box approach for the PyHEP21 tutorial\n",
    "'''\n",
    "import gpytorch\n",
    "\n",
    "class ExactGPModel(gpytorch.models.ExactGP):\n",
    "    def __init__(self, train_x, train_y, likelihood):\n",
    "        super(ExactGPModel, self).__init__(train_x, train_y, likelihood)\n",
    "        self.mean_module = gpytorch.means.ConstantMean()\n",
    "        self.covar_module = gpytorch.kernels.ScaleKernel(gpytorch.kernels.RBFKernel())\n",
    "\n",
    "    def forward(self, x):\n",
    "        mean_x = self.mean_module(x)\n",
    "        covar_x = self.covar_module(x)\n",
    "        return gpytorch.distributions.MultivariateNormal(mean_x, covar_x)\n",
    "\n",
    "#initialize likelihood and GP\n",
    "likelihood = gpytorch.likelihoods.GaussianLikelihood()\n",
    "model = ExactGPModel(train_x, train_y, likelihood)\n",
    "\n",
    "# fit hyperparameters\n",
    "model.train()\n",
    "likelihood.train()\n",
    "excursion.fit_hyperparams(model,likelihood)\n",
    "\n",
    "#plot gaussian process initialization\n",
    "import excursion.plotting.onedim as plots\n",
    "plots.plot_GP(model, testcase_1d)\n",
    "'''\n"
   ]
  },
  {
   "cell_type": "markdown",
   "metadata": {},
   "source": [
    "## 4. Initialize  Excursion Set Estimator <a class=\"anchor\" id=\"4\"></a>\n",
    "\n",
    "The `ExcursionSetExtimator()`  object keeps internal track of the status of the Level Set Estimation.\n",
    "\n",
    "For instance, stores the \"next evaluation\" suggestions, queries the black box and updates the Gaussian Process posterior."
   ]
  },
  {
   "cell_type": "code",
   "execution_count": 7,
   "metadata": {},
   "outputs": [],
   "source": [
    "from excursion import ExcursionSetEstimator\n",
    "estimator = ExcursionSetEstimator(testcase_1d,    \\\n",
    "                                  algorithm_opts, \\\n",
    "                                  models,         \\\n",
    "                                  likelihood,     \\\n",
    "                                  device)"
   ]
  },
  {
   "cell_type": "markdown",
   "metadata": {},
   "source": [
    "## 5. Active Learning <a class=\"anchor\" id=\"5\"></a>\n",
    "\n",
    "Now we will find which is the next point to query through the black box function."
   ]
  },
  {
   "cell_type": "code",
   "execution_count": 8,
   "metadata": {},
   "outputs": [],
   "source": [
    "import os \n",
    "import datetime\n",
    "\n",
    "#save results in folder\n",
    "n_updates = algorithm_opts['nupdates']\n",
    "timestampStr = datetime.datetime.now().strftime(\"%d-%b-%Y_%H:%M:%S\") + \"/\"\n",
    "outputfolder = \"../examples/results/\" +  timestampStr\n",
    "os.makedirs(outputfolder)"
   ]
  },
  {
   "cell_type": "code",
   "execution_count": 9,
   "metadata": {},
   "outputs": [],
   "source": [
    "%%capture wontshutup --no-stderr\n",
    "\n",
    "for iteration in range(1, n_updates+1):    \n",
    "    #take a step forward: find new points to evaluate\n",
    "    estimator.step(testcase_1d, algorithm_opts, models, likelihood)\n",
    "    #plot the new status\n",
    "    estimator.plot_status(\n",
    "            testcase_1d, algorithm_opts, models, estimator.acq_values, outputfolder);\n",
    "    \n",
    "    #update the posterior of the GP wrt the new points\n",
    "    models = estimator.update_posterior(testcase_1d, algorithm_opts, models, likelihood)\n",
    "    \n",
    "    #get diagnostics (accuracy metric)\n",
    "    estimator.get_diagnostics(testcase_1d, models, likelihood)\n",
    "    \n",
    "#save results\n",
    "estimator.print_results(outputfolder, testcase_1d, algorithm_opts)\n"
   ]
  },
  {
   "cell_type": "code",
   "execution_count": 10,
   "metadata": {},
   "outputs": [
    {
     "name": "stdout",
     "output_type": "stream",
     "text": [
      "Iteration  1\n",
      "x_new tensor([[0.6566]], dtype=torch.float64)\n",
      "pct  0.78\n",
      "Iteration  2\n",
      "x_new tensor([[0.8586]], dtype=torch.float64)\n",
      "pct  0.86\n",
      "Iteration  3\n",
      "x_new tensor([[0.9899]], dtype=torch.float64)\n",
      "pct  0.92\n",
      "Iteration  4\n",
      "x_new tensor([[0.8081]], dtype=torch.float64)\n",
      "pct  0.8\n",
      "Iteration  5\n",
      "x_new tensor([[0.3535]], dtype=torch.float64)\n",
      "pct  0.95\n",
      "Iteration  6\n",
      "x_new tensor([[0.]], dtype=torch.float64)\n",
      "pct  0.95\n",
      "Iteration  7\n",
      "x_new tensor([[0.5455]], dtype=torch.float64)\n",
      "pct  1.0\n",
      "Iteration  8\n",
      "x_new tensor([[0.0101]], dtype=torch.float64)\n",
      "pct  1.0\n",
      "Iteration  9\n",
      "x_new tensor([[0.0202]], dtype=torch.float64)\n",
      "pct  1.0\n",
      "Iteration  10\n",
      "x_new tensor([[0.0303]], dtype=torch.float64)\n",
      "pct  1.0\n",
      "Iteration  11\n",
      "x_new tensor([[0.0404]], dtype=torch.float64)\n",
      "pct  1.0\n",
      "Iteration  12\n",
      "x_new tensor([[0.0505]], dtype=torch.float64)\n",
      "pct  1.0\n",
      "Iteration  13\n",
      "x_new tensor([[0.0606]], dtype=torch.float64)\n",
      "pct  1.0\n",
      "Iteration  14\n",
      "x_new tensor([[0.0707]], dtype=torch.float64)\n",
      "pct  1.0\n",
      "Iteration  15\n",
      "x_new tensor([[0.0808]], dtype=torch.float64)\n",
      "pct  1.0\n",
      "Printing results...\n",
      "\n"
     ]
    }
   ],
   "source": [
    "print(wontshutup)"
   ]
  },
  {
   "cell_type": "code",
   "execution_count": 11,
   "metadata": {},
   "outputs": [
    {
     "data": {
      "image/png": "[encoded data removed]",
      "text/plain": [
       "<IPython.core.display.Image object>"
      ]
     },
     "execution_count": 11,
     "metadata": {},
     "output_type": "execute_result"
    }
   ],
   "source": [
    "#print accuracy plot\n",
    "from IPython.display import Image\n",
    "filename=f\"{os.getcwd()}/results/{timestampStr}/pct_correct_MES gpu_random.png\"\n",
    "Image(filename) \n"
   ]
  },
  {
   "cell_type": "code",
   "execution_count": 12,
   "metadata": {},
   "outputs": [
    {
     "data": {
      "application/vnd.jupyter.widget-view+json": {
       "model_id": "cfe409cf2b7b41959171be4289a4bc29",
       "version_major": 2,
       "version_minor": 0
      },
      "text/plain": [
       "interactive(children=(IntSlider(value=0, description='Iteration ', max=14), Output()), _dom_classes=('widget-i…"
      ]
     },
     "metadata": {},
     "output_type": "display_data"
    }
   ],
   "source": [
    "#Let's visualize each iteration with a widget\n",
    "import ipywidgets as widgets\n",
    "from IPython.display import display\n",
    "from IPython.html.widgets import interact\n",
    "from natsort import natsorted\n",
    "\n",
    "#load images\n",
    "path = f\"{os.getcwd()}/results/{timestampStr}\"\n",
    "imgs = list(filter(lambda fn:fn.startswith('1D'), os.listdir(path)))\n",
    "imgs = natsorted(imgs, key=lambda y: y.lower())\n",
    "def loadimg(k):\n",
    "    display(Image(open(os.path.join(path,imgs[k]),'rb').read()))\n",
    "\n",
    "#slider\n",
    "w = widgets.IntSlider(\n",
    "    min=0,\n",
    "    max=len(imgs)-1,\n",
    "    step=1,\n",
    "    description='Iteration ',\n",
    "    value=0\n",
    ")\n",
    "interact(loadimg, k = w);"
   ]
  },
  {
   "cell_type": "markdown",
   "metadata": {},
   "source": [
    "### Noisy observations\n",
    "\n",
    "Excursion also has support for noisy observations of the black box function. The observations $y(\\theta)$ are given by\n",
    "\n",
    "$$\n",
    "y(\\theta) = f_{BB}(\\theta) + \\epsilon(x)\n",
    "$$\n",
    "\n",
    "The distribution $\\epsilon(x)$ models the error we make when measuring $f_{BB}(x)$.\n",
    "In this example we are going to use $\\epsilon(x) \\sim \\mathcal{N}(0, \\sigma^2)$ with $\\sigma^2 = 1$."
   ]
  },
  {
   "cell_type": "code",
   "execution_count": 21,
   "metadata": {},
   "outputs": [
    {
     "name": "stdout",
     "output_type": "stream",
     "text": [
      "X_init  tensor([1.1111, 3.7374], dtype=torch.float64)\n",
      "y_init  [tensor([0.9148, 0.4406], dtype=torch.float64)]\n"
     ]
    },
    {
     "data": {
      "image/png": "[encoded data removed]",
      "text/plain": [
       "<Figure size 504x360 with 1 Axes>"
      ]
     },
     "metadata": {
      "needs_background": "light"
     },
     "output_type": "display_data"
    }
   ],
   "source": [
    "# REPEAT CASUAL USER COMMANDS\n",
    "import excursion.testcases.fast_1D_noise as testcase_1d\n",
    "# load specs \n",
    "file = open('../excursion/testcases/algorithms/algorithm_specs_noise.yaml', \"r\")\n",
    "algorithm_opts = yaml.safe_load(file)\n",
    "\n",
    "#initialize a GP\n",
    "models, likelihood = init_gp(testcase_1d,  algorithm_opts,  device)\n",
    "#save output\n",
    "n_updates = 50\n",
    "timestampStr = datetime.datetime.now().strftime(\"%d-%b-%Y_%H:%M:%S\") + \"/\"\n",
    "outputfolder = \"../examples/results/\" +  timestampStr\n",
    "os.makedirs(outputfolder)\n",
    "\n",
    "#plot initialization\n",
    "model = models[0]\n",
    "plots.plot_GP(model, testcase_1d)"
   ]
  },
  {
   "cell_type": "code",
   "execution_count": 22,
   "metadata": {},
   "outputs": [],
   "source": [
    "%%capture wontshutup2 --no-stderr\n",
    "#run Active Learning\n",
    "estimator = ExcursionSetEstimator(testcase_1d,    \\\n",
    "                                  algorithm_opts, \\\n",
    "                                  models,         \\\n",
    "                                  likelihood,     \\\n",
    "                                  device)\n",
    "\n",
    "for iteration in range(1, n_updates+1):    \n",
    "    estimator.step(testcase_1d, algorithm_opts, models, likelihood)\n",
    "    estimator.plot_status(\n",
    "            testcase_1d, algorithm_opts, models, estimator.acq_values, outputfolder);\n",
    "    \n",
    "    models = estimator.update_posterior(testcase_1d, algorithm_opts, models, likelihood)\n",
    "    estimator.get_diagnostics(testcase_1d, models, likelihood)\n",
    "    \n",
    "estimator.print_results(outputfolder, testcase_1d, algorithm_opts)"
   ]
  },
  {
   "cell_type": "code",
   "execution_count": 15,
   "metadata": {},
   "outputs": [
    {
     "data": {
      "application/vnd.jupyter.widget-view+json": {
       "model_id": "cfecc744c4d14e63b3192e929d4b31a2",
       "version_major": 2,
       "version_minor": 0
      },
      "text/plain": [
       "interactive(children=(IntSlider(value=0, description='Iteration ', max=49), Output()), _dom_classes=('widget-i…"
      ]
     },
     "metadata": {},
     "output_type": "display_data"
    }
   ],
   "source": [
    "#load images\n",
    "path = f\"{os.getcwd()}/results/{timestampStr}\"\n",
    "imgs = list(filter(lambda fn:fn.startswith('1D'), os.listdir(path)))\n",
    "imgs = natsorted(imgs, key=lambda y: y.lower())\n",
    "  \n",
    "#slider\n",
    "w = widgets.IntSlider(min=0, max=len(imgs)-1, step=1, description='Iteration ', value=0)\n",
    "interact(loadimg, k = w);"
   ]
  },
  {
   "cell_type": "markdown",
   "metadata": {},
   "source": [
    "End of the 1D tutorial!"
   ]
  },
  {
   "cell_type": "markdown",
   "metadata": {},
   "source": [
    "## 2D example with multiple functions <a class=\"anchor\" id=\"2d\"></a>\n",
    "\n",
    "The package also ofers simultaneous level set estimation for two different functions. \n",
    "Note that the more similar the functions are, the less iterations are necessary to estimate all level sets.\n",
    "With the exact same procedure as described above but in 2 dimensions we can achieve:\n",
    "\n",
    "\n",
    "<img src=\"../assets/2d_pyhep.gif\" alt=\"gif\" title=\"2D animation\" width=\"1300\" height=\"400\" class=\"center\" />"
   ]
  },
  {
   "cell_type": "markdown",
   "metadata": {},
   "source": [
    "### Example with batches of points"
   ]
  },
  {
   "cell_type": "code",
   "execution_count": 23,
   "metadata": {},
   "outputs": [],
   "source": [
    "%%capture wontshutup3 --no-stderr\n",
    "\n",
    "import excursion.testcases.fast_2D as testcase_batches\n",
    "file = open('../excursion/testcases/algorithms/algorithm_specs_batches.yaml', \"r\")\n",
    "algorithm_opts = yaml.safe_load(file)\n",
    "\n",
    "#init GP\n",
    "models, likelihood = init_gp(testcase_batches, algorithm_opts, device)\n",
    "\n",
    "#init estimator\n",
    "estimator = ExcursionSetEstimator(testcase_batches,  algorithm_opts, models, likelihood, device)\n",
    "\n",
    "#active learning loop\n",
    "n_updates = algorithm_opts['nupdates']\n",
    "timestampStr = datetime.datetime.now().strftime(\"%d-%b-%Y_%H:%M:%S\") + \"/\"\n",
    "outputfolder = \"../examples/results/\" +  timestampStr\n",
    "os.makedirs(outputfolder)\n",
    "\n",
    "for iteration in range(n_updates):    \n",
    "    estimator.step(testcase_batches, algorithm_opts, models, likelihood)\n",
    "    \n",
    "    estimator.plot_status(\n",
    "            testcase_batches, algorithm_opts, models, estimator.acq_values, outputfolder)\n",
    "    \n",
    "    models = estimator.update_posterior(testcase_batches, algorithm_opts, models, likelihood)\n",
    "    \n",
    "    estimator.get_diagnostics(testcase_batches, models, likelihood)\n",
    "    \n",
    "estimator.print_results(outputfolder, testcase_batches, algorithm_opts)"
   ]
  },
  {
   "cell_type": "code",
   "execution_count": 25,
   "metadata": {},
   "outputs": [
    {
     "data": {
      "application/vnd.jupyter.widget-view+json": {
       "model_id": "e9c5a33e30864f41b7188ab978cf6096",
       "version_major": 2,
       "version_minor": 0
      },
      "text/plain": [
       "interactive(children=(IntSlider(value=0, description='Iteration ', max=24), Output()), _dom_classes=('widget-i…"
      ]
     },
     "metadata": {},
     "output_type": "display_data"
    }
   ],
   "source": [
    "#load images\n",
    "path = f\"{os.getcwd()}/results/{timestampStr}\"\n",
    "imgs = list(filter(lambda fn:fn.startswith('2D'), os.listdir(path)))\n",
    "imgs = natsorted(imgs, key=lambda y: y.lower())\n",
    "  \n",
    "#slider\n",
    "w = widgets.IntSlider(min=0, max=len(imgs)-1, step=1, description='Iteration ', value=0)\n",
    "interact(loadimg, k = w);"
   ]
  },
  {
   "cell_type": "markdown",
   "metadata": {},
   "source": [
    "## 7. 4D example <a class=\"anchor\" id=\"7\"></a>\n",
    "\n",
    "\n",
    "In this example we will consider the function $f(x,y,z,u) = x^2 + y^2 + z^2 + u^2$ \n",
    "\n",
    "and we want to find the level set at $t = 1$.\n",
    "\n",
    "We know that the level set is a 3-sphere with radi 1.\n",
    "\n",
    "<img src=\"../assets/paraboloid.png\" alt=\"paraboloid\" title=\"paraboloid\" width=\"300\" height=\"300\" class=\"left\" />"
   ]
  },
  {
   "cell_type": "code",
   "execution_count": 17,
   "metadata": {},
   "outputs": [
    {
     "name": "stdout",
     "output_type": "stream",
     "text": [
      "X_init  tensor([[ 0.7368, -0.3158, -1.1579,  0.9474],\n",
      "        [ 0.3158,  1.1579,  0.3158, -2.0000],\n",
      "        [-2.0000,  0.5263, -0.3158,  0.3158],\n",
      "        [-1.3684, -0.3158, -1.7895, -0.3158],\n",
      "        [-0.7368, -0.1053, -1.7895,  0.9474],\n",
      "        [-0.7368, -1.1579, -1.3684, -0.3158],\n",
      "        [ 1.1579, -1.3684, -1.1579,  0.7368]], dtype=torch.float64)\n",
      "y_init  [tensor([2.8809, 5.5402, 4.4765, 5.2742, 4.6537, 3.8560, 5.0970],\n",
      "       dtype=torch.float64)]\n"
     ]
    }
   ],
   "source": [
    "import excursion.testcases.parabola_nD as testcase_circle\n",
    "file = open('../excursion/testcases/algorithms/algorithm_specs_circle.yaml', \"r\")\n",
    "algorithm_opts = yaml.safe_load(file)\n",
    "models, likelihood = init_gp(testcase_circle, algorithm_opts, device)"
   ]
  },
  {
   "cell_type": "code",
   "execution_count": 18,
   "metadata": {},
   "outputs": [
    {
     "name": "stdout",
     "output_type": "stream",
     "text": [
      "Iteration  1\n",
      "x_new tensor([[ 0.9474,  0.7368, -0.9474,  1.1579]], dtype=torch.float64)\n",
      "pct  0.9848\n",
      "Iteration  2\n",
      "x_new tensor([[ 0.1053, -0.3158, -0.1053,  0.9474]], dtype=torch.float64)\n",
      "pct  0.9848\n",
      "Iteration  3\n",
      "x_new tensor([[ 0.1053, -0.3158, -0.1053,  0.7368]], dtype=torch.float64)\n",
      "pct  0.9854625\n",
      "Iteration  4\n",
      "x_new tensor([[-0.3158, -0.3158, -0.1053,  0.3158]], dtype=torch.float64)\n",
      "pct  0.9863875\n",
      "Iteration  5\n",
      "x_new tensor([[ 0.1053, -0.3158, -0.1053, -0.1053]], dtype=torch.float64)\n",
      "pct  0.98811875\n",
      "Iteration  6\n",
      "x_new tensor([[ 0.1053, -0.7368, -0.5263, -0.1053]], dtype=torch.float64)\n",
      "pct  0.988125\n",
      "Iteration  7\n",
      "x_new tensor([[-0.1053, -0.1053, -0.3158, -0.5263]], dtype=torch.float64)\n",
      "pct  0.9889625\n",
      "Iteration  8\n",
      "x_new tensor([[ 0.3158,  0.3158, -0.3158,  0.1053]], dtype=torch.float64)\n",
      "pct  0.98994375\n",
      "Iteration  9\n",
      "x_new tensor([[ 0.1053, -0.1053, -0.7368,  0.7368]], dtype=torch.float64)\n",
      "pct  0.99003125\n",
      "Iteration  10\n",
      "x_new tensor([[ 0.1053,  0.5263,  0.1053, -0.1053]], dtype=torch.float64)\n",
      "pct  0.99124375\n",
      "Iteration  11\n",
      "x_new tensor([[ 0.3158,  0.5263, -0.1053, -0.5263]], dtype=torch.float64)\n",
      "pct  0.9911125\n",
      "Iteration  12\n",
      "x_new tensor([[-0.1053,  0.7368,  0.3158, -0.3158]], dtype=torch.float64)\n",
      "pct  0.99146875\n",
      "Iteration  13\n",
      "x_new tensor([[-0.3158,  0.3158,  0.1053, -0.7368]], dtype=torch.float64)\n",
      "pct  0.99155\n",
      "Iteration  14\n",
      "x_new tensor([[-0.1053,  0.1053,  0.5263, -0.5263]], dtype=torch.float64)\n",
      "pct  0.99225625\n",
      "Iteration  15\n",
      "x_new tensor([[ 0.5263, -0.5263, -0.3158,  0.1053]], dtype=torch.float64)\n",
      "pct  0.99300625\n",
      "Iteration  16\n",
      "x_new tensor([[ 0.3158,  0.7368,  0.3158, -0.1053]], dtype=torch.float64)\n",
      "pct  0.99320625\n",
      "Iteration  17\n",
      "x_new tensor([[-0.5263, -0.1053, -0.5263, -0.3158]], dtype=torch.float64)\n",
      "pct  0.99363125\n",
      "Iteration  18\n",
      "x_new tensor([[ 0.3158,  0.5263,  0.7368, -0.1053]], dtype=torch.float64)\n",
      "pct  0.99368125\n",
      "Iteration  19\n",
      "x_new tensor([[-0.5263, -0.7368, -0.3158,  0.1053]], dtype=torch.float64)\n",
      "pct  0.993725\n",
      "Iteration  20\n",
      "x_new tensor([[-0.3158,  0.7368, -0.1053, -0.1053]], dtype=torch.float64)\n",
      "pct  0.9948125\n",
      "Iteration  21\n",
      "x_new tensor([[-0.3158,  0.3158, -0.5263,  0.5263]], dtype=torch.float64)\n",
      "pct  0.99503125\n",
      "Iteration  22\n",
      "x_new tensor([[-0.7368,  0.3158, -0.3158,  0.3158]], dtype=torch.float64)\n",
      "pct  0.9952875\n",
      "Iteration  23\n",
      "x_new tensor([[ 0.5263,  0.3158,  0.1053, -0.7368]], dtype=torch.float64)\n",
      "pct  0.9953125\n",
      "Iteration  24\n",
      "x_new tensor([[ 0.1053, -0.7368, -0.5263,  0.5263]], dtype=torch.float64)\n",
      "pct  0.995625\n",
      "Iteration  25\n",
      "x_new tensor([[-0.5263,  0.7368, -0.3158, -0.3158]], dtype=torch.float64)\n",
      "pct  0.99560625\n",
      "Iteration  26\n",
      "x_new tensor([[-0.5263, -0.1053,  0.3158, -0.7368]], dtype=torch.float64)\n",
      "pct  0.99570625\n",
      "Iteration  27\n",
      "x_new tensor([[-0.3158,  0.3158,  0.7368, -0.5263]], dtype=torch.float64)\n",
      "pct  0.99575\n",
      "Iteration  28\n",
      "x_new tensor([[-0.3158, -0.7368, -0.5263,  0.3158]], dtype=torch.float64)\n",
      "pct  0.99575625\n",
      "Iteration  29\n",
      "x_new tensor([[ 0.7368, -0.5263, -0.1053, -0.1053]], dtype=torch.float64)\n",
      "pct  0.99620625\n",
      "Iteration  30\n",
      "x_new tensor([[-0.3158, -0.5263, -0.1053, -0.7368]], dtype=torch.float64)\n",
      "pct  0.99623125\n",
      "Iteration  31\n",
      "x_new tensor([[-0.9474,  0.1053, -0.1053, -0.1053]], dtype=torch.float64)\n",
      "pct  0.99626875\n",
      "Iteration  32\n",
      "x_new tensor([[ 0.7368,  0.1053, -0.5263,  0.3158]], dtype=torch.float64)\n",
      "pct  0.99626875\n",
      "Iteration  33\n",
      "x_new tensor([[ 0.9474,  0.3158, -0.3158, -0.1053]], dtype=torch.float64)\n",
      "pct  0.99636875\n",
      "Iteration  34\n",
      "x_new tensor([[-0.3158, -0.1053, -0.7368,  0.5263]], dtype=torch.float64)\n",
      "pct  0.9965\n",
      "Iteration  35\n",
      "x_new tensor([[ 0.1053,  0.5263,  0.7368, -0.5263]], dtype=torch.float64)\n",
      "pct  0.99693125\n",
      "Iteration  36\n",
      "x_new tensor([[ 0.9474,  0.1053, -0.3158,  0.1053]], dtype=torch.float64)\n",
      "pct  0.9970625\n",
      "Iteration  37\n",
      "x_new tensor([[ 0.1053, -0.1053, -0.7368, -0.5263]], dtype=torch.float64)\n",
      "pct  0.99738125\n",
      "Iteration  38\n",
      "x_new tensor([[-0.9474,  0.1053,  0.1053, -0.3158]], dtype=torch.float64)\n",
      "pct  0.99735\n",
      "Iteration  39\n",
      "x_new tensor([[-0.3158,  0.1053,  0.7368,  0.1053]], dtype=torch.float64)\n",
      "pct  0.99848125\n",
      "Iteration  40\n",
      "x_new tensor([[-0.1053, -0.7368,  0.3158, -0.5263]], dtype=torch.float64)\n",
      "pct  0.9986125\n",
      "Iteration  41\n",
      "x_new tensor([[ 0.5263,  0.7368, -0.3158, -0.1053]], dtype=torch.float64)\n",
      "pct  0.99868125\n",
      "Iteration  42\n",
      "x_new tensor([[-0.5263, -0.7368,  0.3158, -0.1053]], dtype=torch.float64)\n",
      "pct  0.998775\n",
      "Iteration  43\n",
      "x_new tensor([[-0.1053, -0.1053, -0.1053,  0.9474]], dtype=torch.float64)\n",
      "pct  0.999\n",
      "Iteration  44\n",
      "x_new tensor([[ 0.1053,  0.5263, -0.1053,  0.7368]], dtype=torch.float64)\n",
      "pct  0.99915625\n",
      "Iteration  45\n",
      "x_new tensor([[ 0.1053, -0.3158, -0.9474,  0.1053]], dtype=torch.float64)\n",
      "pct  0.9991625\n",
      "Iteration  46\n",
      "x_new tensor([[0.3158, 0.5263, 0.3158, 0.7368]], dtype=torch.float64)\n",
      "pct  0.9991375\n",
      "Iteration  47\n",
      "x_new tensor([[ 0.9474,  0.1053,  0.1053, -0.3158]], dtype=torch.float64)\n",
      "pct  0.99916875\n",
      "Iteration  48\n",
      "x_new tensor([[-0.1053, -0.5263,  0.7368, -0.3158]], dtype=torch.float64)\n",
      "pct  0.9992\n",
      "Iteration  49\n",
      "x_new tensor([[-0.1053,  0.1053, -0.9474, -0.1053]], dtype=torch.float64)\n",
      "pct  0.99926875\n",
      "Iteration  50\n",
      "x_new tensor([[-0.3158,  0.5263,  0.7368,  0.3158]], dtype=torch.float64)\n",
      "pct  0.99928125\n",
      "Printing results...\n"
     ]
    },
    {
     "data": {
      "image/png": "[encoded data removed]",
      "text/plain": [
       "<Figure size 432x288 with 1 Axes>"
      ]
     },
     "metadata": {
      "needs_background": "light"
     },
     "output_type": "display_data"
    }
   ],
   "source": [
    "%%capture wontshutup4 --no-stderr\n",
    "\n",
    "#PRE-EVALUATED, takes quite some time\n",
    "\n",
    "estimator = ExcursionSetEstimator(testcase_circle, algorithm_opts, models, likelihood, device)\n",
    "n_updates = 50\n",
    "timestampStr = datetime.datetime.now().strftime(\"%d-%b-%Y_%H:%M:%S\") + \"/\"\n",
    "outputfolder = \"../examples/results/\" +  timestampStr\n",
    "os.makedirs(outputfolder)\n",
    "\n",
    "new_xs = []\n",
    "for iteration in range(1, n_updates+1):    \n",
    "    estimator.step(testcase_circle, algorithm_opts, models, likelihood)\n",
    "    new_xs.append(estimator.x_new)\n",
    "    models = estimator.update_posterior(testcase_circle, algorithm_opts, models, likelihood)\n",
    "    estimator.get_diagnostics(testcase_circle, models, likelihood)\n",
    "    \n",
    "estimator.print_results(outputfolder, testcase_circle, algorithm_opts)"
   ]
  },
  {
   "cell_type": "markdown",
   "metadata": {},
   "source": [
    "Let's try to make sense of the points the Active Learning loop has chosen. The points in the 3-sphere level set hold that\n",
    "$x^2 + y^2 + z^2 = 1$. A histogram of the norm of the chosen points can help."
   ]
  },
  {
   "cell_type": "code",
   "execution_count": 19,
   "metadata": {},
   "outputs": [
    {
     "data": {
      "image/png": "[encoded data removed]",
      "text/plain": [
       "<Figure size 432x288 with 1 Axes>"
      ]
     },
     "metadata": {
      "needs_background": "light"
     },
     "output_type": "display_data"
    }
   ],
   "source": [
    "import matplotlib.pyplot as plt\n",
    "distances = [torch.norm(x).item() for x in new_xs]\n",
    "plt.hist(distances, histtype='step');\n",
    "plt.xlabel('$|| x ||$ of selected points', fontsize=14);\n",
    "plt.ylabel('count', fontsize=14);"
   ]
  },
  {
   "cell_type": "markdown",
   "metadata": {},
   "source": [
    "## Further work\n",
    "\n",
    "- An IRIS-HEP fellow, [Jason Hipkins](https://iris-hep.org/fellows/tutrie.html), is working on a code refactoring and improving the library. Stay tuned and expect some changes!\n",
    "  \n",
    "\n",
    "- We are using excursion for an ongoing project with part of the Exotics group at ATLAS.\n",
    "  \n",
    "\n",
    "- There will be multiresolution support in the near future.\n",
    "  \n",
    "\n",
    "- We will explore how to leverage the features that BoTorch provides. This is particularly important for dimension scalability.\n",
    "  \n",
    "  \n",
    "- We will include the possibility of querying black box functions that are external to the package. For instance, HEP simulators."
   ]
  },
  {
   "cell_type": "markdown",
   "metadata": {},
   "source": []
  }
 ],
 "metadata": {
  "interpreter": {
   "hash": "8c7a83d6095ed6747bcc1498ece768d19bc7b52034aa043da4adf450b301facb"
  },
  "kernelspec": {
   "display_name": "Python 3.8.10 64-bit ('excursion': venv)",
   "name": "python3"
  },
  "language_info": {
   "codemirror_mode": {
    "name": "ipython",
    "version": 3
   },
   "file_extension": ".py",
   "mimetype": "text/x-python",
   "name": "python",
   "nbconvert_exporter": "python",
   "pygments_lexer": "ipython3",
   "version": "3.8.10"
  },
  "orig_nbformat": 4
 },
 "nbformat": 4,
 "nbformat_minor": 2
}