{
 "cells": [
  {
   "cell_type": "code",
   "execution_count": 3,
   "metadata": {},
   "outputs": [],
   "source": [
    "import os\n",
    "import imageio\n",
    "\n",
    "png_dir = '2D_images/'\n",
    "images = []\n",
    "for i in range(51):\n",
    "    file_path = os.path.join(png_dir, '2D_'+str(i)+'.png')\n",
    "    images.append(imageio.imread(file_path))\n",
    "imageio.mimsave('2D_movie.gif', images)"
   ]
  },
  {
   "cell_type": "code",
   "execution_count": 12,
   "metadata": {},
   "outputs": [],
   "source": [
    "import os\n",
    "import imageio\n",
    "\n",
    "png_dir = '1D_images/'\n",
    "images = []\n",
    "for i in range(1,21):\n",
    "    file_path = os.path.join(png_dir, '1D_'+str(i)+'.png')\n",
    "    images.append(imageio.imread(file_path))\n",
    "imageio.mimsave('1D_PES_movie.gif', images, duration=0.8)"
   ]
  },
  {
   "cell_type": "code",
   "execution_count": 2,
   "metadata": {},
   "outputs": [],
   "source": [
    "import os\n",
    "import imageio\n",
    "\n",
    "png_dir = '/'\n",
    "images = []\n",
    "for i in range(51):\n",
    "    file_path = '2D_'+str(i)+'.png'\n",
    "    images.append(imageio.imread(file_path))\n",
    "imageio.mimsave('2D_movie_MES.gif', images)"
   ]
  },
  {
   "cell_type": "code",
   "execution_count": null,
   "metadata": {},
   "outputs": [],
   "source": []
  },
  {
   "cell_type": "code",
   "execution_count": 3,
   "metadata": {},
   "outputs": [],
   "source": [
    "import numpy as np\n",
    "np.warnings.filterwarnings('ignore')\n",
    "import datetime\n",
    "import os\n",
    "import math\n",
    "import torch\n",
    "import gpytorch\n",
    "\n",
    "import excursion\n",
    "\n",
    "import excursion.testcases.fast_1D as testcase_details\n",
    "import excursion.optimize\n",
    "import excursion.active_learning as active_learning\n",
    "\n",
    "from excursion.utils import get_first_max_index,point_entropy, mesh2points, points2mesh, values2mesh\n",
    "\n",
    "import excursion.plotting.onedim as plots\n",
    "#import excursion.utils as utils\n",
    "\n",
    "import matplotlib.pyplot as plt\n",
    "%matplotlib inline"
   ]
  },
  {
   "cell_type": "code",
   "execution_count": 44,
   "metadata": {},
   "outputs": [
    {
     "data": {
      "image/png": "[encoded data removed]",
      "text/plain": [
       "<Figure size 432x288 with 1 Axes>"
      ]
     },
     "metadata": {
      "needs_background": "light"
     },
     "output_type": "display_data"
    }
   ],
   "source": [
    "#init true functions + thresholds\n",
    "for func in testcase_details.true_functions:\n",
    "    X_plot = testcase_details.plot_X\n",
    "    plt.plot(X_plot, func(X_plot), color='black')\n",
    "    \n",
    "thresholds = [5.,7.,15.]    \n",
    "    \n",
    "for i in range(len(thresholds)):\n",
    "    plt.hlines(thresholds[i],-1.,1., colors = 'red', linestyle='--')\n",
    "\n",
    "plt.fill_between(np.linspace(-1,1,1000),-10, 5., facecolor='rebeccapurple', interpolate=True, alpha=0.25)    \n",
    "plt.fill_between(np.linspace(-1,1,1000),5., 7., facecolor='royalblue', interpolate=True, alpha=0.25)    \n",
    "plt.fill_between(np.linspace(-1,1,1000),7, 15., facecolor='green', interpolate=True, alpha=0.1)    \n",
    "plt.fill_between(np.linspace(-1,1,1000),15., 30., facecolor='yellow', interpolate=True, alpha=0.1)    \n",
    "\n",
    "plt.ylim([0,22])\n",
    "plt.ylabel('f(x)')\n",
    "plt.xlabel('x')\n",
    "plt.axis('off')\n",
    "plt.savefig('example.svg')"
   ]
  },
  {
   "cell_type": "code",
   "execution_count": null,
   "metadata": {},
   "outputs": [],
   "source": []
  },
  {
   "cell_type": "code",
   "execution_count": null,
   "metadata": {},
   "outputs": [],
   "source": []
  },
  {
   "cell_type": "code",
   "execution_count": null,
   "metadata": {},
   "outputs": [],
   "source": []
  },
  {
   "cell_type": "code",
   "execution_count": null,
   "metadata": {},
   "outputs": [],
   "source": []
  },
  {
   "cell_type": "code",
   "execution_count": null,
   "metadata": {},
   "outputs": [],
   "source": []
  }
 ],
 "metadata": {
  "kernelspec": {
   "display_name": "Python 3",
   "language": "python",
   "name": "python3"
  },
  "language_info": {
   "codemirror_mode": {
    "name": "ipython",
    "version": 3
   },
   "file_extension": ".py",
   "mimetype": "text/x-python",
   "name": "python",
   "nbconvert_exporter": "python",
   "pygments_lexer": "ipython3",
   "version": "3.7.3"
  }
 },
 "nbformat": 4,
 "nbformat_minor": 2
}
