{
 "cells": [
  {
   "cell_type": "code",
   "execution_count": 1,
   "metadata": {},
   "outputs": [
    {
     "name": "stdout",
     "output_type": "stream",
     "text": [
      "Populating the interactive namespace from numpy and matplotlib\n"
     ]
    }
   ],
   "source": [
    "%pylab inline"
   ]
  },
  {
   "cell_type": "code",
   "execution_count": 2,
   "metadata": {},
   "outputs": [
    {
     "name": "stderr",
     "output_type": "stream",
     "text": [
      "C:\\Users\\Tutrie\\anaconda3\\envs\\IRIS_excursion\\lib\\site-packages\\numpy\\lib\\index_tricks.py:183: ComplexWarning: Casting complex values to real discards the imaginary part\n",
      "  nn[k] = (nn[k]*step+start)\n"
     ]
    },
    {
     "ename": "AttributeError",
     "evalue": "module 'torch._C' has no attribute '_cuda_setDevice'",
     "output_type": "error",
     "traceback": [
      "\u001B[1;31m---------------------------------------------------------------------------\u001B[0m",
      "\u001B[1;31mAttributeError\u001B[0m                            Traceback (most recent call last)",
      "\u001B[1;32m<ipython-input-2-6ee3ee203ad5>\u001B[0m in \u001B[0;36m<module>\u001B[1;34m\u001B[0m\n\u001B[0;32m      3\u001B[0m \u001B[1;32mimport\u001B[0m \u001B[0mexcursion\u001B[0m\u001B[1;33m\u001B[0m\u001B[1;33m\u001B[0m\u001B[0m\n\u001B[0;32m      4\u001B[0m \u001B[1;32mimport\u001B[0m \u001B[0mexcursion\u001B[0m\u001B[1;33m.\u001B[0m\u001B[0mtestcases\u001B[0m\u001B[1;33m.\u001B[0m\u001B[0mfast3d\u001B[0m \u001B[1;32mas\u001B[0m \u001B[0mscandetails\u001B[0m\u001B[1;33m\u001B[0m\u001B[1;33m\u001B[0m\u001B[0m\n\u001B[1;32m----> 5\u001B[1;33m \u001B[1;32mimport\u001B[0m \u001B[0mexcursion\u001B[0m\u001B[1;33m.\u001B[0m\u001B[0moptimize\u001B[0m\u001B[1;33m\u001B[0m\u001B[1;33m\u001B[0m\u001B[0m\n\u001B[0m\u001B[0;32m      6\u001B[0m \u001B[1;32mimport\u001B[0m \u001B[0mnumpy\u001B[0m \u001B[1;32mas\u001B[0m \u001B[0mnp\u001B[0m\u001B[1;33m\u001B[0m\u001B[1;33m\u001B[0m\u001B[0m\n\u001B[0;32m      7\u001B[0m \u001B[1;32mimport\u001B[0m \u001B[0mdatetime\u001B[0m\u001B[1;33m\u001B[0m\u001B[1;33m\u001B[0m\u001B[0m\n",
      "\u001B[1;32m~\\Documents\\IRIS-excursion\\excursion_irina\\excursion\\optimize\\__init__.py\u001B[0m in \u001B[0;36m<module>\u001B[1;34m\u001B[0m\n\u001B[0;32m      4\u001B[0m \u001B[1;32mimport\u001B[0m \u001B[0mgpytorch\u001B[0m\u001B[1;33m\u001B[0m\u001B[1;33m\u001B[0m\u001B[0m\n\u001B[0;32m      5\u001B[0m \u001B[1;33m\u001B[0m\u001B[0m\n\u001B[1;32m----> 6\u001B[1;33m \u001B[1;32mfrom\u001B[0m \u001B[1;33m.\u001B[0m \u001B[1;32mimport\u001B[0m \u001B[0mcore\u001B[0m\u001B[1;33m\u001B[0m\u001B[1;33m\u001B[0m\u001B[0m\n\u001B[0m\u001B[0;32m      7\u001B[0m \u001B[1;33m\u001B[0m\u001B[0m\n\u001B[0;32m      8\u001B[0m \u001B[0mtorch\u001B[0m\u001B[1;33m.\u001B[0m\u001B[0mcuda\u001B[0m\u001B[1;33m.\u001B[0m\u001B[0mset_device\u001B[0m\u001B[1;33m(\u001B[0m\u001B[1;36m0\u001B[0m\u001B[1;33m)\u001B[0m\u001B[1;33m\u001B[0m\u001B[1;33m\u001B[0m\u001B[0m\n",
      "\u001B[1;32m~\\Documents\\IRIS-excursion\\excursion_irina\\excursion\\optimize\\core.py\u001B[0m in \u001B[0;36m<module>\u001B[1;34m\u001B[0m\n\u001B[0;32m      5\u001B[0m \u001B[1;32mimport\u001B[0m \u001B[0mtorch\u001B[0m\u001B[1;33m\u001B[0m\u001B[1;33m\u001B[0m\u001B[0m\n\u001B[0;32m      6\u001B[0m \u001B[1;33m\u001B[0m\u001B[0m\n\u001B[1;32m----> 7\u001B[1;33m \u001B[0mtorch\u001B[0m\u001B[1;33m.\u001B[0m\u001B[0mcuda\u001B[0m\u001B[1;33m.\u001B[0m\u001B[0mset_device\u001B[0m\u001B[1;33m(\u001B[0m\u001B[1;36m0\u001B[0m\u001B[1;33m)\u001B[0m\u001B[1;33m\u001B[0m\u001B[1;33m\u001B[0m\u001B[0m\n\u001B[0m\u001B[0;32m      8\u001B[0m \u001B[1;33m\u001B[0m\u001B[0m\n\u001B[0;32m      9\u001B[0m \u001B[1;33m\u001B[0m\u001B[0m\n",
      "\u001B[1;32m~\\anaconda3\\envs\\IRIS_excursion\\lib\\site-packages\\torch\\cuda\\__init__.py\u001B[0m in \u001B[0;36mset_device\u001B[1;34m(device)\u001B[0m\n\u001B[0;32m    259\u001B[0m     \u001B[0mdevice\u001B[0m \u001B[1;33m=\u001B[0m \u001B[0m_get_device_index\u001B[0m\u001B[1;33m(\u001B[0m\u001B[0mdevice\u001B[0m\u001B[1;33m)\u001B[0m\u001B[1;33m\u001B[0m\u001B[1;33m\u001B[0m\u001B[0m\n\u001B[0;32m    260\u001B[0m     \u001B[1;32mif\u001B[0m \u001B[0mdevice\u001B[0m \u001B[1;33m>=\u001B[0m \u001B[1;36m0\u001B[0m\u001B[1;33m:\u001B[0m\u001B[1;33m\u001B[0m\u001B[1;33m\u001B[0m\u001B[0m\n\u001B[1;32m--> 261\u001B[1;33m         \u001B[0mtorch\u001B[0m\u001B[1;33m.\u001B[0m\u001B[0m_C\u001B[0m\u001B[1;33m.\u001B[0m\u001B[0m_cuda_setDevice\u001B[0m\u001B[1;33m(\u001B[0m\u001B[0mdevice\u001B[0m\u001B[1;33m)\u001B[0m\u001B[1;33m\u001B[0m\u001B[1;33m\u001B[0m\u001B[0m\n\u001B[0m\u001B[0;32m    262\u001B[0m \u001B[1;33m\u001B[0m\u001B[0m\n\u001B[0;32m    263\u001B[0m \u001B[1;33m\u001B[0m\u001B[0m\n",
      "\u001B[1;31mAttributeError\u001B[0m: module 'torch._C' has no attribute '_cuda_setDevice'"
     ]
    }
   ],
   "source": [
    "import os\n",
    "\n",
    "import excursion\n",
    "import excursion.testcases.fast3d as scandetails\n",
    "import excursion.optimize\n",
    "import numpy as np\n",
    "import datetime\n",
    "import matplotlib as plt\n",
    "\n",
    "import excursion.plotting.twodim as plots\n",
    "import excursion.utils as utils\n",
    "\n",
    "np.warnings.filterwarnings('ignore')"
   ]
  },
  {
   "cell_type": "code",
   "execution_count": null,
   "metadata": {},
   "outputs": [],
   "source": [
    "\n",
    "grid = ix,iy = scandetails.plotG\n",
    "X = excursion.utils.mesh2points(grid,scandetails.plot_rangedef[:,2])\n",
    "\n",
    "functions = [\n",
    "    scandetails.truth,\n",
    "    lambda X: scandetails.truth(X-0.05)\n",
    "]\n",
    "\n",
    "\n",
    "scandetails.truth_functions = functions\n",
    "\n",
    "\n",
    "truthv = excursion.utils.values2mesh(\n",
    "    scandetails.truth(X),\n",
    "    scandetails.plot_rangedef,\n",
    "    scandetails.invalid_region\n",
    ")\n",
    "\n",
    "contours = []\n",
    "for truth_func in scandetails.truth_functions:\n",
    "    contours.append(\n",
    "        excursion.utils.values2mesh(\n",
    "            truth_func(X),\n",
    "            scandetails.plot_rangedef,\n",
    "            scandetails.invalid_region\n",
    "        )\n",
    "    )\n",
    "\n",
    "\n",
    "for cont,c in zip(contours, ['k','b']):\n",
    "    plt.contour(ix,iy,cont, levels = [0], colors=[c])"
   ]
  },
  {
   "cell_type": "code",
   "execution_count": null,
   "metadata": {},
   "outputs": [],
   "source": [
    "#initialize it...\n",
    "N_INIT  = 5\n",
    "N_FUNCS = 2\n",
    "\n",
    "np.random.seed(1)\n",
    "X = np.random.uniform(scandetails.plot_rangedef[:,0],scandetails.plot_rangedef[:,1], size = (N_INIT,2))\n",
    "y_list = [np.array([scandetails.truth_functions[i](np.asarray([x]))[0] for x in X]) for i in range(N_FUNCS)]"
   ]
  },
  {
   "cell_type": "code",
   "execution_count": null,
   "metadata": {},
   "outputs": [],
   "source": [
    "gps = [excursion.get_gp(X,y_list[i]) for i in range(N_FUNCS)]\n",
    "fig, axarr = plt.subplots(1, 3, sharey=True)\n",
    "fig.set_size_inches(15, 4.5)\n",
    "plots.plot(axarr,gps,X,y_list,scandetails)\n",
    "# plt.savefig(os.path.join(workdir,'update_{}.png'.format(str(index).zfill(3))))\n",
    "plt.show()"
   ]
  },
  {
   "cell_type": "code",
   "execution_count": null,
   "metadata": {
    "scrolled": false
   },
   "outputs": [],
   "source": [
    "import time\n",
    "\n",
    "N_UPDATES = 50\n",
    "\n",
    "workdir = datetime.datetime.now().strftime('%Y-%m-%d-%H-%M-%S-2dmulti')\n",
    "os.mkdir(workdir)\n",
    "\n",
    "for index in range(N_UPDATES):\n",
    "    start = time.process_time()\n",
    "    gps = [excursion.get_gp(X,y_list[i]) for i in range(N_FUNCS)]\n",
    "\n",
    "    fig, axarr = plt.subplots(1, 3, sharey=True)\n",
    "    fig.set_size_inches(4.5, 1.5)\n",
    "    plots.plot(axarr,gps,X,y_list,scandetails)\n",
    "    plt.savefig(os.path.join(workdir,'update_{}.png'.format(str(index).zfill(3))))\n",
    "    plt.show()\n",
    "\n",
    "    newx, acqvals = excursion.optimize.gridsearch(gps, X, scandetails)\n",
    "    print('TIME TAKEN**', time.process_time() - start)\n",
    "    print('new x: {}'.format(newx))\n",
    "    newy_list = [scandetails.truth_functions[i](np.asarray([newx]))[0] for i in range(N_FUNCS)]\n",
    "    for i,newy in enumerate(newy_list):\n",
    "        print('new y i: {} {}'.format(i,newy))\n",
    "        y_list[i] = np.concatenate([y_list[i],[newy]])\n",
    "    X = np.concatenate([X,np.array([newx])])\n",
    "\n",
    "\n"
   ]
  },
  {
   "cell_type": "code",
   "execution_count": null,
   "metadata": {},
   "outputs": [],
   "source": [
    "scandetails.acqX.shape"
   ]
  },
  {
   "cell_type": "code",
   "execution_count": null,
   "metadata": {},
   "outputs": [],
   "source": [
    "41**2"
   ]
  },
  {
   "cell_type": "code",
   "execution_count": null,
   "metadata": {},
   "outputs": [],
   "source": []
  },
  {
   "cell_type": "code",
   "execution_count": null,
   "metadata": {},
   "outputs": [],
   "source": [
    " "
   ]
  }
 ],
 "metadata": {
  "kernelspec": {
   "name": "pycharm-7b00b61e",
   "language": "python",
   "display_name": "PyCharm (excursion)"
  },
  "language_info": {
   "codemirror_mode": {
    "name": "ipython",
    "version": 3
   },
   "file_extension": ".py",
   "mimetype": "text/x-python",
   "name": "python",
   "nbconvert_exporter": "python",
   "pygments_lexer": "ipython3",
   "version": "3.7.3"
  }
 },
 "nbformat": 4,
 "nbformat_minor": 2
}