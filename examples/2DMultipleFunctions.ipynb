{
 "cells": [
  {
   "cell_type": "code",
   "execution_count": 1,
   "metadata": {},
   "outputs": [
    {
     "name": "stdout",
     "output_type": "stream",
     "text": [
      "Populating the interactive namespace from numpy and matplotlib\n"
     ]
    }
   ],
   "source": [
    "%pylab inline"
   ]
  },
  {
   "cell_type": "code",
   "execution_count": 2,
   "metadata": {},
   "outputs": [
    {
     "name": "stderr",
     "output_type": "stream",
     "text": [
      "C:\\Users\\Tutrie\\anaconda3\\envs\\IRIS_excursion\\lib\\site-packages\\numpy\\lib\\index_tricks.py:183: ComplexWarning: Casting complex values to real discards the imaginary part\n",
      "  nn[k] = (nn[k]*step+start)\n"
     ]
    }
   ],
   "source": [
    "import os\n",
    "\n",
    "import excursion.testcases.fast3d as scandetails\n",
    "import excursion.optimize\n",
    "import datetime\n",
    "import matplotlib as plt\n",
    "import numpy as np\n",
    "\n",
    "import excursion.plotting.twodim as plots\n",
    "import excursion.utils as utils\n",
    "\n",
    "np.warnings.filterwarnings('ignore')"
   ]
  },
  {
   "cell_type": "code",
   "execution_count": 3,
   "metadata": {},
   "outputs": [
    {
     "ename": "ValueError",
     "evalue": "too many values to unpack (expected 2)",
     "output_type": "error",
     "traceback": [
      "\u001B[1;31m---------------------------------------------------------------------------\u001B[0m",
      "\u001B[1;31mValueError\u001B[0m                                Traceback (most recent call last)",
      "\u001B[1;32m<ipython-input-3-b2b910ca685f>\u001B[0m in \u001B[0;36m<module>\u001B[1;34m\u001B[0m\n\u001B[1;32m----> 1\u001B[1;33m \u001B[0mgrid\u001B[0m \u001B[1;33m=\u001B[0m \u001B[0mix\u001B[0m\u001B[1;33m,\u001B[0m\u001B[0miy\u001B[0m \u001B[1;33m=\u001B[0m \u001B[0mscandetails\u001B[0m\u001B[1;33m.\u001B[0m\u001B[0mplotG\u001B[0m\u001B[1;33m\u001B[0m\u001B[1;33m\u001B[0m\u001B[0m\n\u001B[0m\u001B[0;32m      2\u001B[0m \u001B[0mX\u001B[0m \u001B[1;33m=\u001B[0m \u001B[0mutils\u001B[0m\u001B[1;33m.\u001B[0m\u001B[0mmesh2points\u001B[0m\u001B[1;33m(\u001B[0m\u001B[0mgrid\u001B[0m\u001B[1;33m,\u001B[0m\u001B[0mscandetails\u001B[0m\u001B[1;33m.\u001B[0m\u001B[0mplot_rangedef\u001B[0m\u001B[1;33m[\u001B[0m\u001B[1;33m:\u001B[0m\u001B[1;33m,\u001B[0m\u001B[1;36m2\u001B[0m\u001B[1;33m]\u001B[0m\u001B[1;33m)\u001B[0m\u001B[1;33m\u001B[0m\u001B[1;33m\u001B[0m\u001B[0m\n\u001B[0;32m      3\u001B[0m \u001B[1;33m\u001B[0m\u001B[0m\n\u001B[0;32m      4\u001B[0m functions = [\n\u001B[0;32m      5\u001B[0m     \u001B[0mscandetails\u001B[0m\u001B[1;33m.\u001B[0m\u001B[0mtruth\u001B[0m\u001B[1;33m,\u001B[0m\u001B[1;33m\u001B[0m\u001B[1;33m\u001B[0m\u001B[0m\n",
      "\u001B[1;31mValueError\u001B[0m: too many values to unpack (expected 2)"
     ]
    }
   ],
   "source": [
    "\n",
    "grid = ix,iy = scandetails.plotG\n",
    "X = utils.mesh2points(grid,scandetails.plot_rangedef[:,2])\n",
    "\n",
    "functions = [\n",
    "    scandetails.truth,\n",
    "    lambda X: scandetails.truth(X-0.05)\n",
    "]\n",
    "\n",
    "\n",
    "scandetails.truth_functions = functions\n",
    "\n",
    "\n",
    "truthv = excursion.utils.values2mesh(\n",
    "    scandetails.truth(X),\n",
    "    scandetails.plot_rangedef,\n",
    "    scandetails.invalid_region\n",
    ")\n",
    "\n",
    "contours = []\n",
    "for truth_func in scandetails.truth_functions:\n",
    "    contours.append(\n",
    "        excursion.utils.values2mesh(\n",
    "            truth_func(X),\n",
    "            scandetails.plot_rangedef,\n",
    "            scandetails.invalid_region\n",
    "        )\n",
    "    )\n",
    "\n",
    "\n",
    "for cont,c in zip(contours, ['k','b']):\n",
    "    plt.contour(ix,iy,cont, levels = [0], colors=[c])"
   ]
  },
  {
   "cell_type": "code",
   "execution_count": null,
   "metadata": {},
   "outputs": [],
   "source": [
    "#initialize it...\n",
    "N_INIT  = 5\n",
    "N_FUNCS = 2\n",
    "\n",
    "np.random.seed(1)\n",
    "X = np.random.uniform(scandetails.plot_rangedef[:,0],scandetails.plot_rangedef[:,1], size = (N_INIT,2))\n",
    "y_list = [np.array([scandetails.truth_functions[i](np.asarray([x]))[0] for x in X]) for i in range(N_FUNCS)]"
   ]
  },
  {
   "cell_type": "code",
   "execution_count": null,
   "metadata": {},
   "outputs": [],
   "source": [
    "gps = [excursion.get_gp(X,y_list[i]) for i in range(N_FUNCS)]\n",
    "fig, axarr = plt.subplots(1, 3, sharey=True)\n",
    "fig.set_size_inches(15, 4.5)\n",
    "plots.plot(axarr,gps,X,y_list,scandetails)\n",
    "# plt.savefig(os.path.join(workdir,'update_{}.png'.format(str(index).zfill(3))))\n",
    "plt.show()"
   ]
  },
  {
   "cell_type": "code",
   "execution_count": null,
   "metadata": {
    "scrolled": false
   },
   "outputs": [],
   "source": [
    "import time\n",
    "\n",
    "N_UPDATES = 50\n",
    "\n",
    "workdir = datetime.datetime.now().strftime('%Y-%m-%d-%H-%M-%S-2dmulti')\n",
    "os.mkdir(workdir)\n",
    "\n",
    "for index in range(N_UPDATES):\n",
    "    start = time.process_time()\n",
    "    gps = [excursion.get_gp(X,y_list[i]) for i in range(N_FUNCS)]\n",
    "\n",
    "    fig, axarr = plt.subplots(1, 3, sharey=True)\n",
    "    fig.set_size_inches(4.5, 1.5)\n",
    "    plots.plot(axarr,gps,X,y_list,scandetails)\n",
    "    plt.savefig(os.path.join(workdir,'update_{}.png'.format(str(index).zfill(3))))\n",
    "    plt.show()\n",
    "\n",
    "    newx, acqvals = excursion.optimize.gridsearch(gps, X, scandetails)\n",
    "    print('TIME TAKEN**', time.process_time() - start)\n",
    "    print('new x: {}'.format(newx))\n",
    "    newy_list = [scandetails.truth_functions[i](np.asarray([newx]))[0] for i in range(N_FUNCS)]\n",
    "    for i,newy in enumerate(newy_list):\n",
    "        print('new y i: {} {}'.format(i,newy))\n",
    "        y_list[i] = np.concatenate([y_list[i],[newy]])\n",
    "    X = np.concatenate([X,np.array([newx])])\n",
    "\n",
    "\n"
   ]
  },
  {
   "cell_type": "code",
   "execution_count": null,
   "metadata": {},
   "outputs": [],
   "source": [
    "scandetails.acqX.shape"
   ]
  },
  {
   "cell_type": "code",
   "execution_count": null,
   "metadata": {},
   "outputs": [],
   "source": [
    "41**2"
   ]
  },
  {
   "cell_type": "code",
   "execution_count": null,
   "metadata": {},
   "outputs": [],
   "source": []
  },
  {
   "cell_type": "code",
   "execution_count": null,
   "metadata": {},
   "outputs": [],
   "source": [
    " "
   ]
  }
 ],
 "metadata": {
  "kernelspec": {
   "name": "pycharm-7b00b61e",
   "language": "python",
   "display_name": "PyCharm (excursion)"
  },
  "language_info": {
   "codemirror_mode": {
    "name": "ipython",
    "version": 3
   },
   "file_extension": ".py",
   "mimetype": "text/x-python",
   "name": "python",
   "nbconvert_exporter": "python",
   "pygments_lexer": "ipython3",
   "version": "3.7.3"
  }
 },
 "nbformat": 4,
 "nbformat_minor": 2
}