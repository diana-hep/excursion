{
 "cells": [
  {
   "cell_type": "markdown",
   "source": [
    "## Step 1: Load\n",
    "\n",
    "We need to set-up several things and with a specific structure so that it's readable for the excursion estimator and\n",
    "learner object.\n",
    "We have pre-loaded a python script for data on:\n",
    "-  **True/Black-box function** (this is not a tutorial using funcX, just a simple toy function is all we need)\n",
    "-  **Grid**: domain where you will search for next evaluation points?\n",
    "<br /><br />We have pre-loaded a yaml script for algorithm options on:\n",
    "-  **Gaussian Process**: which kernel and likelihood do you want to use?\n",
    "-  **Algorithm Options**: which acquisition function? Do you want batch selection? How many points per batch? Which batch method selection?\n",
    "\n",
    "There are many choices and a user might not know a priori what to use. That is why I am preparing a set of complete\n",
    "examples that you just have to load to get started. These pre-build examples are in `excursion/???/*.py` these\n",
    "`.py` scripts contain initialization for: true/black-box function and grid (the \"numerical options\"). The files in\n",
    "`excursion/??/??/*.yml` are yaml files that contain pre-established Gaussian Processes and Algorithm Options\n",
    "(the \"algorithm options\"). This way of ordering the init step makes it easy to fix a numerical problem while trying\n",
    "different algorithm configurations and vice versa.\n",
    "<br /><br /> The purpose of using the abstract interfaces for a learner object helps reduce the amount of interaction\n",
    "users have with the torch library to a minimum. The complete examples provide the ability for the user to explore the entire\n",
    "excursion library without having to write their own code.\n"
   ],
   "metadata": {
    "collapsed": false
   }
  },
  {
   "cell_type": "code",
   "execution_count": 1,
   "outputs": [],
   "source": [
    "import yaml\n",
    "import json\n",
    "%load_ext autoreload\n",
    "%autoreload 2\n",
    "import numpy as np\n",
    "np.warnings.filterwarnings('ignore')\n",
    "%matplotlib inline"
   ],
   "metadata": {
    "collapsed": false,
    "pycharm": {
     "name": "#%%\n"
    }
   }
  },
  {
   "cell_type": "markdown",
   "source": [
    "The Learner object specifically is designed to automate construction of solving the excursion set estimation problem\n",
    "by optimizing a Gaussian process with an active learning approach using a friendly ask-and-tell API.\n",
    "\n",
    "The learner relies on an ExcursionProblem and ExcursionResult object which are created using the algorithm options and\n",
    "provided truth function or black box .py script. (e.g. testcase_1D)"
   ],
   "metadata": {
    "collapsed": false,
    "pycharm": {
     "name": "#%% md\n"
    }
   }
  },
  {
   "cell_type": "code",
   "execution_count": 2,
   "outputs": [],
   "source": [
    "from excursion.plotting import plot\n",
    "from excursion.learner import Learner"
   ],
   "metadata": {
    "collapsed": false,
    "pycharm": {
     "name": "#%%\n"
    }
   }
  },
  {
   "cell_type": "markdown",
   "source": [
    "Here are 1D and 2D examples of the learner ask-and-tell API."
   ],
   "metadata": {
    "collapsed": false,
    "pycharm": {
     "name": "#%% md\n"
    }
   }
  },
  {
   "cell_type": "code",
   "execution_count": 3,
   "outputs": [
    {
     "name": "stdout",
     "output_type": "stream",
     "text": [
      "algorithm_opts =\n",
      "{\n",
      "    \"example\": \"Simple Learner Usage\",\n",
      "    \"ninit\": 3,\n",
      "    \"init_type\": \"random\",\n",
      "    \"jump_start\": true,\n",
      "    \"device\": \"cuda\",\n",
      "    \"likelihood\": {\n",
      "        \"likelihood_type\": \"GaussianLikelihood\",\n",
      "        \"epsilon\": 0.2\n",
      "    },\n",
      "    \"model\": {\n",
      "        \"type\": \"ExactGP\",\n",
      "        \"fit_optimizer\": \"Adam\"\n",
      "    },\n",
      "    \"acq\": {\n",
      "        \"acq_type\": \"MES\"\n",
      "    }\n",
      "}\n"
     ]
    }
   ],
   "source": [
    "import excursion.test_suite.test_functions.fast_2D as testcase_2D\n",
    "import excursion.test_suite.test_functions.fast_1D as testcase_1D\n",
    "\n",
    "file = open('../excursion/test_suite/algorithm_options/algorithm_specs_test.yaml', \"r\")\n",
    "algorithm_opts = yaml.safe_load(file)\n",
    "print('algorithm_opts =')\n",
    "print(json.dumps(algorithm_opts, indent=4))"
   ],
   "metadata": {
    "collapsed": false,
    "pycharm": {
     "name": "#%%\n"
    }
   }
  },
  {
   "cell_type": "markdown",
   "source": [
    "## Step 2: Initialize the learner objects.\n",
    "There are many ways we could have started our ??Bayesian optimization problem??. Using the provided example templates you\n",
    "can avoid all of that using the Learner class. If you wanted your own special initialization you can use _Learner and\n",
    "make your own."
   ],
   "metadata": {
    "collapsed": false
   }
  },
  {
   "cell_type": "code",
   "execution_count": 4,
   "outputs": [],
   "source": [
    "\n",
    "learner_one = Learner(testcase_1D, algorithm_opts)\n",
    "learner_two = Learner(testcase_2D, algorithm_opts)\n",
    "\n",
    "# This creates the estimator object which will do the steps of ??Bayesian optimization.\n",
    "# Can fix later so that just calling learner.suggest() if initialize wasn't called yet then it will call.\n",
    "# It can be very expensive to initialize an estimator if it is a snapshot, since it will need training, so this function was spun off.\n",
    "learner_one.initialize()\n",
    "learner_two.initialize()"
   ],
   "metadata": {
    "collapsed": false,
    "pycharm": {
     "name": "#%%\n"
    }
   }
  },
  {
   "cell_type": "markdown",
   "source": [
    "## Step 3: Run the optimization loop.\n",
    "There are two ways to do this. If the problem details have properly provided a function handle then one can run the loop\n",
    "with the extra functions provided by learner. If not they must use the ask-and-tell style loop."
   ],
   "metadata": {
    "collapsed": false,
    "pycharm": {
     "name": "#%% md\n"
    }
   }
  },
  {
   "cell_type": "code",
   "execution_count": 5,
   "outputs": [
    {
     "name": "stdout",
     "output_type": "stream",
     "text": [
      "tensor([[3.4343]], device='cuda:0', dtype=torch.float64)\n"
     ]
    },
    {
     "ename": "AttributeError",
     "evalue": "'ExcursionResult' object has no attribute 'confusion_matrix'",
     "output_type": "error",
     "traceback": [
      "\u001B[1;31m---------------------------------------------------------------------------\u001B[0m",
      "\u001B[1;31mAttributeError\u001B[0m                            Traceback (most recent call last)",
      "\u001B[1;32mC:\\Users\\EXCURS~1\\AppData\\Local\\Temp/ipykernel_2576/3846329076.py\u001B[0m in \u001B[0;36m<module>\u001B[1;34m\u001B[0m\n\u001B[0;32m      3\u001B[0m     \u001B[0mprint\u001B[0m\u001B[1;33m(\u001B[0m\u001B[0mx_one\u001B[0m\u001B[1;33m)\u001B[0m\u001B[1;33m\u001B[0m\u001B[1;33m\u001B[0m\u001B[0m\n\u001B[0;32m      4\u001B[0m     \u001B[0mresult_one\u001B[0m \u001B[1;33m=\u001B[0m \u001B[0mlearner_one\u001B[0m\u001B[1;33m.\u001B[0m\u001B[0mevaluate_and_tell\u001B[0m\u001B[1;33m(\u001B[0m\u001B[0mx_one\u001B[0m\u001B[1;33m)\u001B[0m\u001B[1;33m\u001B[0m\u001B[1;33m\u001B[0m\u001B[0m\n\u001B[1;32m----> 5\u001B[1;33m     \u001B[0mplot\u001B[0m\u001B[1;33m(\u001B[0m\u001B[0mresult_one\u001B[0m\u001B[1;33m,\u001B[0m \u001B[0mshow_confusion_matrix\u001B[0m\u001B[1;33m=\u001B[0m\u001B[1;32mTrue\u001B[0m\u001B[1;33m)\u001B[0m\u001B[1;33m\u001B[0m\u001B[1;33m\u001B[0m\u001B[0m\n\u001B[0m\u001B[0;32m      6\u001B[0m \u001B[1;33m\u001B[0m\u001B[0m\n\u001B[0;32m      7\u001B[0m \u001B[0mlearner_two\u001B[0m\u001B[1;33m.\u001B[0m\u001B[0mrun\u001B[0m\u001B[1;33m(\u001B[0m\u001B[1;36m15\u001B[0m\u001B[1;33m,\u001B[0m\u001B[0mplot_result\u001B[0m\u001B[1;33m=\u001B[0m\u001B[1;32mTrue\u001B[0m\u001B[1;33m)\u001B[0m\u001B[1;33m\u001B[0m\u001B[1;33m\u001B[0m\u001B[0m\n",
      "\u001B[1;32m~\\Documents\\excursion_project\\excursion\\excursion\\plotting.py\u001B[0m in \u001B[0;36mplot\u001B[1;34m(result, show_confusion_matrix)\u001B[0m\n\u001B[0;32m    264\u001B[0m \u001B[1;32mdef\u001B[0m \u001B[0mplot\u001B[0m\u001B[1;33m(\u001B[0m\u001B[0mresult\u001B[0m\u001B[1;33m:\u001B[0m \u001B[0mExcursionResult\u001B[0m\u001B[1;33m,\u001B[0m \u001B[0mshow_confusion_matrix\u001B[0m\u001B[1;33m=\u001B[0m\u001B[1;32mFalse\u001B[0m\u001B[1;33m)\u001B[0m\u001B[1;33m:\u001B[0m\u001B[1;33m\u001B[0m\u001B[1;33m\u001B[0m\u001B[0m\n\u001B[0;32m    265\u001B[0m     \u001B[1;32mif\u001B[0m \u001B[0mshow_confusion_matrix\u001B[0m\u001B[1;33m:\u001B[0m\u001B[1;33m\u001B[0m\u001B[1;33m\u001B[0m\u001B[0m\n\u001B[1;32m--> 266\u001B[1;33m         \u001B[0mplot_confusion_matrix\u001B[0m\u001B[1;33m(\u001B[0m\u001B[0mresult\u001B[0m\u001B[1;33m.\u001B[0m\u001B[0mconfusion_matrix\u001B[0m\u001B[1;33m,\u001B[0m \u001B[0mresult\u001B[0m\u001B[1;33m.\u001B[0m\u001B[0mpct_correct\u001B[0m\u001B[1;33m)\u001B[0m\u001B[1;33m\u001B[0m\u001B[1;33m\u001B[0m\u001B[0m\n\u001B[0m\u001B[0;32m    267\u001B[0m     return plot_n[result.ndim](acq=result.acq, train_y=result.train_y, train_X=result.train_X, plot_X=result.plot_X,\n\u001B[0;32m    268\u001B[0m                                \u001B[0mplot_G\u001B[0m\u001B[1;33m=\u001B[0m\u001B[0mresult\u001B[0m\u001B[1;33m.\u001B[0m\u001B[0mplot_G\u001B[0m\u001B[1;33m,\u001B[0m \u001B[0mrangedef\u001B[0m\u001B[1;33m=\u001B[0m\u001B[0mresult\u001B[0m\u001B[1;33m.\u001B[0m\u001B[0mrangedef\u001B[0m\u001B[1;33m,\u001B[0m \u001B[0mpred_mean\u001B[0m\u001B[1;33m=\u001B[0m\u001B[0mresult\u001B[0m\u001B[1;33m.\u001B[0m\u001B[0mmean\u001B[0m\u001B[1;33m,\u001B[0m\u001B[1;33m\u001B[0m\u001B[1;33m\u001B[0m\u001B[0m\n",
      "\u001B[1;31mAttributeError\u001B[0m: 'ExcursionResult' object has no attribute 'confusion_matrix'"
     ]
    }
   ],
   "source": [
    "for iteration in range(15):\n",
    "    x_one = learner_one.suggest()\n",
    "    print(x_one)\n",
    "    result_one = learner_one.evaluate_and_tell(x_one)\n",
    "    plot(result_one, show_confusion_matrix=True)\n",
    "\n",
    "learner_two.run(15,plot_result=True)\n",
    "\n",
    "# for iteration in range(15):\n",
    "#     x_two = learner_two.suggest()\n",
    "#     print(x_two)\n",
    "#     result_two = learner_two.evaluate_and_tell(x_two)\n",
    "#     result_two.plot()\n"
   ],
   "metadata": {
    "collapsed": false,
    "pycharm": {
     "name": "#%%\n"
    }
   }
  },
  {
   "cell_type": "code",
   "execution_count": null,
   "outputs": [],
   "source": [
    "# #\n",
    "# # If I do not have the function handle properly provided in the problem details I can use basic ask-and-tell.\n",
    "# #\n",
    "import excursion.test_suite.test_functions.fast_3D as testcase_3D\n",
    "learner_three = Learner(testcase_3D, algorithm_opts)\n",
    "learner_three.initialize()\n",
    "\n",
    "for iteration in range(15):\n",
    "    x_three = learner_three.suggest()\n",
    "    new_y = learner_three.details.functions[0](x_three)\n",
    "    print(x_three, new_y)\n",
    "    result_three = learner_three.tell(x_three, new_y)\n",
    "    plot(result_three, show_confusion_matrix=True)\n",
    "\n"
   ],
   "metadata": {
    "collapsed": false,
    "pycharm": {
     "name": "#%%\n"
    }
   }
  },
  {
   "cell_type": "code",
   "source": [
    "# 4D or nD example\n",
    "\n",
    "file = open('../excursion/test_suite/algorithm_options/algorithm_specs_circle.yaml', \"r\")\n",
    "algorithm_opts = yaml.safe_load(file)\n",
    "print('algorithm_opts =')\n",
    "print(json.dumps(algorithm_opts, indent=4))"
   ],
   "metadata": {
    "collapsed": false,
    "pycharm": {
     "name": "#%%\n"
    }
   },
   "execution_count": null,
   "outputs": []
  },
  {
   "cell_type": "code",
   "execution_count": null,
   "outputs": [],
   "source": [
    "import excursion.test_suite.test_functions.parabola_nD as testcase_4D\n",
    "learner_four = Learner(testcase_4D, algorithm_opts)\n",
    "learner_four.initialize()\n",
    "\n",
    "for iteration in range(15):\n",
    "    x_three = learner_four.suggest()\n",
    "    new_y = learner_four.details.functions[0](x_three)\n",
    "    print(x_three, new_y)\n",
    "    result_three = learner_four.tell(x_three, new_y)\n",
    "    plot(result_three, show_confusion_matrix=True)"
   ],
   "metadata": {
    "collapsed": false,
    "pycharm": {
     "name": "#%%\n"
    }
   }
  }
 ],
 "metadata": {
  "kernelspec": {
   "name": "pycharm-15431b4e",
   "language": "python",
   "display_name": "PyCharm (jason_refactor)"
  },
  "language_info": {
   "codemirror_mode": {
    "name": "ipython",
    "version": 2
   },
   "file_extension": ".py",
   "mimetype": "text/x-python",
   "name": "python",
   "nbconvert_exporter": "python",
   "pygments_lexer": "ipython2",
   "version": "2.7.6"
  }
 },
 "nbformat": 4,
 "nbformat_minor": 0
}