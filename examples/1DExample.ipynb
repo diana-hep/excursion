{
 "cells": [
  {
   "cell_type": "code",
   "execution_count": 1,
   "metadata": {},
   "outputs": [
    {
     "name": "stdout",
     "output_type": "stream",
     "text": [
      "Populating the interactive namespace from numpy and matplotlib\n"
     ]
    }
   ],
   "source": [
    "%pylab inline"
   ]
  },
  {
   "cell_type": "code",
   "execution_count": 91,
   "metadata": {},
   "outputs": [],
   "source": [
    "import os\n",
    "import datetime\n",
    "import numpy as np\n",
    "from excursion import ExcursionProblem\n",
    "import excursion.plotting.onedim as plots\n",
    "import excursion.utils as utils\n",
    "import excursion.optimize\n",
    "np.warnings.filterwarnings('ignore')\n",
    "\n",
    "\n",
    "def func(X):\n",
    "    f = 30\n",
    "    return 11-10*(np.tanh((X-0.3)*3) + 0.15*np.sin(X*f))\n",
    "\n",
    "\n",
    "scandetails = ExcursionProblem([func],thresholds=[0.7])\n",
    "\n",
    "\n"
   ]
  },
  {
   "cell_type": "code",
   "execution_count": 92,
   "metadata": {},
   "outputs": [],
   "source": [
    "def plot_and_save(workdir, index, *args,**kwargs):\n",
    "    fig, axarr = plt.subplots(1, 2)\n",
    "    fig.set_size_inches(9.5, 3.5)\n",
    "    plots.plot(axarr, *args,**kwargs)\n",
    "    plt.tight_layout()\n",
    "    plt.savefig(os.path.join(workdir,'update_{}.png'.format(str(index).zfill(3))), bbox_inches = 'tight')\n",
    "    plt.show()"
   ]
  },
  {
   "cell_type": "code",
   "execution_count": 93,
   "metadata": {},
   "outputs": [],
   "source": [
    "problem = ExcursionProblem([func],thresholds=[0.7])\n",
    "learner = excursion.Learner(problem)"
   ]
  },
  {
   "cell_type": "code",
   "execution_count": null,
   "metadata": {
    "scrolled": false
   },
   "outputs": [],
   "source": [
    "N_UPDATES = 10\n",
    "learner.initialize(n_init=2)\n",
    "\n",
    "workdir = datetime.datetime.now().strftime('%Y-%m-%d-%H-%M-%S-2dmulti')\n",
    "os.mkdir(workdir)\n",
    "for index in range(N_UPDATES):\n",
    "    plot_and_save(workdir, index, learner.gps,learner.X,learner.y_list,learner.scandetails)\n",
    "    newX = learner.suggest()\n",
    "    learner.evaluate_and_tell(newX)"
   ]
  }
 ],
 "metadata": {
  "kernelspec": {
   "display_name": "Python 3",
   "language": "python",
   "name": "python3"
  },
  "language_info": {
   "codemirror_mode": {
    "name": "ipython",
    "version": 3
   },
   "file_extension": ".py",
   "mimetype": "text/x-python",
   "name": "python",
   "nbconvert_exporter": "python",
   "pygments_lexer": "ipython3",
   "version": "3.6.6"
  }
 },
 "nbformat": 4,
 "nbformat_minor": 2
}
