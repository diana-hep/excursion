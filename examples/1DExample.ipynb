{
 "cells": [
  {
   "cell_type": "code",
   "execution_count": 1,
   "metadata": {},
   "outputs": [
    {
     "name": "stdout",
     "output_type": "stream",
     "text": [
      "Populating the interactive namespace from numpy and matplotlib\n"
     ]
    }
   ],
   "source": [
    "%pylab inline"
   ]
  },
  {
   "cell_type": "code",
   "execution_count": 2,
   "metadata": {},
   "outputs": [],
   "source": [
    "import os\n",
    "\n",
    "import excursion\n",
    "import excursion.testcases.oned_fast as scandetails\n",
    "import excursion.optimize\n",
    "import numpy as np\n",
    "\n",
    "from excursion.utils import point_entropy, mesh2points, points2mesh, values2mesh\n",
    "\n",
    "import datetime\n",
    "\n",
    "import excursion.plotting.onedim as plots\n",
    "import excursion.utils as utils\n",
    "\n",
    "np.warnings.filterwarnings('ignore')\n"
   ]
  },
  {
   "cell_type": "code",
   "execution_count": 3,
   "metadata": {},
   "outputs": [
    {
     "data": {
      "image/png": "[encoded data removed]",
      "text/plain": [
       "<Figure size 432x288 with 1 Axes>"
      ]
     },
     "metadata": {
      "needs_background": "light"
     },
     "output_type": "display_data"
    }
   ],
   "source": [
    "\n",
    "for func in scandetails.truth_functions:\n",
    "    plt.plot(scandetails.plotX.ravel(),func(scandetails.plotX).ravel())\n",
    "    \n",
    "for thr in scandetails.thresholds:\n",
    "    plt.hlines(thr, np.min(scandetails.plotX),np.max(scandetails.plotX), colors = 'red')\n"
   ]
  },
  {
   "cell_type": "code",
   "execution_count": 4,
   "metadata": {},
   "outputs": [],
   "source": [
    "def plot_and_save(workdir, index, *args):\n",
    "    fig, axarr = plt.subplots(1, 2)\n",
    "    fig.set_size_inches(9.5, 3.5)\n",
    "    plots.plot(axarr,gps,X,y_list,scandetails)\n",
    "    plt.tight_layout()\n",
    "    plt.savefig(os.path.join(workdir,'update_{}.png'.format(str(index).zfill(3))), bbox_inches = 'tight')\n",
    "    plt.show()"
   ]
  },
  {
   "cell_type": "code",
   "execution_count": 5,
   "metadata": {},
   "outputs": [],
   "source": [
    "#initialize it...\n",
    "N_INIT  = 2\n",
    "N_FUNCS = 1\n",
    "\n",
    "np.random.seed(1)\n",
    "X = np.random.uniform(scandetails.plot_rangedef[:,0],scandetails.plot_rangedef[:,1], size = (N_INIT,scandetails.ndims))\n",
    "y_list = [np.array([scandetails.truth_functions[i](np.asarray([x]))[0] for x in X]) for i in range(N_FUNCS)]"
   ]
  },
  {
   "cell_type": "code",
   "execution_count": null,
   "metadata": {
    "scrolled": false
   },
   "outputs": [],
   "source": [
    "N_UPDATES = 10\n",
    "\n",
    "workdir = datetime.datetime.now().strftime('%Y-%m-%d-%H-%M-%S-2dmulti')\n",
    "os.mkdir(workdir)\n",
    "for index in range(N_UPDATES):\n",
    "    gps = [excursion.get_gp(X,y_list[i]) for i in range(N_FUNCS)]\n",
    "\n",
    "    plot_and_save(workdir, index, gps,X,y_list,scandetails)\n",
    "\n",
    "    newx, acqvals = excursion.optimize.gridsearch(gps, X, scandetails)\n",
    "\n",
    "    print('Iteration {}. new x: {}'.format(index, newx))\n",
    "    newys_list = [scandetails.truth_functions[i](np.asarray([newx])) for i in range(N_FUNCS)]\n",
    "    for i,newys in enumerate(newys_list):\n",
    "        print('Iteration {}. Evaluted function {} to values: {}'.format(index, i,newys))\n",
    "        y_list[i] = np.concatenate([y_list[i],newys])\n",
    "    X = np.concatenate([X,np.array([newx])])"
   ]
  },
  {
   "cell_type": "code",
   "execution_count": null,
   "metadata": {},
   "outputs": [],
   "source": []
  }
 ],
 "metadata": {
  "kernelspec": {
   "display_name": "Python 3",
   "language": "python",
   "name": "python3"
  },
  "language_info": {
   "codemirror_mode": {
    "name": "ipython",
    "version": 3
   },
   "file_extension": ".py",
   "mimetype": "text/x-python",
   "name": "python",
   "nbconvert_exporter": "python",
   "pygments_lexer": "ipython3",
   "version": "3.6.6"
  }
 },
 "nbformat": 4,
 "nbformat_minor": 2
}
