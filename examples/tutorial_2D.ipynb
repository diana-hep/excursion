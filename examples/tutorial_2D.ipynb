{
 "cells": [
  {
   "cell_type": "markdown",
   "metadata": {},
   "source": [
    "# Tutorial: applying excursion in 2 dimension\n",
    "## (with GPyTorch)"
   ]
  },
  {
   "cell_type": "code",
   "execution_count": 1,
   "metadata": {},
   "outputs": [
    {
     "name": "stdout",
     "output_type": "stream",
     "text": [
      "Populating the interactive namespace from numpy and matplotlib\n"
     ]
    }
   ],
   "source": [
    "%pylab inline\n",
    "%load_ext autoreload\n",
    "%autoreload 2"
   ]
  },
  {
   "cell_type": "code",
   "execution_count": 2,
   "metadata": {},
   "outputs": [],
   "source": [
    "#generic imports\n",
    "import numpy as np\n",
    "import datetime\n",
    "import os\n",
    "import json\n",
    "import yaml\n",
    "import math\n",
    "import time\n",
    "import torch\n",
    "import gpytorch\n",
    "import matplotlib.pyplot as plt\n",
    "%matplotlib inline\n",
    "np.warnings.filterwarnings('ignore')\n",
    "\n",
    "#excursion package imports\n",
    "import excursion"
   ]
  },
  {
   "cell_type": "markdown",
   "metadata": {},
   "source": [
    "## Step 0: What is excursion?\n",
    "You can find an explanation [here]()\n",
    "#TO DO\n",
    "Also, it is advisable to use a virtualenv with the following [requeriments](https://github.com/irinaespejo/excursion/blob/master/requeriments.txt)\n"
   ]
  },
  {
   "cell_type": "markdown",
   "metadata": {},
   "source": [
    "## Step 1: Load\n",
    "\n",
    "We need to initilize several things and with a specific structure so that it's readable:\n",
    "\n",
    "-  **True/Black-box function** (this is not a tutorial using funcX, just a simple toy function is all we need) \n",
    "-  **Grid**: where do you want to search for next evaluation points?\n",
    "-  **Gaussian Process**: which kernel and likelihood do you want to use?\n",
    "-  **Algorithm Options**: which acquisition function? Do you want batch selection? How many points per batch? Which batch method selection?\n",
    "\n",
    "There are many choices and a user might not know a priori what to use. That is why we have prepared a set of complete examples that you just have to load to get started. These pre-build examples are in `excursion/testcases/fast_2D.py`these `.py` scripts contain initialization for: true/black-box function and grid (the \"numerical options\"). The files in `excursion/testcases/algorithms/algorithm_specs.yml` are yaml files that contain prestablished Gaussian Processes and Algorithm Options (the \"algorithm options\"). This way of ordering the init step makes it easy to fix a numerical problem while trying different algorithm configurations and vice versa."
   ]
  },
  {
   "cell_type": "code",
   "execution_count": 3,
   "metadata": {},
   "outputs": [
    {
     "data": {
      "text/plain": "<Figure size 432x288 with 2 Axes>",
      "image/png": "[encoded data removed]"
     },
     "metadata": {
      "needs_background": "light"
     },
     "output_type": "display_data"
    }
   ],
   "source": [
    "#load testcase\n",
    "import testing.testcases.fast_2D as testcase_details\n",
    "\n",
    "for func in testcase_details.true_functions:\n",
    "    ix,iy = testcase_details.plot_meshgrid\n",
    "    X = testcase_details.X\n",
    "    cont = excursion.utils.values2mesh(func(X), testcase_details.rangedef, testcase_details.invalid_region)\n",
    "    levels = plt.contourf(ix,iy,cont)\n",
    "    plt.contour(ix,iy,cont, levels = [0.], color='white')\n",
    "    \n",
    "levels.collections[0].set_label('excursion set at t='+str(testcase_details.thresholds.item()))\n",
    "cbar = plt.colorbar(levels)\n",
    "cbar.ax.set_ylabel('f(x,y)')\n",
    "#approximate level set for plot purposes\n",
    "plt.xlabel('x')\n",
    "plt.ylabel('y')\n",
    "plt.title('2D_fast.py')\n",
    "plt.legend(loc=0)\n",
    "plt.show()"
   ]
  },
  {
   "cell_type": "code",
   "execution_count": 4,
   "metadata": {},
   "outputs": [
    {
     "ename": "FileNotFoundError",
     "evalue": "[Errno 2] No such file or directory: '../excursion/testcases/algorithms/algorithm_specs.yaml'",
     "output_type": "error",
     "traceback": [
      "\u001B[1;31m---------------------------------------------------------------------------\u001B[0m",
      "\u001B[1;31mFileNotFoundError\u001B[0m                         Traceback (most recent call last)",
      "\u001B[1;32m<ipython-input-4-89bdba437ed2>\u001B[0m in \u001B[0;36m<module>\u001B[1;34m\u001B[0m\n\u001B[0;32m      1\u001B[0m \u001B[1;31m#load algorithm options\u001B[0m\u001B[1;33m\u001B[0m\u001B[1;33m\u001B[0m\u001B[1;33m\u001B[0m\u001B[0m\n\u001B[1;32m----> 2\u001B[1;33m \u001B[0mfile\u001B[0m \u001B[1;33m=\u001B[0m \u001B[0mopen\u001B[0m\u001B[1;33m(\u001B[0m\u001B[1;34m'../excursion/testcases/algorithms/algorithm_specs.yaml'\u001B[0m\u001B[1;33m,\u001B[0m \u001B[1;34m\"r\"\u001B[0m\u001B[1;33m)\u001B[0m\u001B[1;33m\u001B[0m\u001B[1;33m\u001B[0m\u001B[0m\n\u001B[0m\u001B[0;32m      3\u001B[0m \u001B[0malgorithm_opts\u001B[0m \u001B[1;33m=\u001B[0m \u001B[0myaml\u001B[0m\u001B[1;33m.\u001B[0m\u001B[0msafe_load\u001B[0m\u001B[1;33m(\u001B[0m\u001B[0mfile\u001B[0m\u001B[1;33m)\u001B[0m\u001B[1;33m\u001B[0m\u001B[1;33m\u001B[0m\u001B[0m\n\u001B[0;32m      4\u001B[0m \u001B[0mprint\u001B[0m\u001B[1;33m(\u001B[0m\u001B[1;34m'algorithm_opts ='\u001B[0m\u001B[1;33m)\u001B[0m\u001B[1;33m\u001B[0m\u001B[1;33m\u001B[0m\u001B[0m\n\u001B[0;32m      5\u001B[0m \u001B[0mprint\u001B[0m\u001B[1;33m(\u001B[0m\u001B[0mjson\u001B[0m\u001B[1;33m.\u001B[0m\u001B[0mdumps\u001B[0m\u001B[1;33m(\u001B[0m\u001B[0malgorithm_opts\u001B[0m\u001B[1;33m,\u001B[0m \u001B[0mindent\u001B[0m\u001B[1;33m=\u001B[0m\u001B[1;36m4\u001B[0m\u001B[1;33m)\u001B[0m\u001B[1;33m)\u001B[0m\u001B[1;33m\u001B[0m\u001B[1;33m\u001B[0m\u001B[0m\n",
      "\u001B[1;31mFileNotFoundError\u001B[0m: [Errno 2] No such file or directory: '../excursion/testcases/algorithms/algorithm_specs.yaml'"
     ]
    }
   ],
   "source": [
    "#load algorithm options\n",
    "file = open('../excursion/testcases/algorithms/algorithm_specs.yaml', \"r\")\n",
    "algorithm_opts = yaml.safe_load(file)\n",
    "print('algorithm_opts =')\n",
    "print(json.dumps(algorithm_opts, indent=4))"
   ]
  },
  {
   "cell_type": "markdown",
   "metadata": {},
   "source": [
    "## Step 2: Init the Gaussian Proces\n",
    "\n",
    "We initialize the gaussian process and likelihood according to `algorithm_opts['init_type']`"
   ]
  },
  {
   "cell_type": "code",
   "execution_count": null,
   "metadata": {},
   "outputs": [],
   "source": [
    "#is there GPU?\n",
    "if (torch.cuda.is_available()):\n",
    "    device = torch.device('cuda')\n",
    "else:\n",
    "    device = torch.device('cpu')\n",
    "\n",
    "from excursion import init_gp\n",
    "model, likelihood = init_gp(testcase_details, \\\n",
    "                            algorithm_opts, \\\n",
    "                            algorithm_opts[\"ninit\"], \\\n",
    "                            device)\n",
    "\n",
    "# X_init and y_init are random points so that we can fit the GP posterior wrt these points"
   ]
  },
  {
   "cell_type": "code",
   "execution_count": null,
   "metadata": {},
   "outputs": [],
   "source": [
    "# fit hyperparameters\n",
    "model.train()\n",
    "likelihood.train()\n",
    "excursion.fit_hyperparams(model,likelihood)"
   ]
  },
  {
   "cell_type": "code",
   "execution_count": null,
   "metadata": {},
   "outputs": [],
   "source": [
    "# plot the fitting\n",
    "import excursion.plotting.twodim as plots\n",
    "plots.plot_GP_init(plt, model, testcase_details, device=device, dtype=torch.float64)"
   ]
  },
  {
   "cell_type": "markdown",
   "metadata": {},
   "source": [
    "## Step 3: Init the ExcursionEstimator"
   ]
  },
  {
   "cell_type": "code",
   "execution_count": null,
   "metadata": {},
   "outputs": [],
   "source": [
    "from excursion.estimator import ExcursionSetEstimator\n",
    "# this object keeps internal track of the status of all objects involved\n",
    "# in excursion at each step\n",
    "estimator = ExcursionSetEstimator(testcase_details, \\\n",
    "                                  algorithm_opts, \\\n",
    "                                  model, \\\n",
    "                                  likelihood, \\\n",
    "                                  device)"
   ]
  },
  {
   "cell_type": "markdown",
   "metadata": {},
   "source": [
    "## Step 4:  Smart grid search (active learning)"
   ]
  },
  {
   "cell_type": "code",
   "execution_count": null,
   "metadata": {},
   "outputs": [],
   "source": [
    "n_updates = algorithm_opts['nupdates']\n",
    "#save results in folder\n",
    "timestampStr = datetime.datetime.now().strftime('%d-%b-%Y_%H_%M_%S') + '\\\\'\n",
    "outputfolder = r'C:\\Users\\Tutrie\\Documents\\IRIS-excursion\\excursion_irina\\examples\\results'\n",
    "outputfolder = os.path.join(outputfolder, timestampStr)\n",
    "os.makedirs(outputfolder)\n",
    "\n",
    "for iteration in range(1, n_updates+1):    \n",
    "    #take a step forward: find new points to evaluate\n",
    "    estimator.step(testcase_details, algorithm_opts, model, likelihood)\n",
    "    \n",
    "    #plot the new status\n",
    "    estimator.plot_status(\n",
    "            testcase_details, algorithm_opts, model, outputfolder)\n",
    "    \n",
    "    #update the posterior of the GP wrt the new points\n",
    "    model = estimator.update_posterior(testcase_details, algorithm_opts, model, likelihood)\n",
    "    \n",
    "    #get diagnostics (accuracy metric)\n",
    "    estimator.get_diagnostics(testcase_details, model, likelihood)\n",
    "    \n",
    "#save results\n",
    "estimator.print_results(outputfolder, testcase_details, algorithm_opts)"
   ]
  }
 ],
 "metadata": {
  "kernelspec": {
   "name": "pycharm-7b00b61e",
   "language": "python",
   "display_name": "PyCharm (excursion)"
  },
  "language_info": {
   "codemirror_mode": {
    "name": "ipython",
    "version": 3
   },
   "file_extension": ".py",
   "mimetype": "text/x-python",
   "name": "python",
   "nbconvert_exporter": "python",
   "pygments_lexer": "ipython3",
   "version": "3.7.5"
  }
 },
 "nbformat": 4,
 "nbformat_minor": 4
}