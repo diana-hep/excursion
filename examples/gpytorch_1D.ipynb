{
 "cells": [
  {
   "cell_type": "code",
   "execution_count": 1,
   "metadata": {},
   "outputs": [
    {
     "name": "stdout",
     "output_type": "stream",
     "text": [
      "Populating the interactive namespace from numpy and matplotlib\n"
     ]
    }
   ],
   "source": [
    "%pylab inline"
   ]
  },
  {
   "cell_type": "code",
   "execution_count": 2,
   "metadata": {},
   "outputs": [],
   "source": [
    "import os\n",
    "\n",
    "#import excursion\n",
    "import sys\n",
    "sys.path.insert(0, '/home/irina/Documents/PROJECTS/excursion/excursion')\n",
    "sys.path.insert(0, '/home/irina/Documents/PROJECTS/excursion/excursion/testcases/')\n",
    "\n",
    "import testcases.oned_fast as scandetails\n",
    "import excursion.optimize \n",
    "\n",
    "\n",
    "import numpy as np\n",
    "import excursion.utils as utils\n",
    "\n",
    "\n",
    "sys.path.insert(0, '/home/irina/Documents/PROJECTS/excursion/excursion/utils/')\n",
    "from utils import point_entropy, mesh2points, points2mesh, values2mesh\n",
    "\n",
    "import datetime\n",
    "\n",
    "sys.path.insert(0, '/home/irina/Documents/PROJECTS/excursion/excursion/plotting/')\n",
    "import plotting.onedim as plots\n",
    "\n",
    "np.warnings.filterwarnings('ignore')\n",
    "\n",
    "import math"
   ]
  },
  {
   "cell_type": "code",
   "execution_count": 3,
   "metadata": {},
   "outputs": [
    {
     "data": {
      "image/png": "[encoded data removed]",
      "text/plain": [
       "<Figure size 432x288 with 1 Axes>"
      ]
     },
     "metadata": {
      "needs_background": "light"
     },
     "output_type": "display_data"
    }
   ],
   "source": [
    "for func in scandetails.truth_functions:\n",
    "    plt.plot(scandetails.plotX.ravel(),func(scandetails.plotX).ravel(), label=str(func))\n",
    "    \n",
    "for thr in scandetails.thresholds:\n",
    "    plt.hlines(thr, np.min(scandetails.plotX),np.max(scandetails.plotX), colors = 'red', label=str(thr))\n"
   ]
  },
  {
   "cell_type": "code",
   "execution_count": 4,
   "metadata": {},
   "outputs": [],
   "source": [
    "import torch\n",
    "y_true = func(scandetails.plotX).ravel()\n",
    "X = torch.tensor(scandetails.plotX.ravel())"
   ]
  },
  {
   "cell_type": "markdown",
   "metadata": {},
   "source": [
    "### 1) GP model specification\n",
    "prior:\n",
    " - RBF kernel \n",
    " - constant mean"
   ]
  },
  {
   "cell_type": "code",
   "execution_count": 5,
   "metadata": {},
   "outputs": [],
   "source": [
    "import gpytorch"
   ]
  },
  {
   "cell_type": "code",
   "execution_count": 6,
   "metadata": {},
   "outputs": [],
   "source": [
    "# simplest form of GP model RBF with constant mean prior, exact inference\n",
    "class ExactGPModel(gpytorch.models.ExactGP):\n",
    "    def __init__(self, train_x, train_y, likelihood):\n",
    "        super(ExactGPModel, self).__init__(train_x, train_y, likelihood)\n",
    "        self.mean_module = gpytorch.means.ConstantMean()\n",
    "        self.covar_module = gpytorch.kernels.ScaleKernel(gpytorch.kernels.RBFKernel())\n",
    "\n",
    "    def forward(self, x):\n",
    "        mean_x = self.mean_module(x)\n",
    "        covar_x = self.covar_module(x)\n",
    "        return gpytorch.distributions.MultivariateNormal(mean_x, covar_x)"
   ]
  },
  {
   "cell_type": "markdown",
   "metadata": {},
   "source": [
    "### 2) Likelihood / observational model\n",
    "\n",
    "excursion: $\\epsilon = 0$"
   ]
  },
  {
   "cell_type": "code",
   "execution_count": 7,
   "metadata": {},
   "outputs": [],
   "source": [
    "likelihood = gpytorch.likelihoods.FixedNoiseGaussianLikelihood(noise=0)"
   ]
  },
  {
   "cell_type": "markdown",
   "metadata": {},
   "source": [
    "### 3) Model"
   ]
  },
  {
   "cell_type": "markdown",
   "metadata": {},
   "source": [
    "initialization: $x_0$ (2 points)"
   ]
  },
  {
   "cell_type": "code",
   "execution_count": 8,
   "metadata": {},
   "outputs": [
    {
     "name": "stdout",
     "output_type": "stream",
     "text": [
      "X_0 =  tensor([-0.1660,  0.4406], dtype=torch.float64)\n",
      "f(X_0) =  tensor([14.1128,  2.4481], dtype=torch.float64)\n"
     ]
    }
   ],
   "source": [
    "np.random.seed(1)\n",
    "X_train = torch.from_numpy(\\\n",
    "          np.random.uniform(scandetails.plot_rangedef[:,0],scandetails.plot_rangedef[:,1], size = (2,)) )\n",
    "\n",
    "y_train = torch.from_numpy(\\\n",
    "          np.array([scandetails.truth_functions[0](np.asarray([x]))[0] for x in X_train]) )\n",
    "\n",
    "print('X_0 = ', X_train)\n",
    "print('f(X_0) = ', y_train)"
   ]
  },
  {
   "cell_type": "markdown",
   "metadata": {},
   "source": [
    "calculate posterior of GP given the two init points"
   ]
  },
  {
   "cell_type": "code",
   "execution_count": 9,
   "metadata": {},
   "outputs": [
    {
     "name": "stdout",
     "output_type": "stream",
     "text": [
      "model  ExactGPModel(\n",
      "  (likelihood): FixedNoiseGaussianLikelihood(\n",
      "    (noise_covar): FixedGaussianNoise()\n",
      "  )\n",
      "  (mean_module): ConstantMean()\n",
      "  (covar_module): ScaleKernel(\n",
      "    (base_kernel): RBFKernel(\n",
      "      (raw_lengthscale_constraint): Positive()\n",
      "    )\n",
      "    (raw_outputscale_constraint): Positive()\n",
      "  )\n",
      ")\n"
     ]
    }
   ],
   "source": [
    "model = ExactGPModel(X_train, y_train, likelihood)\n",
    "kernel = model.covar_module\n",
    "\n",
    "#set hyperparameters for testing\n",
    "#set C=1 l=1\n",
    "kernel.base_kernel.lengthscale = torch.tensor([1.])\n",
    "kernel.outputscale = torch.tensor([1.])\n",
    "\n",
    "print('model ', model)"
   ]
  },
  {
   "cell_type": "markdown",
   "metadata": {},
   "source": [
    "### 4) Acquisition of new points maximizing info gain"
   ]
  },
  {
   "cell_type": "code",
   "execution_count": 10,
   "metadata": {},
   "outputs": [
    {
     "name": "stdout",
     "output_type": "stream",
     "text": [
      "xcandidate:  tensor([-0.5960], dtype=torch.float64)\n"
     ]
    }
   ],
   "source": [
    "#Goal\n",
    "#newx, acqvals = excursion.optimize.gridsearch(gps, X, scandetails)\n",
    "N_UPDATES = 10\n",
    "gps = [model] #list of GPs\n",
    "thresholds = [0.7]\n",
    "xcandidate = torch.tensor([X[20]])\n",
    "print('xcandidate: ', xcandidate)"
   ]
  },
  {
   "cell_type": "code",
   "execution_count": 11,
   "metadata": {},
   "outputs": [
    {
     "name": "stdout",
     "output_type": "stream",
     "text": [
      "info gain of xcandidate = tensor(-0.5960, dtype=torch.float64) given training set : tensor(-0.0915, grad_fn=<NegBackward>)\n"
     ]
    }
   ],
   "source": [
    "#call info gain\n",
    "sys.path.insert(0, '/home/irina/Documents/PROJECTS/excursion/excursion/optimize/')\n",
    "import optimize.core as optimizecore\n",
    "info_gain_candidate = optimizecore.info_gain_gpytorch(xcandidate, gps, thresholds, X)\n",
    "print('info gain of xcandidate = '+str(xcandidate[0])+' given training set :', info_gain_candidate)"
   ]
  },
  {
   "cell_type": "code",
   "execution_count": 28,
   "metadata": {},
   "outputs": [
    {
     "name": "stdout",
     "output_type": "stream",
     "text": [
      "info_gain\n",
      "taking new x. best non-existent index 0 [-0.15151515]\n"
     ]
    }
   ],
   "source": [
    "sys.path.insert(0, '/home/irina/Documents/PROJECTS/excursion/excursion/optimize')\n",
    "import optimize as optimize\n",
    "import imp\n",
    "imp.reload(optimize)\n",
    "imp.reload(optimizecore)\n",
    "newx, acqvals = optimize.gridsearch_gpytorch(gps, X, scandetails)"
   ]
  },
  {
   "cell_type": "code",
   "execution_count": null,
   "metadata": {},
   "outputs": [],
   "source": []
  },
  {
   "cell_type": "code",
   "execution_count": null,
   "metadata": {},
   "outputs": [],
   "source": []
  },
  {
   "cell_type": "code",
   "execution_count": null,
   "metadata": {},
   "outputs": [],
   "source": []
  },
  {
   "cell_type": "code",
   "execution_count": null,
   "metadata": {},
   "outputs": [],
   "source": []
  },
  {
   "cell_type": "code",
   "execution_count": null,
   "metadata": {},
   "outputs": [],
   "source": []
  },
  {
   "cell_type": "code",
   "execution_count": null,
   "metadata": {},
   "outputs": [],
   "source": []
  },
  {
   "cell_type": "code",
   "execution_count": null,
   "metadata": {},
   "outputs": [],
   "source": []
  },
  {
   "cell_type": "code",
   "execution_count": null,
   "metadata": {},
   "outputs": [],
   "source": []
  },
  {
   "cell_type": "code",
   "execution_count": null,
   "metadata": {},
   "outputs": [],
   "source": []
  },
  {
   "cell_type": "code",
   "execution_count": null,
   "metadata": {},
   "outputs": [],
   "source": []
  },
  {
   "cell_type": "code",
   "execution_count": null,
   "metadata": {},
   "outputs": [],
   "source": [
    "\\"
   ]
  },
  {
   "cell_type": "code",
   "execution_count": null,
   "metadata": {},
   "outputs": [],
   "source": []
  },
  {
   "cell_type": "code",
   "execution_count": null,
   "metadata": {},
   "outputs": [],
   "source": []
  }
 ],
 "metadata": {
  "kernelspec": {
   "display_name": "Python 3",
   "language": "python",
   "name": "python3"
  },
  "language_info": {
   "codemirror_mode": {
    "name": "ipython",
    "version": 3
   },
   "file_extension": ".py",
   "mimetype": "text/x-python",
   "name": "python",
   "nbconvert_exporter": "python",
   "pygments_lexer": "ipython3",
   "version": "3.7.3"
  }
 },
 "nbformat": 4,
 "nbformat_minor": 2
}
