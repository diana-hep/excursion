{
 "cells": [
  {
   "cell_type": "code",
   "execution_count": null,
   "metadata": {},
   "outputs": [],
   "source": [
    "%pylab inline"
   ]
  },
  {
   "cell_type": "code",
   "execution_count": null,
   "metadata": {},
   "outputs": [],
   "source": [
    "import os\n",
    "\n",
    "#import excursion\n",
    "import sys\n",
    "sys.path.insert(0, '/home/irina/Documents/PROJECTS/excursion/excursion')\n",
    "sys.path.insert(0, '/home/irina/Documents/PROJECTS/excursion/excursion/testcases/')\n",
    "\n",
    "import testcases.oned_fast as scandetails\n",
    "import excursion.optimize \n",
    "\n",
    "\n",
    "import numpy as np\n",
    "import excursion.utils as utils\n",
    "\n",
    "\n",
    "sys.path.insert(0, '/home/irina/Documents/PROJECTS/excursion/excursion/utils/')\n",
    "from utils import point_entropy, point_entropy_gpytorch, mesh2points, points2mesh, values2mesh\n",
    "\n",
    "import datetime\n",
    "\n",
    "sys.path.insert(0, '/home/irina/Documents/PROJECTS/excursion/excursion/plotting/')\n",
    "import plotting.onedim as plots\n",
    "\n",
    "np.warnings.filterwarnings('ignore')\n",
    "\n",
    "import math"
   ]
  },
  {
   "cell_type": "code",
   "execution_count": null,
   "metadata": {},
   "outputs": [],
   "source": [
    "for func in scandetails.truth_functions:\n",
    "    plt.plot(scandetails.plotX.ravel(),func(scandetails.plotX).ravel(), label=str(func))\n",
    "    \n",
    "for thr in scandetails.thresholds:\n",
    "    plt.hlines(thr, np.min(scandetails.plotX),np.max(scandetails.plotX), colors = 'red', label=str(thr))\n"
   ]
  },
  {
   "cell_type": "code",
   "execution_count": null,
   "metadata": {},
   "outputs": [],
   "source": [
    "import torch\n",
    "y_true = func(scandetails.plotX).ravel()\n",
    "X_grid = torch.tensor(scandetails.plotX.ravel())"
   ]
  },
  {
   "cell_type": "markdown",
   "metadata": {},
   "source": [
    "### 1) GP model specification\n",
    "prior:\n",
    " - RBF kernel \n",
    " - constant mean"
   ]
  },
  {
   "cell_type": "code",
   "execution_count": null,
   "metadata": {},
   "outputs": [],
   "source": [
    "import gpytorch"
   ]
  },
  {
   "cell_type": "code",
   "execution_count": null,
   "metadata": {},
   "outputs": [],
   "source": [
    "# simplest form of GP model RBF with constant mean prior, exact inference\n",
    "class ExactGPModel(gpytorch.models.ExactGP):\n",
    "    def __init__(self, train_x, train_y, likelihood):\n",
    "        super(ExactGPModel, self).__init__(train_x, train_y, likelihood)\n",
    "        self.mean_module = gpytorch.means.ConstantMean()\n",
    "        self.covar_module = gpytorch.kernels.ScaleKernel(gpytorch.kernels.RBFKernel())\n",
    "\n",
    "    def forward(self, x):\n",
    "        mean_x = self.mean_module(x)\n",
    "        covar_x = self.covar_module(x)\n",
    "        return gpytorch.distributions.MultivariateNormal(mean_x, covar_x)"
   ]
  },
  {
   "cell_type": "markdown",
   "metadata": {},
   "source": [
    "### 2) Likelihood / observational model\n",
    "\n",
    "excursion: $\\epsilon = 0$"
   ]
  },
  {
   "cell_type": "code",
   "execution_count": null,
   "metadata": {},
   "outputs": [],
   "source": [
    "likelihood = gpytorch.likelihoods.FixedNoiseGaussianLikelihood(noise=torch.tensor([0]))"
   ]
  },
  {
   "cell_type": "markdown",
   "metadata": {},
   "source": [
    "### 3) Model"
   ]
  },
  {
   "cell_type": "markdown",
   "metadata": {},
   "source": [
    "initialization: $x_0$ (2 points)"
   ]
  },
  {
   "cell_type": "code",
   "execution_count": null,
   "metadata": {},
   "outputs": [],
   "source": [
    "np.random.seed(1)\n",
    "X = torch.from_numpy(\\\n",
    "          np.random.uniform(scandetails.plot_rangedef[:,0],scandetails.plot_rangedef[:,1], size = (2,)) )\n",
    "\n",
    "y_list = torch.from_numpy(\\\n",
    "          np.array([scandetails.truth_functions[0](np.asarray([x]))[0] for x in X]) )\n",
    "\n",
    "print('X_0 = ', X)\n",
    "print('f(X_0) = ', y_list)"
   ]
  },
  {
   "cell_type": "markdown",
   "metadata": {},
   "source": [
    "### 4) Acquisition of new points maximizing info gain: testing"
   ]
  },
  {
   "cell_type": "code",
   "execution_count": null,
   "metadata": {},
   "outputs": [],
   "source": [
    "#call info gain\n",
    "sys.path.insert(0, '/home/irina/Documents/PROJECTS/excursion/excursion/optimize/')\n",
    "import optimize.core as optimizecore\n",
    "#info_gain_candidate = optimizecore.info_gain_gpytorch(xcandidate, gps, thresholds, X_grid)\n",
    "#print('info gain of xcandidate = '+str(xcandidate[0])+' given training set :', info_gain_candidate)"
   ]
  },
  {
   "cell_type": "code",
   "execution_count": null,
   "metadata": {},
   "outputs": [],
   "source": [
    "sys.path.insert(0, '/home/irina/Documents/PROJECTS/excursion/excursion/optimize')\n",
    "import optimize as optimize\n",
    "import imp\n",
    "imp.reload(optimize)\n",
    "imp.reload(optimizecore)\n",
    "#newx, acqvals = optimize.gridsearch_gpytorch(gps, X, scandetails)"
   ]
  },
  {
   "cell_type": "markdown",
   "metadata": {},
   "source": [
    "### 5) Contour approximation"
   ]
  },
  {
   "cell_type": "code",
   "execution_count": null,
   "metadata": {},
   "outputs": [],
   "source": [
    "def plot_and_save(workdir, index, *args):\n",
    "    fig, axarr = plt.subplots(1, 2)\n",
    "    fig.set_size_inches(9.5, 3.5)\n",
    "    gp = args[0]\n",
    "    plots.plot_gpytorch(axarr,gp, likelihood, X, y_list, scandetails)\n",
    "    plt.tight_layout()\n",
    "    plt.savefig(os.path.join(workdir,'update_{}.png'.format(str(index).zfill(3))), bbox_inches = 'tight')\n",
    "    plt.show()"
   ]
  },
  {
   "cell_type": "code",
   "execution_count": null,
   "metadata": {},
   "outputs": [],
   "source": [
    "import imp\n",
    "imp.reload(plots)\n",
    "imp.reload(utils)\n",
    "\n",
    "import datetime\n",
    "workdir = datetime.datetime.now().strftime('%Y-%m-%d-%H-%M-%S-2dmulti')\n",
    "os.mkdir(workdir)\n",
    "\n",
    "N_UPDATES = 10\n",
    "\n",
    "for index in range(N_UPDATES):\n",
    "    \n",
    "    model = ExactGPModel(X, y_list, likelihood)\n",
    "    gps = [model]\n",
    "    \n",
    "    #training the model with new points and optimize hyperparams\n",
    "    optimize.train_hyperparameters(gps[0], X, y_list, likelihood, optimizer='Adam')\n",
    "\n",
    "    #now plot and obtain next point that maximizes info gain\n",
    "    plot_and_save(workdir, index, gps[0], likelihood, X, y_list, scandetails)\n",
    "\n",
    "    newx, acqvals = optimize.gridsearch_gpytorch(gps, X, scandetails)\n",
    "    \n",
    "    newys_list = [scandetails.truth_functions[0](np.asarray([newx]))]\n",
    "    \n",
    "    for i,newys in enumerate(newys_list):\n",
    "        i_eff = i + len(y_list)\n",
    "        print('Iteration {}. Evaluted function {} to values: {} \\n'.format(index, i_eff,newys))\n",
    "        y_list = torch.cat( (y_list, torch.tensor(newys[0]) ), -1 )\n",
    "        \n",
    "    #update training points\n",
    "    X = torch.from_numpy( np.concatenate( [X, np.array([newx[0]])] ) )"
   ]
  },
  {
   "cell_type": "code",
   "execution_count": null,
   "metadata": {},
   "outputs": [],
   "source": []
  },
  {
   "cell_type": "code",
   "execution_count": null,
   "metadata": {},
   "outputs": [],
   "source": []
  },
  {
   "cell_type": "code",
   "execution_count": null,
   "metadata": {},
   "outputs": [],
   "source": []
  }
 ],
 "metadata": {
  "kernelspec": {
   "display_name": "Python 3",
   "language": "python",
   "name": "python3"
  },
  "language_info": {
   "codemirror_mode": {
    "name": "ipython",
    "version": 3
   },
   "file_extension": ".py",
   "mimetype": "text/x-python",
   "name": "python",
   "nbconvert_exporter": "python",
   "pygments_lexer": "ipython3",
   "version": "3.7.3"
  }
 },
 "nbformat": 4,
 "nbformat_minor": 4
}
