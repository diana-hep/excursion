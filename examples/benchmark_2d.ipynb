{
 "cells": [
  {
   "cell_type": "code",
   "execution_count": 1,
   "metadata": {
    "collapsed": true,
    "pycharm": {
     "name": "#%%#%% md\n"
    }
   },
   "outputs": [],
   "source": [
    "# Benchmark: measuring runtime versus # iterations"
   ]
  },
  {
   "cell_type": "code",
   "execution_count": 2,
   "outputs": [],
   "source": [
    "#imports\n",
    "import os, time, datetime, json, yaml\n",
    "import matplotlib.pyplot as plt\n",
    "import numpy as np\n",
    "import pandas as pd\n",
    "%matplotlib inline\n",
    "%load_ext autoreload\n",
    "%autoreload 2\n",
    "np.warnings.filterwarnings('ignore')\n",
    "\n",
    "#excursion package imports\n",
    "import excursion.test_suite.test_functions.fast_2D as testcase_2D"
   ],
   "metadata": {
    "collapsed": false,
    "pycharm": {
     "name": "#%%\n"
    }
   }
  },
  {
   "cell_type": "code",
   "execution_count": 3,
   "outputs": [
    {
     "name": "stdout",
     "output_type": "stream",
     "text": [
      "algorithm_opts =\n",
      "{\n",
      "    \"example\": \"Simple Learner Usage\",\n",
      "    \"ninit\": 2,\n",
      "    \"init_type\": \"random\",\n",
      "    \"jump_start\": true,\n",
      "    \"device\": \"cpu\",\n",
      "    \"likelihood\": {\n",
      "        \"likelihood_type\": \"GaussianLikelihood\",\n",
      "        \"epsilon\": 0.0\n",
      "    },\n",
      "    \"model\": {\n",
      "        \"type\": \"ExactGP\",\n",
      "        \"fit_optimizer\": \"Adam\"\n",
      "    },\n",
      "    \"acq\": {\n",
      "        \"acq_type\": \"pes\"\n",
      "    }\n",
      "}\n"
     ]
    }
   ],
   "source": [
    "file = open('../excursion/test_suite/algorithm_options/algorithm_specs_2d_bench.yaml', \"r\")\n",
    "algorithm_opts = yaml.safe_load(file)\n",
    "print('algorithm_opts =')\n",
    "print(json.dumps(algorithm_opts, indent=4))\n",
    "\n",
    "from excursion.learner import Learner\n",
    "learner = Learner(testcase_2D, algorithm_opts)\n",
    "\n",
    "updates = range(10, 40, 1)\n"
   ],
   "metadata": {
    "collapsed": false,
    "pycharm": {
     "name": "#%%\n"
    }
   }
  },
  {
   "cell_type": "code",
   "execution_count": 4,
   "outputs": [
    {
     "name": "stdout",
     "output_type": "stream",
     "text": [
      "tensor([[0., 0.]], dtype=torch.float64)\n",
      "Accuracy % 0.5722222222222222\n",
      "tensor([[0.5172, 0.7759]], dtype=torch.float64)\n",
      "Accuracy % 0.5522222222222222\n",
      "tensor([[0.8793, 1.2931]], dtype=torch.float64)\n",
      "Accuracy % 0.7744444444444445\n",
      "tensor([[0.3621, 0.9310]], dtype=torch.float64)\n",
      "Accuracy % 0.7933333333333333\n",
      "tensor([[0.3621, 0.7241]], dtype=torch.float64)\n",
      "Accuracy % 0.8555555555555555\n",
      "tensor([[1.1897, 1.0345]], dtype=torch.float64)\n",
      "Accuracy % 0.9333333333333333\n"
     ]
    },
    {
     "ename": "KeyboardInterrupt",
     "evalue": "",
     "output_type": "error",
     "traceback": [
      "\u001B[1;31m---------------------------------------------------------------------------\u001B[0m",
      "\u001B[1;31mKeyboardInterrupt\u001B[0m                         Traceback (most recent call last)",
      "\u001B[1;32mC:\\Users\\EXCURS~1\\AppData\\Local\\Temp/ipykernel_22952/1941417381.py\u001B[0m in \u001B[0;36m<module>\u001B[1;34m\u001B[0m\n\u001B[0;32m     19\u001B[0m             \u001B[0mnew_x\u001B[0m \u001B[1;33m=\u001B[0m \u001B[0mlearner\u001B[0m\u001B[1;33m.\u001B[0m\u001B[0msuggest\u001B[0m\u001B[1;33m(\u001B[0m\u001B[1;33m)\u001B[0m\u001B[1;33m\u001B[0m\u001B[1;33m\u001B[0m\u001B[0m\n\u001B[0;32m     20\u001B[0m             \u001B[0mprint\u001B[0m\u001B[1;33m(\u001B[0m\u001B[0mnew_x\u001B[0m\u001B[1;33m)\u001B[0m\u001B[1;33m\u001B[0m\u001B[1;33m\u001B[0m\u001B[0m\n\u001B[1;32m---> 21\u001B[1;33m             \u001B[0mresult\u001B[0m \u001B[1;33m=\u001B[0m \u001B[0mlearner\u001B[0m\u001B[1;33m.\u001B[0m\u001B[0mevaluate_and_tell\u001B[0m\u001B[1;33m(\u001B[0m\u001B[0mnew_x\u001B[0m\u001B[1;33m)\u001B[0m\u001B[1;33m\u001B[0m\u001B[1;33m\u001B[0m\u001B[0m\n\u001B[0m\u001B[0;32m     22\u001B[0m \u001B[1;33m\u001B[0m\u001B[0m\n\u001B[0;32m     23\u001B[0m         \u001B[1;31m#save results\u001B[0m\u001B[1;33m\u001B[0m\u001B[1;33m\u001B[0m\u001B[1;33m\u001B[0m\u001B[0m\n",
      "\u001B[1;32m~\\Documents\\excursion_project\\excursion\\excursion\\learner.py\u001B[0m in \u001B[0;36mevaluate_and_tell\u001B[1;34m(self, x)\u001B[0m\n\u001B[0;32m     95\u001B[0m     \u001B[1;32mdef\u001B[0m \u001B[0mevaluate_and_tell\u001B[0m\u001B[1;33m(\u001B[0m\u001B[0mself\u001B[0m\u001B[1;33m,\u001B[0m \u001B[0mx\u001B[0m\u001B[1;33m)\u001B[0m\u001B[1;33m:\u001B[0m\u001B[1;33m\u001B[0m\u001B[1;33m\u001B[0m\u001B[0m\n\u001B[0;32m     96\u001B[0m         \u001B[0my\u001B[0m \u001B[1;33m=\u001B[0m \u001B[0mself\u001B[0m\u001B[1;33m.\u001B[0m\u001B[0mevaluate\u001B[0m\u001B[1;33m(\u001B[0m\u001B[0mx\u001B[0m\u001B[1;33m)\u001B[0m\u001B[1;33m\u001B[0m\u001B[1;33m\u001B[0m\u001B[0m\n\u001B[1;32m---> 97\u001B[1;33m         \u001B[1;32mreturn\u001B[0m \u001B[0mself\u001B[0m\u001B[1;33m.\u001B[0m\u001B[0mtell\u001B[0m\u001B[1;33m(\u001B[0m\u001B[0mx\u001B[0m\u001B[1;33m,\u001B[0m \u001B[0my\u001B[0m\u001B[1;33m)\u001B[0m\u001B[1;33m\u001B[0m\u001B[1;33m\u001B[0m\u001B[0m\n\u001B[0m\u001B[0;32m     98\u001B[0m \u001B[1;33m\u001B[0m\u001B[0m\n\u001B[0;32m     99\u001B[0m     \u001B[1;32mdef\u001B[0m \u001B[0mrun\u001B[0m\u001B[1;33m(\u001B[0m\u001B[0mself\u001B[0m\u001B[1;33m,\u001B[0m \u001B[0mn_iterations\u001B[0m\u001B[1;33m,\u001B[0m \u001B[0mplot_result\u001B[0m\u001B[1;33m=\u001B[0m\u001B[1;32mFalse\u001B[0m\u001B[1;33m,\u001B[0m \u001B[0mshow_confusion_matrix\u001B[0m\u001B[1;33m=\u001B[0m\u001B[1;32mFalse\u001B[0m\u001B[1;33m)\u001B[0m\u001B[1;33m:\u001B[0m\u001B[1;33m\u001B[0m\u001B[1;33m\u001B[0m\u001B[0m\n",
      "\u001B[1;32m~\\Documents\\excursion_project\\excursion\\excursion\\learner.py\u001B[0m in \u001B[0;36mtell\u001B[1;34m(self, x, y)\u001B[0m\n\u001B[0;32m     88\u001B[0m \u001B[1;33m\u001B[0m\u001B[0m\n\u001B[0;32m     89\u001B[0m     \u001B[1;32mdef\u001B[0m \u001B[0mtell\u001B[0m\u001B[1;33m(\u001B[0m\u001B[0mself\u001B[0m\u001B[1;33m,\u001B[0m \u001B[0mx\u001B[0m\u001B[1;33m,\u001B[0m \u001B[0my\u001B[0m\u001B[1;33m)\u001B[0m\u001B[1;33m:\u001B[0m\u001B[1;33m\u001B[0m\u001B[1;33m\u001B[0m\u001B[0m\n\u001B[1;32m---> 90\u001B[1;33m         \u001B[1;32mreturn\u001B[0m \u001B[0mself\u001B[0m\u001B[1;33m.\u001B[0m\u001B[0mestimator\u001B[0m\u001B[1;33m.\u001B[0m\u001B[0mtell\u001B[0m\u001B[1;33m(\u001B[0m\u001B[0mx\u001B[0m\u001B[1;33m,\u001B[0m \u001B[0my\u001B[0m\u001B[1;33m)\u001B[0m\u001B[1;33m\u001B[0m\u001B[1;33m\u001B[0m\u001B[0m\n\u001B[0m\u001B[0;32m     91\u001B[0m \u001B[1;33m\u001B[0m\u001B[0m\n\u001B[0;32m     92\u001B[0m     \u001B[1;32mdef\u001B[0m \u001B[0mevaluate\u001B[0m\u001B[1;33m(\u001B[0m\u001B[0mself\u001B[0m\u001B[1;33m,\u001B[0m \u001B[0mx\u001B[0m\u001B[1;33m)\u001B[0m\u001B[1;33m:\u001B[0m\u001B[1;33m\u001B[0m\u001B[1;33m\u001B[0m\u001B[0m\n",
      "\u001B[1;32m~\\Documents\\excursion_project\\excursion\\excursion\\optimize\\estimator.py\u001B[0m in \u001B[0;36mtell\u001B[1;34m(self, x, y, fit)\u001B[0m\n\u001B[0;32m    390\u001B[0m         \u001B[1;31m# x data and come from acquisition\u001B[0m\u001B[1;33m\u001B[0m\u001B[1;33m\u001B[0m\u001B[1;33m\u001B[0m\u001B[0m\n\u001B[0;32m    391\u001B[0m \u001B[1;33m\u001B[0m\u001B[0m\n\u001B[1;32m--> 392\u001B[1;33m         \u001B[1;32mreturn\u001B[0m \u001B[0mself\u001B[0m\u001B[1;33m.\u001B[0m\u001B[0m_tell\u001B[0m\u001B[1;33m(\u001B[0m\u001B[0mx\u001B[0m\u001B[1;33m,\u001B[0m \u001B[0my\u001B[0m\u001B[1;33m,\u001B[0m \u001B[0mfit\u001B[0m\u001B[1;33m=\u001B[0m\u001B[0mfit\u001B[0m\u001B[1;33m)\u001B[0m\u001B[1;33m\u001B[0m\u001B[1;33m\u001B[0m\u001B[0m\n\u001B[0m\u001B[0;32m    393\u001B[0m \u001B[1;33m\u001B[0m\u001B[0m\n\u001B[0;32m    394\u001B[0m     \u001B[1;32mdef\u001B[0m \u001B[0m_tell\u001B[0m\u001B[1;33m(\u001B[0m\u001B[0mself\u001B[0m\u001B[1;33m,\u001B[0m \u001B[0mx\u001B[0m\u001B[1;33m,\u001B[0m \u001B[0my\u001B[0m\u001B[1;33m,\u001B[0m \u001B[0mfit\u001B[0m\u001B[1;33m=\u001B[0m\u001B[1;32mTrue\u001B[0m\u001B[1;33m)\u001B[0m \u001B[1;33m->\u001B[0m \u001B[0mExcursionResult\u001B[0m\u001B[1;33m:\u001B[0m\u001B[1;33m\u001B[0m\u001B[1;33m\u001B[0m\u001B[0m\n",
      "\u001B[1;32m~\\Documents\\excursion_project\\excursion\\excursion\\optimize\\estimator.py\u001B[0m in \u001B[0;36m_tell\u001B[1;34m(self, x, y, fit)\u001B[0m\n\u001B[0;32m    416\u001B[0m \u001B[1;33m\u001B[0m\u001B[0m\n\u001B[0;32m    417\u001B[0m             \u001B[1;31m# acq happens in update_next()\u001B[0m\u001B[1;33m\u001B[0m\u001B[1;33m\u001B[0m\u001B[1;33m\u001B[0m\u001B[0m\n\u001B[1;32m--> 418\u001B[1;33m             \u001B[0mself\u001B[0m\u001B[1;33m.\u001B[0m\u001B[0mupdate_next\u001B[0m\u001B[1;33m(\u001B[0m\u001B[1;33m)\u001B[0m\u001B[1;33m\u001B[0m\u001B[1;33m\u001B[0m\u001B[0m\n\u001B[0m\u001B[0;32m    419\u001B[0m             \u001B[1;31m# Build result of current state, _tell will update to state n+1\u001B[0m\u001B[1;33m\u001B[0m\u001B[1;33m\u001B[0m\u001B[1;33m\u001B[0m\u001B[0m\n\u001B[0;32m    420\u001B[0m             \u001B[1;31m# Changed the logic\u001B[0m\u001B[1;33m\u001B[0m\u001B[1;33m\u001B[0m\u001B[1;33m\u001B[0m\u001B[0m\n",
      "\u001B[1;32m~\\Documents\\excursion_project\\excursion\\excursion\\optimize\\estimator.py\u001B[0m in \u001B[0;36mupdate_next\u001B[1;34m(self)\u001B[0m\n\u001B[0;32m    448\u001B[0m         \u001B[1;32mif\u001B[0m \u001B[0mself\u001B[0m\u001B[1;33m.\u001B[0m\u001B[0m_n_initial_points\u001B[0m \u001B[1;33m<=\u001B[0m \u001B[1;36m0\u001B[0m\u001B[1;33m:\u001B[0m\u001B[1;33m\u001B[0m\u001B[1;33m\u001B[0m\u001B[0m\n\u001B[0;32m    449\u001B[0m             \u001B[0mself\u001B[0m\u001B[1;33m.\u001B[0m\u001B[0mnext_xs_\u001B[0m \u001B[1;33m=\u001B[0m \u001B[1;33m[\u001B[0m\u001B[1;33m]\u001B[0m\u001B[1;33m\u001B[0m\u001B[1;33m\u001B[0m\u001B[0m\n\u001B[1;32m--> 450\u001B[1;33m             \u001B[0mnext_x\u001B[0m \u001B[1;33m=\u001B[0m \u001B[0mself\u001B[0m\u001B[1;33m.\u001B[0m\u001B[0macq_func\u001B[0m\u001B[1;33m.\u001B[0m\u001B[0macquire\u001B[0m\u001B[1;33m(\u001B[0m\u001B[0mself\u001B[0m\u001B[1;33m.\u001B[0m\u001B[0mmodel\u001B[0m\u001B[1;33m,\u001B[0m \u001B[0mself\u001B[0m\u001B[1;33m.\u001B[0m\u001B[0m_search_space\u001B[0m\u001B[1;33m[\u001B[0m\u001B[1;34m'thresholds'\u001B[0m\u001B[1;33m]\u001B[0m\u001B[1;33m,\u001B[0m \u001B[0mself\u001B[0m\u001B[1;33m.\u001B[0m\u001B[0m_search_space\u001B[0m\u001B[1;33m[\u001B[0m\u001B[1;34m'X_pointsgrid'\u001B[0m\u001B[1;33m]\u001B[0m\u001B[1;33m)\u001B[0m\u001B[1;33m\u001B[0m\u001B[1;33m\u001B[0m\u001B[0m\n\u001B[0m\u001B[0;32m    451\u001B[0m             \u001B[0mself\u001B[0m\u001B[1;33m.\u001B[0m\u001B[0mnext_xs_\u001B[0m\u001B[1;33m.\u001B[0m\u001B[0mappend\u001B[0m\u001B[1;33m(\u001B[0m\u001B[0mnext_x\u001B[0m\u001B[1;33m)\u001B[0m\u001B[1;33m\u001B[0m\u001B[1;33m\u001B[0m\u001B[0m\n\u001B[0;32m    452\u001B[0m             \u001B[1;31m# # Placeholder until I do batch acq functions\u001B[0m\u001B[1;33m\u001B[0m\u001B[1;33m\u001B[0m\u001B[1;33m\u001B[0m\u001B[0m\n",
      "\u001B[1;32m~\\Documents\\excursion_project\\excursion\\excursion\\acquisition\\PES.py\u001B[0m in \u001B[0;36macquire\u001B[1;34m(self, gp, thresholds, meshgrid)\u001B[0m\n\u001B[0;32m     51\u001B[0m             \u001B[1;32mfor\u001B[0m \u001B[0mj\u001B[0m \u001B[1;32min\u001B[0m \u001B[0mrange\u001B[0m\u001B[1;33m(\u001B[0m\u001B[0mlen\u001B[0m\u001B[1;33m(\u001B[0m\u001B[0mthresholds\u001B[0m\u001B[1;33m)\u001B[0m \u001B[1;33m-\u001B[0m \u001B[1;36m1\u001B[0m\u001B[1;33m)\u001B[0m\u001B[1;33m:\u001B[0m\u001B[1;33m\u001B[0m\u001B[1;33m\u001B[0m\u001B[0m\n\u001B[0;32m     52\u001B[0m                 \u001B[1;31m# vector of sigma(Y(x_candidate)|S(x)=j) truncated\u001B[0m\u001B[1;33m\u001B[0m\u001B[1;33m\u001B[0m\u001B[1;33m\u001B[0m\u001B[0m\n\u001B[1;32m---> 53\u001B[1;33m                 trunc_std_j = truncated_std_conditional(\n\u001B[0m\u001B[0;32m     54\u001B[0m                     \u001B[0mY_pred_all\u001B[0m\u001B[1;33m,\u001B[0m \u001B[0mthresholds\u001B[0m\u001B[1;33m[\u001B[0m\u001B[0mj\u001B[0m\u001B[1;33m]\u001B[0m\u001B[1;33m,\u001B[0m \u001B[0mthresholds\u001B[0m\u001B[1;33m[\u001B[0m\u001B[0mj\u001B[0m \u001B[1;33m+\u001B[0m \u001B[1;36m1\u001B[0m\u001B[1;33m]\u001B[0m\u001B[1;33m\u001B[0m\u001B[1;33m\u001B[0m\u001B[0m\n\u001B[0;32m     55\u001B[0m                 )\n",
      "\u001B[1;32m~\\Documents\\excursion_project\\excursion\\excursion\\acquisition\\utils.py\u001B[0m in \u001B[0;36mtruncated_std_conditional\u001B[1;34m(Y_pred_all, a, b)\u001B[0m\n\u001B[0;32m     33\u001B[0m \u001B[1;33m\u001B[0m\u001B[0m\n\u001B[0;32m     34\u001B[0m     \u001B[1;31m# phi(beta) = normal(0,1) at x = beta\u001B[0m\u001B[1;33m\u001B[0m\u001B[1;33m\u001B[0m\u001B[1;33m\u001B[0m\u001B[0m\n\u001B[1;32m---> 35\u001B[1;33m     \u001B[0mbeta_phi_beta\u001B[0m \u001B[1;33m=\u001B[0m \u001B[0mbeta\u001B[0m \u001B[1;33m*\u001B[0m \u001B[0mnormal_pdf\u001B[0m\u001B[1;33m(\u001B[0m\u001B[0mbeta\u001B[0m\u001B[1;33m)\u001B[0m\u001B[1;33m\u001B[0m\u001B[1;33m\u001B[0m\u001B[0m\n\u001B[0m\u001B[0;32m     36\u001B[0m     \u001B[0mbeta_phi_beta\u001B[0m\u001B[1;33m[\u001B[0m\u001B[1;33m~\u001B[0m\u001B[0mtorch\u001B[0m\u001B[1;33m.\u001B[0m\u001B[0misfinite\u001B[0m\u001B[1;33m(\u001B[0m\u001B[0mbeta_phi_beta\u001B[0m\u001B[1;33m)\u001B[0m\u001B[1;33m]\u001B[0m \u001B[1;33m=\u001B[0m \u001B[1;36m0.0\u001B[0m\u001B[1;33m\u001B[0m\u001B[1;33m\u001B[0m\u001B[0m\n\u001B[0;32m     37\u001B[0m     \u001B[0malpha_phi_alpha\u001B[0m \u001B[1;33m=\u001B[0m \u001B[0malpha\u001B[0m \u001B[1;33m*\u001B[0m \u001B[0mnormal_pdf\u001B[0m\u001B[1;33m(\u001B[0m\u001B[0malpha\u001B[0m\u001B[1;33m)\u001B[0m\u001B[1;33m\u001B[0m\u001B[1;33m\u001B[0m\u001B[0m\n",
      "\u001B[1;32m~\\Documents\\excursion_project\\excursion\\excursion\\acquisition\\utils.py\u001B[0m in \u001B[0;36mnormal_pdf\u001B[1;34m(x)\u001B[0m\n\u001B[0;32m     16\u001B[0m \u001B[1;33m\u001B[0m\u001B[0m\n\u001B[0;32m     17\u001B[0m \u001B[1;32mdef\u001B[0m \u001B[0mnormal_pdf\u001B[0m\u001B[1;33m(\u001B[0m\u001B[0mx\u001B[0m\u001B[1;33m)\u001B[0m\u001B[1;33m:\u001B[0m\u001B[1;33m\u001B[0m\u001B[1;33m\u001B[0m\u001B[0m\n\u001B[1;32m---> 18\u001B[1;33m     \u001B[1;32mreturn\u001B[0m \u001B[1;36m1.0\u001B[0m \u001B[1;33m/\u001B[0m \u001B[1;33m(\u001B[0m\u001B[1;36m2\u001B[0m \u001B[1;33m*\u001B[0m \u001B[0mnp\u001B[0m\u001B[1;33m.\u001B[0m\u001B[0mpi\u001B[0m\u001B[1;33m)\u001B[0m \u001B[1;33m**\u001B[0m \u001B[1;36m0.5\u001B[0m \u001B[1;33m*\u001B[0m \u001B[0mtorch\u001B[0m\u001B[1;33m.\u001B[0m\u001B[0mexp\u001B[0m\u001B[1;33m(\u001B[0m\u001B[1;33m-\u001B[0m\u001B[1;36m0.2\u001B[0m \u001B[1;33m*\u001B[0m \u001B[0mx\u001B[0m \u001B[1;33m**\u001B[0m \u001B[1;36m2\u001B[0m\u001B[1;33m)\u001B[0m\u001B[1;33m\u001B[0m\u001B[1;33m\u001B[0m\u001B[0m\n\u001B[0m\u001B[0;32m     19\u001B[0m \u001B[1;33m\u001B[0m\u001B[0m\n\u001B[0;32m     20\u001B[0m \u001B[1;33m\u001B[0m\u001B[0m\n",
      "\u001B[1;31mKeyboardInterrupt\u001B[0m: "
     ]
    }
   ],
   "source": [
    "means = []\n",
    "stdev = []\n",
    "for n in updates:\n",
    "    runs = []\n",
    "    for run in range(1):\n",
    "        learner = Learner(testcase_2D, algorithm_opts)\n",
    "\n",
    "\n",
    "        start_time = time.process_time()\n",
    "\n",
    "        n_updates = n\n",
    "        #save results in folder\n",
    "        # timestampStr = datetime.datetime.now().strftime('%d-%b-%Y_%H_%M_%S') + '\\\\'\n",
    "        # outputfolder = r'C:\\Users\\excursion\\Documents\\excursion_project\\excursion\\examples\\results'\n",
    "        # outputfolder = os.path.join(outputfolder, timestampStr)\n",
    "        # os.makedirs(outputfolder)\n",
    "\n",
    "        for iteration in range(n_updates):\n",
    "            new_x = learner.suggest()\n",
    "            print(new_x)\n",
    "            result = learner.evaluate_and_tell(new_x)\n",
    "\n",
    "        #save results\n",
    "        end_time = time.process_time() - start_time\n",
    "\n",
    "        # estimator.print_results(outputfolder, testcase_details, algorithm_opts)\n",
    "\n",
    "\n",
    "        runs.append(end_time)\n",
    "\n",
    "    runs = pd.Series(runs)\n",
    "    stdev.append(runs.std(ddof=0))\n",
    "    means.append(runs.mean())"
   ],
   "metadata": {
    "collapsed": false,
    "pycharm": {
     "name": "#%%\n"
    }
   }
  },
  {
   "cell_type": "raw",
   "source": [
    "\n",
    "output = pd.DataFrame(data = {'mean': means, 'stdev': stdev}, dtype=float)\n",
    "\n",
    "timestampStr = datetime.datetime.now().strftime('%d-%b-%Y_%H_%M_%S') + '\\\\'\n",
    "outputfolder = r'C:\\Users\\excursion\\Documents\\excursion_project\\excursion\\examples\\results'\n",
    "outputfolder = os.path.join(outputfolder, timestampStr)\n",
    "os.makedirs(outputfolder)\n",
    "\n",
    "with open(outputfolder + \"rf_2d_cpu_pes.json\", \"w\") as f:\n",
    "    output.to_json(path_or_buf=f, indent=4)\n"
   ],
   "metadata": {
    "collapsed": false,
    "pycharm": {
     "name": "#%% raw\n"
    }
   }
  },
  {
   "cell_type": "raw",
   "source": [
    "\n",
    "with open(r'C:\\Users\\excursion\\Documents\\excursion_project\\no_git\\jason_refactor\\examples\\results\\06-Jul-2021_07_24_33\\jrf.json', \"r\") as f:\n",
    "    jrf = pd.io.json.read_json(path_or_buf=f, typ='frame', dtype=float)\n",
    "\n",
    "with open(r'C:\\Users\\excursion\\Documents\\excursion_project\\no_git\\irina_developer\\examples\\results\\06-Jul-2021_08_12_28\\jrf.json', \"r\") as f:\n",
    "    idev = pd.io.json.read_json(path_or_buf=f, typ='frame', dtype=float)\n",
    "\n",
    "with open(r'C:\\Users\\excursion\\Documents\\excursion_project\\no_git\\lukas_master\\examples\\results\\06-Jul-2021_09_35_17\\lm.json', \"r\") as f:\n",
    "    lm = pd.io.json.read_json(path_or_buf=f, typ='frame', dtype=float)\n",
    "\n",
    "with open(r'C:\\Users\\excursion\\Documents\\excursion_project\\no_git\\diana_hep\\examples\\results\\06-Jul-2021_13_52_40\\lm.json', \"r\") as f:\n",
    "    diana = pd.io.json.read_json(path_or_buf=f, typ='frame', dtype=float)\n",
    "\n",
    "with open(r'C:\\Users\\excursion\\Documents\\excursion_project\\excursion\\examples\\results\\09-Jul-2021_22_06_15\\jrf.json', \"r\") as f:\n",
    "    jrfgpu = pd.io.json.read_json(path_or_buf=f, typ='frame', dtype=float)\n",
    "\n",
    "with open(r'C:\\Users\\excursion\\Documents\\excursion_project\\excursion\\examples\\results\\10-Jul-2021_03_03_57\\rf_gpu_pes.json', \"r\") as f:\n",
    "    jrfgpupes = pd.io.json.read_json(path_or_buf=f, typ='frame', dtype=float)\n",
    "\n",
    "with open(r'C:\\Users\\excursion\\Documents\\excursion_project\\excursion\\examples\\results\\04-Aug-2021_12_03_53\\rf_gpu_mes.json', \"r\") as f:\n",
    "    jrfgpumes = pd.io.json.read_json(path_or_buf=f, typ='frame', dtype=float)\n",
    "\n"
   ],
   "metadata": {
    "collapsed": false,
    "pycharm": {
     "name": "#%% raw\n"
    }
   }
  },
  {
   "cell_type": "raw",
   "source": [
    "\n",
    "\n",
    "plt.plot(jrf.index.to_list(), jrf['mean_jrf'], )\n",
    "plt.plot(jrf.index.to_list(), idev['mean_jrf'])\n",
    "plt.plot(jrf.index.to_list(), lm['mean_lm'])\n",
    "plt.plot(jrfgpu.index.to_list(), jrfgpu['mean'])\n",
    "plt.plot(diana.index.to_list(), diana['mean_lm'])\n",
    "plt.plot(jrfgpupes.index.to_list(), jrfgpupes['mean'])\n",
    "plt.plot(jrfgpumes.index.to_list(), jrfgpumes['mean'])\n",
    "\n",
    "\n",
    "plt.legend()\n",
    "\n"
   ],
   "metadata": {
    "collapsed": false,
    "pycharm": {
     "name": "#%% raw\n"
    }
   }
  }
 ],
 "metadata": {
  "kernelspec": {
   "name": "pycharm-15431b4e",
   "language": "python",
   "display_name": "PyCharm (jason_refactor)"
  },
  "language_info": {
   "codemirror_mode": {
    "name": "ipython",
    "version": 2
   },
   "file_extension": ".py",
   "mimetype": "text/x-python",
   "name": "python",
   "nbconvert_exporter": "python",
   "pygments_lexer": "ipython2",
   "version": "2.7.6"
  }
 },
 "nbformat": 4,
 "nbformat_minor": 0
}