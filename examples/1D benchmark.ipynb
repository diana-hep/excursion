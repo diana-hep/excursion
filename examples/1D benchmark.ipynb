{
 "cells": [
  {
   "cell_type": "markdown",
   "source": [
    "# Benchmark: measuring runtime versus # iterations"
   ],
   "metadata": {
    "collapsed": false
   }
  },
  {
   "cell_type": "code",
   "execution_count": 1,
   "outputs": [
    {
     "name": "stdout",
     "output_type": "stream",
     "text": [
      "algorithm_opts =\n",
      "{\n",
      "    \"example\": \"1Dtoyanalysis\",\n",
      "    \"ninit\": 2,\n",
      "    \"nupdates\": 9,\n",
      "    \"init_type\": \"random\",\n",
      "    \"likelihood\": {\n",
      "        \"type\": \"GaussianLikelihood\",\n",
      "        \"epsilon\": 0.0\n",
      "    },\n",
      "    \"model\": {\n",
      "        \"type\": \"ExactGP\",\n",
      "        \"kernel\": \"RBF\",\n",
      "        \"prior\": \"Constant\"\n",
      "    },\n",
      "    \"acq\": {\n",
      "        \"acq_type\": \"PES\",\n",
      "        \"batch\": false,\n",
      "        \"batchtype\": \"Naive\",\n",
      "        \"batchsize\": 3\n",
      "    }\n",
      "}\n"
     ]
    }
   ],
   "source": [
    "#imports\n",
    "import os, time, datetime, json, yaml, torch\n",
    "import numpy as np\n",
    "import pandas as pd\n",
    "import matplotlib.pyplot as plt\n",
    "%matplotlib inline\n",
    "\n",
    "np.warnings.filterwarnings('ignore')\n",
    "\n",
    "#excursion package imports\n",
    "import excursion\n",
    "from excursion.estimator import ExcursionSetEstimator\n",
    "\n",
    "#load testcase\n",
    "import excursion.testcases.fast_1D as testcase_details\n",
    "\n",
    "%load_ext autoreload\n",
    "%autoreload 2\n",
    "\n",
    "#load algorithm options\n",
    "file = open('../excursion/testcases/algorithms/algorithm_specs.yaml', \"r\")\n",
    "algorithm_opts = yaml.safe_load(file)\n",
    "print('algorithm_opts =')\n",
    "print(json.dumps(algorithm_opts, indent=4))\n",
    "\n",
    "\n",
    "updates = range(10, 40, 1)\n"
   ],
   "metadata": {
    "collapsed": false,
    "pycharm": {
     "name": "#%%\n"
    }
   }
  },
  {
   "cell_type": "code",
   "execution_count": 2,
   "outputs": [
    {
     "ename": "KeyboardInterrupt",
     "evalue": "",
     "output_type": "error",
     "traceback": [
      "\u001B[1;31m---------------------------------------------------------------------------\u001B[0m",
      "\u001B[1;31mKeyboardInterrupt\u001B[0m                         Traceback (most recent call last)",
      "\u001B[1;32mC:\\Users\\EXCURS~1\\AppData\\Local\\Temp/ipykernel_2364/2480802029.py\u001B[0m in \u001B[0;36m<module>\u001B[1;34m\u001B[0m\n\u001B[0;32m     42\u001B[0m         \u001B[1;32mfor\u001B[0m \u001B[0miteration\u001B[0m \u001B[1;32min\u001B[0m \u001B[0mrange\u001B[0m\u001B[1;33m(\u001B[0m\u001B[0mn_updates\u001B[0m\u001B[1;33m)\u001B[0m\u001B[1;33m:\u001B[0m\u001B[1;33m\u001B[0m\u001B[1;33m\u001B[0m\u001B[0m\n\u001B[0;32m     43\u001B[0m             \u001B[1;31m#take a step forward: find new points to evaluate\u001B[0m\u001B[1;33m\u001B[0m\u001B[1;33m\u001B[0m\u001B[1;33m\u001B[0m\u001B[0m\n\u001B[1;32m---> 44\u001B[1;33m             \u001B[0mestimator\u001B[0m\u001B[1;33m.\u001B[0m\u001B[0mstep\u001B[0m\u001B[1;33m(\u001B[0m\u001B[0mtestcase_details\u001B[0m\u001B[1;33m,\u001B[0m \u001B[0malgorithm_opts\u001B[0m\u001B[1;33m,\u001B[0m \u001B[0mmodel\u001B[0m\u001B[1;33m,\u001B[0m \u001B[0mlikelihood\u001B[0m\u001B[1;33m)\u001B[0m\u001B[1;33m\u001B[0m\u001B[1;33m\u001B[0m\u001B[0m\n\u001B[0m\u001B[0;32m     45\u001B[0m \u001B[1;33m\u001B[0m\u001B[0m\n\u001B[0;32m     46\u001B[0m \u001B[1;33m\u001B[0m\u001B[0m\n",
      "\u001B[1;32m~\\Documents\\excursion_project\\excursion\\excursion\\estimator.py\u001B[0m in \u001B[0;36mstep\u001B[1;34m(self, testcase, algorithmopts, model, likelihood)\u001B[0m\n\u001B[0;32m     91\u001B[0m         \u001B[1;31m################################## number of batches, ordered max indices in grid\u001B[0m\u001B[1;33m\u001B[0m\u001B[1;33m\u001B[0m\u001B[1;33m\u001B[0m\u001B[0m\n\u001B[0;32m     92\u001B[0m \u001B[1;33m\u001B[0m\u001B[0m\n\u001B[1;32m---> 93\u001B[1;33m         \u001B[0macq_values_of_grid\u001B[0m \u001B[1;33m=\u001B[0m \u001B[0mself\u001B[0m\u001B[1;33m.\u001B[0m\u001B[0mget_acq_values\u001B[0m\u001B[1;33m(\u001B[0m\u001B[0mmodel\u001B[0m\u001B[1;33m,\u001B[0m \u001B[0mtestcase\u001B[0m\u001B[1;33m)\u001B[0m\u001B[1;33m\u001B[0m\u001B[1;33m\u001B[0m\u001B[0m\n\u001B[0m\u001B[0;32m     94\u001B[0m         \u001B[1;31m# print('ACQ VALUES')\u001B[0m\u001B[1;33m\u001B[0m\u001B[1;33m\u001B[0m\u001B[1;33m\u001B[0m\u001B[0m\n\u001B[0;32m     95\u001B[0m         \u001B[1;31m# print(acq_values_of_grid)\u001B[0m\u001B[1;33m\u001B[0m\u001B[1;33m\u001B[0m\u001B[1;33m\u001B[0m\u001B[0m\n",
      "\u001B[1;32m~\\Documents\\excursion_project\\excursion\\excursion\\estimator.py\u001B[0m in \u001B[0;36mget_acq_values\u001B[1;34m(self, model, testcase)\u001B[0m\n\u001B[0;32m    165\u001B[0m         \u001B[0mstart_time\u001B[0m \u001B[1;33m=\u001B[0m \u001B[0mtime\u001B[0m\u001B[1;33m.\u001B[0m\u001B[0mtime\u001B[0m\u001B[1;33m(\u001B[0m\u001B[1;33m)\u001B[0m\u001B[1;33m\u001B[0m\u001B[1;33m\u001B[0m\u001B[0m\n\u001B[0;32m    166\u001B[0m \u001B[1;33m\u001B[0m\u001B[0m\n\u001B[1;32m--> 167\u001B[1;33m         acquisition_values_grid = acquisition_functions[self._acq_type](\n\u001B[0m\u001B[0;32m    168\u001B[0m             model, testcase, thresholds, self.device, self.dtype)\n\u001B[0;32m    169\u001B[0m \u001B[1;33m\u001B[0m\u001B[0m\n",
      "\u001B[1;32m~\\Documents\\excursion_project\\excursion\\excursion\\acquisition\\PES.py\u001B[0m in \u001B[0;36mPES\u001B[1;34m(gp, testcase, thresholds, device, dtype)\u001B[0m\n\u001B[0;32m     26\u001B[0m \u001B[1;33m\u001B[0m\u001B[0m\n\u001B[0;32m     27\u001B[0m         \u001B[0mX_all\u001B[0m \u001B[1;33m=\u001B[0m \u001B[0mtorch\u001B[0m\u001B[1;33m.\u001B[0m\u001B[0mcat\u001B[0m\u001B[1;33m(\u001B[0m\u001B[1;33m(\u001B[0m\u001B[0mx_candidate\u001B[0m\u001B[1;33m,\u001B[0m \u001B[0mX_grid\u001B[0m\u001B[1;33m)\u001B[0m\u001B[1;33m)\u001B[0m  \u001B[1;31m# .to(device, dtype)\u001B[0m\u001B[1;33m\u001B[0m\u001B[1;33m\u001B[0m\u001B[0m\n\u001B[1;32m---> 28\u001B[1;33m         \u001B[0mY_pred_all\u001B[0m \u001B[1;33m=\u001B[0m \u001B[0mlikelihood\u001B[0m\u001B[1;33m(\u001B[0m\u001B[0mgp\u001B[0m\u001B[1;33m(\u001B[0m\u001B[0mX_all\u001B[0m\u001B[1;33m)\u001B[0m\u001B[1;33m)\u001B[0m\u001B[1;33m\u001B[0m\u001B[1;33m\u001B[0m\u001B[0m\n\u001B[0m\u001B[0;32m     29\u001B[0m         Y_pred_grid = torch.distributions.Normal(\n\u001B[0;32m     30\u001B[0m             \u001B[0mloc\u001B[0m\u001B[1;33m=\u001B[0m\u001B[0mY_pred_all\u001B[0m\u001B[1;33m.\u001B[0m\u001B[0mmean\u001B[0m\u001B[1;33m[\u001B[0m\u001B[1;36m1\u001B[0m\u001B[1;33m:\u001B[0m\u001B[1;33m]\u001B[0m\u001B[1;33m,\u001B[0m \u001B[0mscale\u001B[0m\u001B[1;33m=\u001B[0m\u001B[1;33m(\u001B[0m\u001B[0mY_pred_all\u001B[0m\u001B[1;33m.\u001B[0m\u001B[0mvariance\u001B[0m\u001B[1;33m[\u001B[0m\u001B[1;36m1\u001B[0m\u001B[1;33m:\u001B[0m\u001B[1;33m]\u001B[0m\u001B[1;33m)\u001B[0m \u001B[1;33m**\u001B[0m \u001B[1;36m0.5\u001B[0m\u001B[1;33m\u001B[0m\u001B[1;33m\u001B[0m\u001B[0m\n",
      "\u001B[1;32m~\\anaconda3\\envs\\jason_refactor\\lib\\site-packages\\gpytorch\\models\\exact_gp.py\u001B[0m in \u001B[0;36m__call__\u001B[1;34m(self, *args, **kwargs)\u001B[0m\n\u001B[0;32m    317\u001B[0m             \u001B[1;31m# Make the prediction\u001B[0m\u001B[1;33m\u001B[0m\u001B[1;33m\u001B[0m\u001B[1;33m\u001B[0m\u001B[0m\n\u001B[0;32m    318\u001B[0m             \u001B[1;32mwith\u001B[0m \u001B[0msettings\u001B[0m\u001B[1;33m.\u001B[0m\u001B[0m_use_eval_tolerance\u001B[0m\u001B[1;33m(\u001B[0m\u001B[1;33m)\u001B[0m\u001B[1;33m:\u001B[0m\u001B[1;33m\u001B[0m\u001B[1;33m\u001B[0m\u001B[0m\n\u001B[1;32m--> 319\u001B[1;33m                 \u001B[0mpredictive_mean\u001B[0m\u001B[1;33m,\u001B[0m \u001B[0mpredictive_covar\u001B[0m \u001B[1;33m=\u001B[0m \u001B[0mself\u001B[0m\u001B[1;33m.\u001B[0m\u001B[0mprediction_strategy\u001B[0m\u001B[1;33m.\u001B[0m\u001B[0mexact_prediction\u001B[0m\u001B[1;33m(\u001B[0m\u001B[0mfull_mean\u001B[0m\u001B[1;33m,\u001B[0m \u001B[0mfull_covar\u001B[0m\u001B[1;33m)\u001B[0m\u001B[1;33m\u001B[0m\u001B[1;33m\u001B[0m\u001B[0m\n\u001B[0m\u001B[0;32m    320\u001B[0m \u001B[1;33m\u001B[0m\u001B[0m\n\u001B[0;32m    321\u001B[0m             \u001B[1;31m# Reshape predictive mean to match the appropriate event shape\u001B[0m\u001B[1;33m\u001B[0m\u001B[1;33m\u001B[0m\u001B[1;33m\u001B[0m\u001B[0m\n",
      "\u001B[1;32m~\\anaconda3\\envs\\jason_refactor\\lib\\site-packages\\gpytorch\\models\\exact_prediction_strategies.py\u001B[0m in \u001B[0;36mexact_prediction\u001B[1;34m(self, joint_mean, joint_covar)\u001B[0m\n\u001B[0;32m    261\u001B[0m         return (\n\u001B[0;32m    262\u001B[0m             \u001B[0mself\u001B[0m\u001B[1;33m.\u001B[0m\u001B[0mexact_predictive_mean\u001B[0m\u001B[1;33m(\u001B[0m\u001B[0mtest_mean\u001B[0m\u001B[1;33m,\u001B[0m \u001B[0mtest_train_covar\u001B[0m\u001B[1;33m)\u001B[0m\u001B[1;33m,\u001B[0m\u001B[1;33m\u001B[0m\u001B[1;33m\u001B[0m\u001B[0m\n\u001B[1;32m--> 263\u001B[1;33m             \u001B[0mself\u001B[0m\u001B[1;33m.\u001B[0m\u001B[0mexact_predictive_covar\u001B[0m\u001B[1;33m(\u001B[0m\u001B[0mtest_test_covar\u001B[0m\u001B[1;33m,\u001B[0m \u001B[0mtest_train_covar\u001B[0m\u001B[1;33m)\u001B[0m\u001B[1;33m,\u001B[0m\u001B[1;33m\u001B[0m\u001B[1;33m\u001B[0m\u001B[0m\n\u001B[0m\u001B[0;32m    264\u001B[0m         )\n\u001B[0;32m    265\u001B[0m \u001B[1;33m\u001B[0m\u001B[0m\n",
      "\u001B[1;32m~\\anaconda3\\envs\\jason_refactor\\lib\\site-packages\\gpytorch\\models\\exact_prediction_strategies.py\u001B[0m in \u001B[0;36mexact_predictive_covar\u001B[1;34m(self, test_test_covar, test_train_covar)\u001B[0m\n\u001B[0;32m    312\u001B[0m             \u001B[0mtest_train_covar\u001B[0m \u001B[1;33m=\u001B[0m \u001B[0mdelazify\u001B[0m\u001B[1;33m(\u001B[0m\u001B[0mtest_train_covar\u001B[0m\u001B[1;33m)\u001B[0m\u001B[1;33m\u001B[0m\u001B[1;33m\u001B[0m\u001B[0m\n\u001B[0;32m    313\u001B[0m             \u001B[0mtrain_test_covar\u001B[0m \u001B[1;33m=\u001B[0m \u001B[0mtest_train_covar\u001B[0m\u001B[1;33m.\u001B[0m\u001B[0mtranspose\u001B[0m\u001B[1;33m(\u001B[0m\u001B[1;33m-\u001B[0m\u001B[1;36m1\u001B[0m\u001B[1;33m,\u001B[0m \u001B[1;33m-\u001B[0m\u001B[1;36m2\u001B[0m\u001B[1;33m)\u001B[0m\u001B[1;33m\u001B[0m\u001B[1;33m\u001B[0m\u001B[0m\n\u001B[1;32m--> 314\u001B[1;33m             \u001B[0mcovar_correction_rhs\u001B[0m \u001B[1;33m=\u001B[0m \u001B[0mtrain_train_covar\u001B[0m\u001B[1;33m.\u001B[0m\u001B[0minv_matmul\u001B[0m\u001B[1;33m(\u001B[0m\u001B[0mtrain_test_covar\u001B[0m\u001B[1;33m)\u001B[0m\u001B[1;33m\u001B[0m\u001B[1;33m\u001B[0m\u001B[0m\n\u001B[0m\u001B[0;32m    315\u001B[0m             \u001B[1;31m# For efficiency\u001B[0m\u001B[1;33m\u001B[0m\u001B[1;33m\u001B[0m\u001B[1;33m\u001B[0m\u001B[0m\n\u001B[0;32m    316\u001B[0m             \u001B[1;32mif\u001B[0m \u001B[0mtorch\u001B[0m\u001B[1;33m.\u001B[0m\u001B[0mis_tensor\u001B[0m\u001B[1;33m(\u001B[0m\u001B[0mtest_test_covar\u001B[0m\u001B[1;33m)\u001B[0m\u001B[1;33m:\u001B[0m\u001B[1;33m\u001B[0m\u001B[1;33m\u001B[0m\u001B[0m\n",
      "\u001B[1;32m~\\anaconda3\\envs\\jason_refactor\\lib\\site-packages\\gpytorch\\lazy\\lazy_tensor.py\u001B[0m in \u001B[0;36minv_matmul\u001B[1;34m(self, right_tensor, left_tensor)\u001B[0m\n\u001B[0;32m   1170\u001B[0m         \u001B[0mfunc\u001B[0m \u001B[1;33m=\u001B[0m \u001B[0mInvMatmul\u001B[0m\u001B[1;33m\u001B[0m\u001B[1;33m\u001B[0m\u001B[0m\n\u001B[0;32m   1171\u001B[0m         \u001B[1;32mif\u001B[0m \u001B[0mleft_tensor\u001B[0m \u001B[1;32mis\u001B[0m \u001B[1;32mNone\u001B[0m\u001B[1;33m:\u001B[0m\u001B[1;33m\u001B[0m\u001B[1;33m\u001B[0m\u001B[0m\n\u001B[1;32m-> 1172\u001B[1;33m             \u001B[1;32mreturn\u001B[0m \u001B[0mfunc\u001B[0m\u001B[1;33m.\u001B[0m\u001B[0mapply\u001B[0m\u001B[1;33m(\u001B[0m\u001B[0mself\u001B[0m\u001B[1;33m.\u001B[0m\u001B[0mrepresentation_tree\u001B[0m\u001B[1;33m(\u001B[0m\u001B[1;33m)\u001B[0m\u001B[1;33m,\u001B[0m \u001B[1;32mFalse\u001B[0m\u001B[1;33m,\u001B[0m \u001B[0mright_tensor\u001B[0m\u001B[1;33m,\u001B[0m \u001B[1;33m*\u001B[0m\u001B[0mself\u001B[0m\u001B[1;33m.\u001B[0m\u001B[0mrepresentation\u001B[0m\u001B[1;33m(\u001B[0m\u001B[1;33m)\u001B[0m\u001B[1;33m)\u001B[0m\u001B[1;33m\u001B[0m\u001B[1;33m\u001B[0m\u001B[0m\n\u001B[0m\u001B[0;32m   1173\u001B[0m         \u001B[1;32melse\u001B[0m\u001B[1;33m:\u001B[0m\u001B[1;33m\u001B[0m\u001B[1;33m\u001B[0m\u001B[0m\n\u001B[0;32m   1174\u001B[0m             \u001B[1;32mreturn\u001B[0m \u001B[0mfunc\u001B[0m\u001B[1;33m.\u001B[0m\u001B[0mapply\u001B[0m\u001B[1;33m(\u001B[0m\u001B[0mself\u001B[0m\u001B[1;33m.\u001B[0m\u001B[0mrepresentation_tree\u001B[0m\u001B[1;33m(\u001B[0m\u001B[1;33m)\u001B[0m\u001B[1;33m,\u001B[0m \u001B[1;32mTrue\u001B[0m\u001B[1;33m,\u001B[0m \u001B[0mleft_tensor\u001B[0m\u001B[1;33m,\u001B[0m \u001B[0mright_tensor\u001B[0m\u001B[1;33m,\u001B[0m \u001B[1;33m*\u001B[0m\u001B[0mself\u001B[0m\u001B[1;33m.\u001B[0m\u001B[0mrepresentation\u001B[0m\u001B[1;33m(\u001B[0m\u001B[1;33m)\u001B[0m\u001B[1;33m)\u001B[0m\u001B[1;33m\u001B[0m\u001B[1;33m\u001B[0m\u001B[0m\n",
      "\u001B[1;32m~\\anaconda3\\envs\\jason_refactor\\lib\\site-packages\\gpytorch\\lazy\\lazy_evaluated_kernel_tensor.py\u001B[0m in \u001B[0;36mrepresentation_tree\u001B[1;34m(self)\u001B[0m\n\u001B[0;32m    324\u001B[0m         \u001B[1;31m# representation\u001B[0m\u001B[1;33m\u001B[0m\u001B[1;33m\u001B[0m\u001B[1;33m\u001B[0m\u001B[0m\n\u001B[0;32m    325\u001B[0m         \u001B[1;32melse\u001B[0m\u001B[1;33m:\u001B[0m\u001B[1;33m\u001B[0m\u001B[1;33m\u001B[0m\u001B[0m\n\u001B[1;32m--> 326\u001B[1;33m             \u001B[1;32mreturn\u001B[0m \u001B[0mself\u001B[0m\u001B[1;33m.\u001B[0m\u001B[0mevaluate_kernel\u001B[0m\u001B[1;33m(\u001B[0m\u001B[1;33m)\u001B[0m\u001B[1;33m.\u001B[0m\u001B[0mrepresentation_tree\u001B[0m\u001B[1;33m(\u001B[0m\u001B[1;33m)\u001B[0m\u001B[1;33m\u001B[0m\u001B[1;33m\u001B[0m\u001B[0m\n\u001B[0m\u001B[0;32m    327\u001B[0m \u001B[1;33m\u001B[0m\u001B[0m\n\u001B[0;32m    328\u001B[0m     \u001B[1;32mdef\u001B[0m \u001B[0m__getitem__\u001B[0m\u001B[1;33m(\u001B[0m\u001B[0mself\u001B[0m\u001B[1;33m,\u001B[0m \u001B[0mindex\u001B[0m\u001B[1;33m)\u001B[0m\u001B[1;33m:\u001B[0m\u001B[1;33m\u001B[0m\u001B[1;33m\u001B[0m\u001B[0m\n",
      "\u001B[1;32m~\\anaconda3\\envs\\jason_refactor\\lib\\site-packages\\gpytorch\\utils\\memoize.py\u001B[0m in \u001B[0;36mg\u001B[1;34m(self, *args, **kwargs)\u001B[0m\n\u001B[0;32m     57\u001B[0m         \u001B[0mkwargs_pkl\u001B[0m \u001B[1;33m=\u001B[0m \u001B[0mpickle\u001B[0m\u001B[1;33m.\u001B[0m\u001B[0mdumps\u001B[0m\u001B[1;33m(\u001B[0m\u001B[0mkwargs\u001B[0m\u001B[1;33m)\u001B[0m\u001B[1;33m\u001B[0m\u001B[1;33m\u001B[0m\u001B[0m\n\u001B[0;32m     58\u001B[0m         \u001B[1;32mif\u001B[0m \u001B[1;32mnot\u001B[0m \u001B[0m_is_in_cache\u001B[0m\u001B[1;33m(\u001B[0m\u001B[0mself\u001B[0m\u001B[1;33m,\u001B[0m \u001B[0mcache_name\u001B[0m\u001B[1;33m,\u001B[0m \u001B[1;33m*\u001B[0m\u001B[0margs\u001B[0m\u001B[1;33m,\u001B[0m \u001B[0mkwargs_pkl\u001B[0m\u001B[1;33m=\u001B[0m\u001B[0mkwargs_pkl\u001B[0m\u001B[1;33m)\u001B[0m\u001B[1;33m:\u001B[0m\u001B[1;33m\u001B[0m\u001B[1;33m\u001B[0m\u001B[0m\n\u001B[1;32m---> 59\u001B[1;33m             \u001B[1;32mreturn\u001B[0m \u001B[0m_add_to_cache\u001B[0m\u001B[1;33m(\u001B[0m\u001B[0mself\u001B[0m\u001B[1;33m,\u001B[0m \u001B[0mcache_name\u001B[0m\u001B[1;33m,\u001B[0m \u001B[0mmethod\u001B[0m\u001B[1;33m(\u001B[0m\u001B[0mself\u001B[0m\u001B[1;33m,\u001B[0m \u001B[1;33m*\u001B[0m\u001B[0margs\u001B[0m\u001B[1;33m,\u001B[0m \u001B[1;33m**\u001B[0m\u001B[0mkwargs\u001B[0m\u001B[1;33m)\u001B[0m\u001B[1;33m,\u001B[0m \u001B[1;33m*\u001B[0m\u001B[0margs\u001B[0m\u001B[1;33m,\u001B[0m \u001B[0mkwargs_pkl\u001B[0m\u001B[1;33m=\u001B[0m\u001B[0mkwargs_pkl\u001B[0m\u001B[1;33m)\u001B[0m\u001B[1;33m\u001B[0m\u001B[1;33m\u001B[0m\u001B[0m\n\u001B[0m\u001B[0;32m     60\u001B[0m         \u001B[1;32mreturn\u001B[0m \u001B[0m_get_from_cache\u001B[0m\u001B[1;33m(\u001B[0m\u001B[0mself\u001B[0m\u001B[1;33m,\u001B[0m \u001B[0mcache_name\u001B[0m\u001B[1;33m,\u001B[0m \u001B[1;33m*\u001B[0m\u001B[0margs\u001B[0m\u001B[1;33m,\u001B[0m \u001B[0mkwargs_pkl\u001B[0m\u001B[1;33m=\u001B[0m\u001B[0mkwargs_pkl\u001B[0m\u001B[1;33m)\u001B[0m\u001B[1;33m\u001B[0m\u001B[1;33m\u001B[0m\u001B[0m\n\u001B[0;32m     61\u001B[0m \u001B[1;33m\u001B[0m\u001B[0m\n",
      "\u001B[1;32m~\\anaconda3\\envs\\jason_refactor\\lib\\site-packages\\gpytorch\\lazy\\lazy_evaluated_kernel_tensor.py\u001B[0m in \u001B[0;36mevaluate_kernel\u001B[1;34m(self)\u001B[0m\n\u001B[0;32m    282\u001B[0m             \u001B[0mtemp_active_dims\u001B[0m \u001B[1;33m=\u001B[0m \u001B[0mself\u001B[0m\u001B[1;33m.\u001B[0m\u001B[0mkernel\u001B[0m\u001B[1;33m.\u001B[0m\u001B[0mactive_dims\u001B[0m\u001B[1;33m\u001B[0m\u001B[1;33m\u001B[0m\u001B[0m\n\u001B[0;32m    283\u001B[0m             \u001B[0mself\u001B[0m\u001B[1;33m.\u001B[0m\u001B[0mkernel\u001B[0m\u001B[1;33m.\u001B[0m\u001B[0mactive_dims\u001B[0m \u001B[1;33m=\u001B[0m \u001B[1;32mNone\u001B[0m\u001B[1;33m\u001B[0m\u001B[1;33m\u001B[0m\u001B[0m\n\u001B[1;32m--> 284\u001B[1;33m             \u001B[0mres\u001B[0m \u001B[1;33m=\u001B[0m \u001B[0mself\u001B[0m\u001B[1;33m.\u001B[0m\u001B[0mkernel\u001B[0m\u001B[1;33m(\u001B[0m\u001B[0mx1\u001B[0m\u001B[1;33m,\u001B[0m \u001B[0mx2\u001B[0m\u001B[1;33m,\u001B[0m \u001B[0mdiag\u001B[0m\u001B[1;33m=\u001B[0m\u001B[1;32mFalse\u001B[0m\u001B[1;33m,\u001B[0m \u001B[0mlast_dim_is_batch\u001B[0m\u001B[1;33m=\u001B[0m\u001B[0mself\u001B[0m\u001B[1;33m.\u001B[0m\u001B[0mlast_dim_is_batch\u001B[0m\u001B[1;33m,\u001B[0m \u001B[1;33m**\u001B[0m\u001B[0mself\u001B[0m\u001B[1;33m.\u001B[0m\u001B[0mparams\u001B[0m\u001B[1;33m)\u001B[0m\u001B[1;33m\u001B[0m\u001B[1;33m\u001B[0m\u001B[0m\n\u001B[0m\u001B[0;32m    285\u001B[0m             \u001B[0mself\u001B[0m\u001B[1;33m.\u001B[0m\u001B[0mkernel\u001B[0m\u001B[1;33m.\u001B[0m\u001B[0mactive_dims\u001B[0m \u001B[1;33m=\u001B[0m \u001B[0mtemp_active_dims\u001B[0m\u001B[1;33m\u001B[0m\u001B[1;33m\u001B[0m\u001B[0m\n\u001B[0;32m    286\u001B[0m \u001B[1;33m\u001B[0m\u001B[0m\n",
      "\u001B[1;32m~\\anaconda3\\envs\\jason_refactor\\lib\\site-packages\\gpytorch\\kernels\\kernel.py\u001B[0m in \u001B[0;36m__call__\u001B[1;34m(self, x1, x2, diag, last_dim_is_batch, **params)\u001B[0m\n\u001B[0;32m    396\u001B[0m                 \u001B[0mres\u001B[0m \u001B[1;33m=\u001B[0m \u001B[0mLazyEvaluatedKernelTensor\u001B[0m\u001B[1;33m(\u001B[0m\u001B[0mx1_\u001B[0m\u001B[1;33m,\u001B[0m \u001B[0mx2_\u001B[0m\u001B[1;33m,\u001B[0m \u001B[0mkernel\u001B[0m\u001B[1;33m=\u001B[0m\u001B[0mself\u001B[0m\u001B[1;33m,\u001B[0m \u001B[0mlast_dim_is_batch\u001B[0m\u001B[1;33m=\u001B[0m\u001B[0mlast_dim_is_batch\u001B[0m\u001B[1;33m,\u001B[0m \u001B[1;33m**\u001B[0m\u001B[0mparams\u001B[0m\u001B[1;33m)\u001B[0m\u001B[1;33m\u001B[0m\u001B[1;33m\u001B[0m\u001B[0m\n\u001B[0;32m    397\u001B[0m             \u001B[1;32melse\u001B[0m\u001B[1;33m:\u001B[0m\u001B[1;33m\u001B[0m\u001B[1;33m\u001B[0m\u001B[0m\n\u001B[1;32m--> 398\u001B[1;33m                 \u001B[0mres\u001B[0m \u001B[1;33m=\u001B[0m \u001B[0mlazify\u001B[0m\u001B[1;33m(\u001B[0m\u001B[0msuper\u001B[0m\u001B[1;33m(\u001B[0m\u001B[0mKernel\u001B[0m\u001B[1;33m,\u001B[0m \u001B[0mself\u001B[0m\u001B[1;33m)\u001B[0m\u001B[1;33m.\u001B[0m\u001B[0m__call__\u001B[0m\u001B[1;33m(\u001B[0m\u001B[0mx1_\u001B[0m\u001B[1;33m,\u001B[0m \u001B[0mx2_\u001B[0m\u001B[1;33m,\u001B[0m \u001B[0mlast_dim_is_batch\u001B[0m\u001B[1;33m=\u001B[0m\u001B[0mlast_dim_is_batch\u001B[0m\u001B[1;33m,\u001B[0m \u001B[1;33m**\u001B[0m\u001B[0mparams\u001B[0m\u001B[1;33m)\u001B[0m\u001B[1;33m)\u001B[0m\u001B[1;33m\u001B[0m\u001B[1;33m\u001B[0m\u001B[0m\n\u001B[0m\u001B[0;32m    399\u001B[0m             \u001B[1;32mreturn\u001B[0m \u001B[0mres\u001B[0m\u001B[1;33m\u001B[0m\u001B[1;33m\u001B[0m\u001B[0m\n\u001B[0;32m    400\u001B[0m \u001B[1;33m\u001B[0m\u001B[0m\n",
      "\u001B[1;32m~\\anaconda3\\envs\\jason_refactor\\lib\\site-packages\\gpytorch\\module.py\u001B[0m in \u001B[0;36m__call__\u001B[1;34m(self, *inputs, **kwargs)\u001B[0m\n\u001B[0;32m     28\u001B[0m \u001B[1;33m\u001B[0m\u001B[0m\n\u001B[0;32m     29\u001B[0m     \u001B[1;32mdef\u001B[0m \u001B[0m__call__\u001B[0m\u001B[1;33m(\u001B[0m\u001B[0mself\u001B[0m\u001B[1;33m,\u001B[0m \u001B[1;33m*\u001B[0m\u001B[0minputs\u001B[0m\u001B[1;33m,\u001B[0m \u001B[1;33m**\u001B[0m\u001B[0mkwargs\u001B[0m\u001B[1;33m)\u001B[0m\u001B[1;33m:\u001B[0m\u001B[1;33m\u001B[0m\u001B[1;33m\u001B[0m\u001B[0m\n\u001B[1;32m---> 30\u001B[1;33m         \u001B[0moutputs\u001B[0m \u001B[1;33m=\u001B[0m \u001B[0mself\u001B[0m\u001B[1;33m.\u001B[0m\u001B[0mforward\u001B[0m\u001B[1;33m(\u001B[0m\u001B[1;33m*\u001B[0m\u001B[0minputs\u001B[0m\u001B[1;33m,\u001B[0m \u001B[1;33m**\u001B[0m\u001B[0mkwargs\u001B[0m\u001B[1;33m)\u001B[0m\u001B[1;33m\u001B[0m\u001B[1;33m\u001B[0m\u001B[0m\n\u001B[0m\u001B[0;32m     31\u001B[0m         \u001B[1;32mif\u001B[0m \u001B[0misinstance\u001B[0m\u001B[1;33m(\u001B[0m\u001B[0moutputs\u001B[0m\u001B[1;33m,\u001B[0m \u001B[0mlist\u001B[0m\u001B[1;33m)\u001B[0m\u001B[1;33m:\u001B[0m\u001B[1;33m\u001B[0m\u001B[1;33m\u001B[0m\u001B[0m\n\u001B[0;32m     32\u001B[0m             \u001B[1;32mreturn\u001B[0m \u001B[1;33m[\u001B[0m\u001B[0m_validate_module_outputs\u001B[0m\u001B[1;33m(\u001B[0m\u001B[0moutput\u001B[0m\u001B[1;33m)\u001B[0m \u001B[1;32mfor\u001B[0m \u001B[0moutput\u001B[0m \u001B[1;32min\u001B[0m \u001B[0moutputs\u001B[0m\u001B[1;33m]\u001B[0m\u001B[1;33m\u001B[0m\u001B[1;33m\u001B[0m\u001B[0m\n",
      "\u001B[1;32m~\\anaconda3\\envs\\jason_refactor\\lib\\site-packages\\gpytorch\\kernels\\scale_kernel.py\u001B[0m in \u001B[0;36mforward\u001B[1;34m(self, x1, x2, last_dim_is_batch, diag, **params)\u001B[0m\n\u001B[0;32m     90\u001B[0m \u001B[1;33m\u001B[0m\u001B[0m\n\u001B[0;32m     91\u001B[0m     \u001B[1;32mdef\u001B[0m \u001B[0mforward\u001B[0m\u001B[1;33m(\u001B[0m\u001B[0mself\u001B[0m\u001B[1;33m,\u001B[0m \u001B[0mx1\u001B[0m\u001B[1;33m,\u001B[0m \u001B[0mx2\u001B[0m\u001B[1;33m,\u001B[0m \u001B[0mlast_dim_is_batch\u001B[0m\u001B[1;33m=\u001B[0m\u001B[1;32mFalse\u001B[0m\u001B[1;33m,\u001B[0m \u001B[0mdiag\u001B[0m\u001B[1;33m=\u001B[0m\u001B[1;32mFalse\u001B[0m\u001B[1;33m,\u001B[0m \u001B[1;33m**\u001B[0m\u001B[0mparams\u001B[0m\u001B[1;33m)\u001B[0m\u001B[1;33m:\u001B[0m\u001B[1;33m\u001B[0m\u001B[1;33m\u001B[0m\u001B[0m\n\u001B[1;32m---> 92\u001B[1;33m         \u001B[0morig_output\u001B[0m \u001B[1;33m=\u001B[0m \u001B[0mself\u001B[0m\u001B[1;33m.\u001B[0m\u001B[0mbase_kernel\u001B[0m\u001B[1;33m.\u001B[0m\u001B[0mforward\u001B[0m\u001B[1;33m(\u001B[0m\u001B[0mx1\u001B[0m\u001B[1;33m,\u001B[0m \u001B[0mx2\u001B[0m\u001B[1;33m,\u001B[0m \u001B[0mdiag\u001B[0m\u001B[1;33m=\u001B[0m\u001B[0mdiag\u001B[0m\u001B[1;33m,\u001B[0m \u001B[0mlast_dim_is_batch\u001B[0m\u001B[1;33m=\u001B[0m\u001B[0mlast_dim_is_batch\u001B[0m\u001B[1;33m,\u001B[0m \u001B[1;33m**\u001B[0m\u001B[0mparams\u001B[0m\u001B[1;33m)\u001B[0m\u001B[1;33m\u001B[0m\u001B[1;33m\u001B[0m\u001B[0m\n\u001B[0m\u001B[0;32m     93\u001B[0m         \u001B[0moutputscales\u001B[0m \u001B[1;33m=\u001B[0m \u001B[0mself\u001B[0m\u001B[1;33m.\u001B[0m\u001B[0moutputscale\u001B[0m\u001B[1;33m\u001B[0m\u001B[1;33m\u001B[0m\u001B[0m\n\u001B[0;32m     94\u001B[0m         \u001B[1;32mif\u001B[0m \u001B[0mlast_dim_is_batch\u001B[0m\u001B[1;33m:\u001B[0m\u001B[1;33m\u001B[0m\u001B[1;33m\u001B[0m\u001B[0m\n",
      "\u001B[1;32m~\\anaconda3\\envs\\jason_refactor\\lib\\site-packages\\gpytorch\\kernels\\rbf_kernel.py\u001B[0m in \u001B[0;36mforward\u001B[1;34m(self, x1, x2, diag, **params)\u001B[0m\n\u001B[0;32m     84\u001B[0m                 \u001B[0mx1_\u001B[0m\u001B[1;33m,\u001B[0m \u001B[0mx2_\u001B[0m\u001B[1;33m,\u001B[0m \u001B[0msquare_dist\u001B[0m\u001B[1;33m=\u001B[0m\u001B[1;32mTrue\u001B[0m\u001B[1;33m,\u001B[0m \u001B[0mdiag\u001B[0m\u001B[1;33m=\u001B[0m\u001B[0mdiag\u001B[0m\u001B[1;33m,\u001B[0m \u001B[0mdist_postprocess_func\u001B[0m\u001B[1;33m=\u001B[0m\u001B[0mpostprocess_rbf\u001B[0m\u001B[1;33m,\u001B[0m \u001B[0mpostprocess\u001B[0m\u001B[1;33m=\u001B[0m\u001B[1;32mTrue\u001B[0m\u001B[1;33m,\u001B[0m \u001B[1;33m**\u001B[0m\u001B[0mparams\u001B[0m\u001B[1;33m\u001B[0m\u001B[1;33m\u001B[0m\u001B[0m\n\u001B[0;32m     85\u001B[0m             )\n\u001B[1;32m---> 86\u001B[1;33m         return RBFCovariance.apply(\n\u001B[0m\u001B[0;32m     87\u001B[0m             \u001B[0mx1\u001B[0m\u001B[1;33m,\u001B[0m\u001B[1;33m\u001B[0m\u001B[1;33m\u001B[0m\u001B[0m\n\u001B[0;32m     88\u001B[0m             \u001B[0mx2\u001B[0m\u001B[1;33m,\u001B[0m\u001B[1;33m\u001B[0m\u001B[1;33m\u001B[0m\u001B[0m\n",
      "\u001B[1;32m~\\anaconda3\\envs\\jason_refactor\\lib\\site-packages\\gpytorch\\functions\\rbf_covariance.py\u001B[0m in \u001B[0;36mforward\u001B[1;34m(ctx, x1, x2, lengthscale, sq_dist_func)\u001B[0m\n\u001B[0;32m     12\u001B[0m         \u001B[0mx1_\u001B[0m \u001B[1;33m=\u001B[0m \u001B[0mx1\u001B[0m\u001B[1;33m.\u001B[0m\u001B[0mdiv\u001B[0m\u001B[1;33m(\u001B[0m\u001B[0mlengthscale\u001B[0m\u001B[1;33m)\u001B[0m\u001B[1;33m\u001B[0m\u001B[1;33m\u001B[0m\u001B[0m\n\u001B[0;32m     13\u001B[0m         \u001B[0mx2_\u001B[0m \u001B[1;33m=\u001B[0m \u001B[0mx2\u001B[0m\u001B[1;33m.\u001B[0m\u001B[0mdiv\u001B[0m\u001B[1;33m(\u001B[0m\u001B[0mlengthscale\u001B[0m\u001B[1;33m)\u001B[0m\u001B[1;33m\u001B[0m\u001B[1;33m\u001B[0m\u001B[0m\n\u001B[1;32m---> 14\u001B[1;33m         \u001B[0munitless_sq_dist\u001B[0m \u001B[1;33m=\u001B[0m \u001B[0msq_dist_func\u001B[0m\u001B[1;33m(\u001B[0m\u001B[0mx1_\u001B[0m\u001B[1;33m,\u001B[0m \u001B[0mx2_\u001B[0m\u001B[1;33m)\u001B[0m\u001B[1;33m\u001B[0m\u001B[1;33m\u001B[0m\u001B[0m\n\u001B[0m\u001B[0;32m     15\u001B[0m         \u001B[1;31m# clone because inplace operations will mess with what's saved for backward\u001B[0m\u001B[1;33m\u001B[0m\u001B[1;33m\u001B[0m\u001B[1;33m\u001B[0m\u001B[0m\n\u001B[0;32m     16\u001B[0m         \u001B[0munitless_sq_dist_\u001B[0m \u001B[1;33m=\u001B[0m \u001B[0munitless_sq_dist\u001B[0m\u001B[1;33m.\u001B[0m\u001B[0mclone\u001B[0m\u001B[1;33m(\u001B[0m\u001B[1;33m)\u001B[0m \u001B[1;32mif\u001B[0m \u001B[0mneeds_grad\u001B[0m \u001B[1;32melse\u001B[0m \u001B[0munitless_sq_dist\u001B[0m\u001B[1;33m\u001B[0m\u001B[1;33m\u001B[0m\u001B[0m\n",
      "\u001B[1;32m~\\anaconda3\\envs\\jason_refactor\\lib\\site-packages\\gpytorch\\kernels\\rbf_kernel.py\u001B[0m in \u001B[0;36m<lambda>\u001B[1;34m(x1, x2)\u001B[0m\n\u001B[0;32m     88\u001B[0m             \u001B[0mx2\u001B[0m\u001B[1;33m,\u001B[0m\u001B[1;33m\u001B[0m\u001B[1;33m\u001B[0m\u001B[0m\n\u001B[0;32m     89\u001B[0m             \u001B[0mself\u001B[0m\u001B[1;33m.\u001B[0m\u001B[0mlengthscale\u001B[0m\u001B[1;33m,\u001B[0m\u001B[1;33m\u001B[0m\u001B[1;33m\u001B[0m\u001B[0m\n\u001B[1;32m---> 90\u001B[1;33m             lambda x1, x2: self.covar_dist(\n\u001B[0m\u001B[0;32m     91\u001B[0m                 \u001B[0mx1\u001B[0m\u001B[1;33m,\u001B[0m \u001B[0mx2\u001B[0m\u001B[1;33m,\u001B[0m \u001B[0msquare_dist\u001B[0m\u001B[1;33m=\u001B[0m\u001B[1;32mTrue\u001B[0m\u001B[1;33m,\u001B[0m \u001B[0mdiag\u001B[0m\u001B[1;33m=\u001B[0m\u001B[1;32mFalse\u001B[0m\u001B[1;33m,\u001B[0m \u001B[0mdist_postprocess_func\u001B[0m\u001B[1;33m=\u001B[0m\u001B[0mpostprocess_rbf\u001B[0m\u001B[1;33m,\u001B[0m \u001B[0mpostprocess\u001B[0m\u001B[1;33m=\u001B[0m\u001B[1;32mFalse\u001B[0m\u001B[1;33m,\u001B[0m \u001B[1;33m**\u001B[0m\u001B[0mparams\u001B[0m\u001B[1;33m\u001B[0m\u001B[1;33m\u001B[0m\u001B[0m\n\u001B[0;32m     92\u001B[0m             ),\n",
      "\u001B[1;32m~\\anaconda3\\envs\\jason_refactor\\lib\\site-packages\\gpytorch\\kernels\\kernel.py\u001B[0m in \u001B[0;36mcovar_dist\u001B[1;34m(self, x1, x2, diag, last_dim_is_batch, square_dist, dist_postprocess_func, postprocess, **params)\u001B[0m\n\u001B[0;32m    325\u001B[0m \u001B[1;33m\u001B[0m\u001B[0m\n\u001B[0;32m    326\u001B[0m         \u001B[1;32melif\u001B[0m \u001B[0msquare_dist\u001B[0m\u001B[1;33m:\u001B[0m\u001B[1;33m\u001B[0m\u001B[1;33m\u001B[0m\u001B[0m\n\u001B[1;32m--> 327\u001B[1;33m             \u001B[0mres\u001B[0m \u001B[1;33m=\u001B[0m \u001B[0mself\u001B[0m\u001B[1;33m.\u001B[0m\u001B[0mdistance_module\u001B[0m\u001B[1;33m.\u001B[0m\u001B[0m_sq_dist\u001B[0m\u001B[1;33m(\u001B[0m\u001B[0mx1\u001B[0m\u001B[1;33m,\u001B[0m \u001B[0mx2\u001B[0m\u001B[1;33m,\u001B[0m \u001B[0mpostprocess\u001B[0m\u001B[1;33m,\u001B[0m \u001B[0mx1_eq_x2\u001B[0m\u001B[1;33m)\u001B[0m\u001B[1;33m\u001B[0m\u001B[1;33m\u001B[0m\u001B[0m\n\u001B[0m\u001B[0;32m    328\u001B[0m         \u001B[1;32melse\u001B[0m\u001B[1;33m:\u001B[0m\u001B[1;33m\u001B[0m\u001B[1;33m\u001B[0m\u001B[0m\n\u001B[0;32m    329\u001B[0m             \u001B[0mres\u001B[0m \u001B[1;33m=\u001B[0m \u001B[0mself\u001B[0m\u001B[1;33m.\u001B[0m\u001B[0mdistance_module\u001B[0m\u001B[1;33m.\u001B[0m\u001B[0m_dist\u001B[0m\u001B[1;33m(\u001B[0m\u001B[0mx1\u001B[0m\u001B[1;33m,\u001B[0m \u001B[0mx2\u001B[0m\u001B[1;33m,\u001B[0m \u001B[0mpostprocess\u001B[0m\u001B[1;33m,\u001B[0m \u001B[0mx1_eq_x2\u001B[0m\u001B[1;33m)\u001B[0m\u001B[1;33m\u001B[0m\u001B[1;33m\u001B[0m\u001B[0m\n",
      "\u001B[1;32m~\\anaconda3\\envs\\jason_refactor\\lib\\site-packages\\gpytorch\\kernels\\kernel.py\u001B[0m in \u001B[0;36m_sq_dist\u001B[1;34m(self, x1, x2, postprocess, x1_eq_x2)\u001B[0m\n\u001B[0;32m     41\u001B[0m         \u001B[0mx1_\u001B[0m \u001B[1;33m=\u001B[0m \u001B[0mtorch\u001B[0m\u001B[1;33m.\u001B[0m\u001B[0mcat\u001B[0m\u001B[1;33m(\u001B[0m\u001B[1;33m[\u001B[0m\u001B[1;33m-\u001B[0m\u001B[1;36m2.0\u001B[0m \u001B[1;33m*\u001B[0m \u001B[0mx1\u001B[0m\u001B[1;33m,\u001B[0m \u001B[0mx1_norm\u001B[0m\u001B[1;33m,\u001B[0m \u001B[0mx1_pad\u001B[0m\u001B[1;33m]\u001B[0m\u001B[1;33m,\u001B[0m \u001B[0mdim\u001B[0m\u001B[1;33m=\u001B[0m\u001B[1;33m-\u001B[0m\u001B[1;36m1\u001B[0m\u001B[1;33m)\u001B[0m\u001B[1;33m\u001B[0m\u001B[1;33m\u001B[0m\u001B[0m\n\u001B[0;32m     42\u001B[0m         \u001B[0mx2_\u001B[0m \u001B[1;33m=\u001B[0m \u001B[0mtorch\u001B[0m\u001B[1;33m.\u001B[0m\u001B[0mcat\u001B[0m\u001B[1;33m(\u001B[0m\u001B[1;33m[\u001B[0m\u001B[0mx2\u001B[0m\u001B[1;33m,\u001B[0m \u001B[0mx2_pad\u001B[0m\u001B[1;33m,\u001B[0m \u001B[0mx2_norm\u001B[0m\u001B[1;33m]\u001B[0m\u001B[1;33m,\u001B[0m \u001B[0mdim\u001B[0m\u001B[1;33m=\u001B[0m\u001B[1;33m-\u001B[0m\u001B[1;36m1\u001B[0m\u001B[1;33m)\u001B[0m\u001B[1;33m\u001B[0m\u001B[1;33m\u001B[0m\u001B[0m\n\u001B[1;32m---> 43\u001B[1;33m         \u001B[0mres\u001B[0m \u001B[1;33m=\u001B[0m \u001B[0mx1_\u001B[0m\u001B[1;33m.\u001B[0m\u001B[0mmatmul\u001B[0m\u001B[1;33m(\u001B[0m\u001B[0mx2_\u001B[0m\u001B[1;33m.\u001B[0m\u001B[0mtranspose\u001B[0m\u001B[1;33m(\u001B[0m\u001B[1;33m-\u001B[0m\u001B[1;36m2\u001B[0m\u001B[1;33m,\u001B[0m \u001B[1;33m-\u001B[0m\u001B[1;36m1\u001B[0m\u001B[1;33m)\u001B[0m\u001B[1;33m)\u001B[0m\u001B[1;33m\u001B[0m\u001B[1;33m\u001B[0m\u001B[0m\n\u001B[0m\u001B[0;32m     44\u001B[0m \u001B[1;33m\u001B[0m\u001B[0m\n\u001B[0;32m     45\u001B[0m         \u001B[1;32mif\u001B[0m \u001B[0mx1_eq_x2\u001B[0m \u001B[1;32mand\u001B[0m \u001B[1;32mnot\u001B[0m \u001B[0mx1\u001B[0m\u001B[1;33m.\u001B[0m\u001B[0mrequires_grad\u001B[0m \u001B[1;32mand\u001B[0m \u001B[1;32mnot\u001B[0m \u001B[0mx2\u001B[0m\u001B[1;33m.\u001B[0m\u001B[0mrequires_grad\u001B[0m\u001B[1;33m:\u001B[0m\u001B[1;33m\u001B[0m\u001B[1;33m\u001B[0m\u001B[0m\n",
      "\u001B[1;31mKeyboardInterrupt\u001B[0m: "
     ]
    }
   ],
   "source": [
    "means = []\n",
    "stdev = []\n",
    "for n in updates:\n",
    "    runs = []\n",
    "    for run in range(10):\n",
    "        device = torch.device('cuda')\n",
    "        model, likelihood = excursion.init_gp(testcase_details, \\\n",
    "                                    algorithm_opts, \\\n",
    "                                    algorithm_opts[\"ninit\"], \\\n",
    "                                    device)\n",
    "\n",
    "        # X_init and y_init are random points so that we can fit the GP posterior wrt these points\n",
    "\n",
    "        # fit hyperparameters\n",
    "        model.train()\n",
    "        likelihood.train()\n",
    "        excursion.fit_hyperparams(model,likelihood)\n",
    "\n",
    "\n",
    "        # plot the fitting\n",
    "        # import excursion.plotting.onedim as plots\n",
    "        # plots.plot_GP(model, testcase_details)\n",
    "\n",
    "\n",
    "        # this object keeps internal track of the status of all objects involved\n",
    "        # in excursion at each step\n",
    "        estimator = ExcursionSetEstimator(testcase_details, \\\n",
    "                                          algorithm_opts, \\\n",
    "                                          model, \\\n",
    "                                          likelihood, \\\n",
    "                                          device)\n",
    "\n",
    "        start_time = time.process_time()\n",
    "\n",
    "        n_updates = n\n",
    "        #save results in folder\n",
    "        # timestampStr = datetime.datetime.now().strftime('%d-%b-%Y_%H_%M_%S') + '\\\\'\n",
    "        # outputfolder = r'C:\\Users\\excursion\\Documents\\excursion_project\\excursion\\examples\\results'\n",
    "        # outputfolder = os.path.join(outputfolder, timestampStr)\n",
    "        # os.makedirs(outputfolder)\n",
    "\n",
    "        for iteration in range(n_updates):\n",
    "            #take a step forward: find new points to evaluate\n",
    "            estimator.step(testcase_details, algorithm_opts, model, likelihood)\n",
    "\n",
    "\n",
    "            #plot the new status\n",
    "            # estimator.plot_status(\n",
    "            #         testcase_details, algorithm_opts, model, outputfolder)\n",
    "\n",
    "            #update the posterior of the GP wrt the new points\n",
    "            model = estimator.update_posterior(testcase_details, algorithm_opts, model, likelihood)\n",
    "\n",
    "            #get diagnostics (accuracy metric)\n",
    "            # estimator.get_diagnostics(testcase_details, model, likelihood)\n",
    "            #\n",
    "        #save results\n",
    "        end_time = time.process_time() - start_time\n",
    "\n",
    "        # estimator.print_results(outputfolder, testcase_details, algorithm_opts)\n",
    "\n",
    "\n",
    "        runs.append(end_time)\n",
    "\n",
    "    runs = pd.Series(runs)\n",
    "    stdev.append(runs.std(ddof=0))\n",
    "    means.append(runs.mean())"
   ],
   "metadata": {
    "collapsed": false,
    "pycharm": {
     "name": "#%%\n"
    }
   }
  },
  {
   "cell_type": "code",
   "source": [
    "output = pd.DataFrame(data = {'mean': means, 'stdev': stdev}, dtype=float)\n",
    "\n",
    "timestampStr = datetime.datetime.now().strftime('%d-%b-%Y_%H_%M_%S') + '\\\\'\n",
    "outputfolder = r'C:\\Users\\excursion\\Documents\\excursion_project\\excursion\\examples\\results'\n",
    "outputfolder = os.path.join(outputfolder, timestampStr)\n",
    "os.makedirs(outputfolder)\n",
    "\n",
    "with open(outputfolder + \"rf_gpu_pes.json\", \"w\") as f:\n",
    "    output.to_json(path_or_buf=f, indent=4)"
   ],
   "metadata": {
    "collapsed": false,
    "pycharm": {
     "name": "#%%\n"
    }
   },
   "execution_count": null,
   "outputs": []
  },
  {
   "cell_type": "markdown",
   "source": [
    "with open(r'C:\\Users\\excursion\\Documents\\excursion_project\\no_git\\jason_refactor\\examples\\results\\06-Jul-2021_07_24_33\\jrf.json', \"r\") as f:\n",
    "    jrf = pd.io.json.read_json(path_or_buf=f, typ='frame', dtype=float)\n",
    "\n",
    "with open(r'C:\\Users\\excursion\\Documents\\excursion_project\\no_git\\irina_developer\\examples\\results\\06-Jul-2021_08_12_28\\jrf.json', \"r\") as f:\n",
    "    idev = pd.io.json.read_json(path_or_buf=f, typ='frame', dtype=float)\n",
    "\n",
    "with open(r'C:\\Users\\excursion\\Documents\\excursion_project\\no_git\\lukas_master\\examples\\results\\06-Jul-2021_09_35_17\\lm.json', \"r\") as f:\n",
    "    lm = pd.io.json.read_json(path_or_buf=f, typ='frame', dtype=float)\n",
    "\n",
    "with open(r'C:\\Users\\excursion\\Documents\\excursion_project\\no_git\\diana_hep\\examples\\results\\06-Jul-2021_13_52_40\\lm.json', \"r\") as f:\n",
    "    diana = pd.io.json.read_json(path_or_buf=f, typ='frame', dtype=float)\n",
    "\n",
    "with open(r'C:\\Users\\excursion\\Documents\\excursion_project\\excursion\\examples\\results\\09-Jul-2021_22_06_15\\jrf.json', \"r\") as f:\n",
    "    jrfgpu = pd.io.json.read_json(path_or_buf=f, typ='frame', dtype=float)"
   ],
   "metadata": {
    "collapsed": false,
    "pycharm": {
     "name": "#%% md\n"
    }
   }
  },
  {
   "cell_type": "markdown",
   "source": [
    "plt.plot(jrf.index.to_list(), jrf['mean_jrf'], )\n",
    "plt.plot(jrf.index.to_list(), idev['mean_jrf'])\n",
    "plt.plot(jrf.index.to_list(), lm['mean_lm'])\n",
    "plt.plot(jrfgpu.index.to_list(), jrfgpu['mean'])\n",
    "plt.plot(diana.index.to_list(), diana['mean_lm'])\n",
    "\n",
    "plt.legend()"
   ],
   "metadata": {
    "collapsed": false,
    "pycharm": {
     "name": "#%% md\n"
    }
   }
  }
 ],
 "metadata": {
  "kernelspec": {
   "name": "pycharm-15431b4e",
   "language": "python",
   "display_name": "PyCharm (jason_refactor)"
  },
  "language_info": {
   "codemirror_mode": {
    "name": "ipython",
    "version": 2
   },
   "file_extension": ".py",
   "mimetype": "text/x-python",
   "name": "python",
   "nbconvert_exporter": "python",
   "pygments_lexer": "ipython2",
   "version": "2.7.6"
  }
 },
 "nbformat": 4,
 "nbformat_minor": 0
}