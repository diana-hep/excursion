{
 "cells": [
  {
   "cell_type": "markdown",
   "source": [
    "# Benchmark: measuring runtime versus # iterations"
   ],
   "metadata": {
    "collapsed": false
   }
  },
  {
   "cell_type": "code",
   "execution_count": 1,
   "outputs": [
    {
     "name": "stdout",
     "output_type": "stream",
     "text": [
      "algorithm_opts =\n",
      "{\n",
      "    \"example\": \"1Dtoyanalysis\",\n",
      "    \"ninit\": 2,\n",
      "    \"nupdates\": 9,\n",
      "    \"init_type\": \"random\",\n",
      "    \"likelihood\": {\n",
      "        \"type\": \"GaussianLikelihood\",\n",
      "        \"epsilon\": 0.0\n",
      "    },\n",
      "    \"model\": {\n",
      "        \"type\": \"ExactGP\",\n",
      "        \"kernel\": \"RBF\",\n",
      "        \"prior\": \"Constant\"\n",
      "    },\n",
      "    \"acq\": {\n",
      "        \"acq_type\": \"PES\",\n",
      "        \"batch\": false,\n",
      "        \"batchtype\": \"Naive\",\n",
      "        \"batchsize\": 3\n",
      "    }\n",
      "}\n"
     ]
    }
   ],
   "source": [
    "#imports\n",
    "import os, time, datetime, json, yaml, torch\n",
    "import numpy as np\n",
    "import pandas as pd\n",
    "import matplotlib.pyplot as plt\n",
    "%matplotlib inline\n",
    "\n",
    "np.warnings.filterwarnings('ignore')\n",
    "\n",
    "#excursion package imports\n",
    "import excursion\n",
    "from excursion.estimator import ExcursionSetEstimator\n",
    "\n",
    "#load testcase\n",
    "import excursion.testcases.fast_1D as testcase_details\n",
    "\n",
    "%load_ext autoreload\n",
    "%autoreload 2\n",
    "\n",
    "#load algorithm options\n",
    "file = open('../excursion/testcases/algorithms/algorithm_specs.yaml', \"r\")\n",
    "algorithm_opts = yaml.safe_load(file)\n",
    "print('algorithm_opts =')\n",
    "print(json.dumps(algorithm_opts, indent=4))\n",
    "\n",
    "\n",
    "updates = range(10, 40, 1)\n"
   ],
   "metadata": {
    "collapsed": false,
    "pycharm": {
     "name": "#%%\n"
    }
   }
  },
  {
   "cell_type": "code",
   "execution_count": 2,
   "outputs": [],
   "source": [
    "means = []\n",
    "stdev = []\n",
    "for n in updates:\n",
    "    runs = []\n",
    "    for run in range(10):\n",
    "        device = torch.device('cuda')\n",
    "        model, likelihood = excursion.init_gp(testcase_details, \\\n",
    "                                    algorithm_opts, \\\n",
    "                                    algorithm_opts[\"ninit\"], \\\n",
    "                                    device)\n",
    "\n",
    "        # X_init and y_init are random points so that we can fit the GP posterior wrt these points\n",
    "\n",
    "        # fit hyperparameters\n",
    "        model.train()\n",
    "        likelihood.train()\n",
    "        excursion.fit_hyperparams(model,likelihood)\n",
    "\n",
    "\n",
    "        # plot the fitting\n",
    "        # import excursion.plotting.onedim as plots\n",
    "        # plots.plot_GP(model, testcase_details)\n",
    "\n",
    "\n",
    "        # this object keeps internal track of the status of all objects involved\n",
    "        # in excursion at each step\n",
    "        estimator = ExcursionSetEstimator(testcase_details, \\\n",
    "                                          algorithm_opts, \\\n",
    "                                          model, \\\n",
    "                                          likelihood, \\\n",
    "                                          device)\n",
    "\n",
    "        start_time = time.process_time()\n",
    "\n",
    "        n_updates = n\n",
    "        #save results in folder\n",
    "        # timestampStr = datetime.datetime.now().strftime('%d-%b-%Y_%H_%M_%S') + '\\\\'\n",
    "        # outputfolder = r'C:\\Users\\excursion\\Documents\\excursion_project\\excursion\\examples\\results'\n",
    "        # outputfolder = os.path.join(outputfolder, timestampStr)\n",
    "        # os.makedirs(outputfolder)\n",
    "\n",
    "        for iteration in range(n_updates):\n",
    "            #take a step forward: find new points to evaluate\n",
    "            estimator.step(testcase_details, algorithm_opts, model, likelihood)\n",
    "\n",
    "\n",
    "            #plot the new status\n",
    "            # estimator.plot_status(\n",
    "            #         testcase_details, algorithm_opts, model, outputfolder)\n",
    "\n",
    "            #update the posterior of the GP wrt the new points\n",
    "            model = estimator.update_posterior(testcase_details, algorithm_opts, model, likelihood)\n",
    "\n",
    "            #get diagnostics (accuracy metric)\n",
    "            # estimator.get_diagnostics(testcase_details, model, likelihood)\n",
    "            #\n",
    "        #save results\n",
    "        end_time = time.process_time() - start_time\n",
    "\n",
    "        # estimator.print_results(outputfolder, testcase_details, algorithm_opts)\n",
    "\n",
    "\n",
    "        runs.append(end_time)\n",
    "\n",
    "    runs = pd.Series(runs)\n",
    "    stdev.append(runs.std(ddof=0))\n",
    "    means.append(runs.mean())"
   ],
   "metadata": {
    "collapsed": false,
    "pycharm": {
     "name": "#%%\n"
    }
   }
  },
  {
   "cell_type": "code",
   "source": [
    "output = pd.DataFrame(data = {'mean': means, 'stdev': stdev}, dtype=float)\n",
    "\n",
    "timestampStr = datetime.datetime.now().strftime('%d-%b-%Y_%H_%M_%S') + '\\\\'\n",
    "outputfolder = r'C:\\Users\\excursion\\Documents\\excursion_project\\excursion\\examples\\results'\n",
    "outputfolder = os.path.join(outputfolder, timestampStr)\n",
    "os.makedirs(outputfolder)\n",
    "\n",
    "with open(outputfolder + \"rf_gpu_pes.json\", \"w\") as f:\n",
    "    output.to_json(path_or_buf=f, indent=4)"
   ],
   "metadata": {
    "collapsed": false,
    "pycharm": {
     "name": "#%%\n"
    }
   },
   "execution_count": 3,
   "outputs": []
  },
  {
   "cell_type": "code",
   "source": [
    "with open(r'C:\\Users\\excursion\\Documents\\excursion_project\\no_git\\jason_refactor\\examples\\results\\06-Jul-2021_07_24_33\\jrf.json', \"r\") as f:\n",
    "    jrf = pd.io.json.read_json(path_or_buf=f, typ='frame', dtype=float)\n",
    "\n",
    "with open(r'C:\\Users\\excursion\\Documents\\excursion_project\\no_git\\irina_developer\\examples\\results\\06-Jul-2021_08_12_28\\jrf.json', \"r\") as f:\n",
    "    idev = pd.io.json.read_json(path_or_buf=f, typ='frame', dtype=float)\n",
    "\n",
    "with open(r'C:\\Users\\excursion\\Documents\\excursion_project\\no_git\\lukas_master\\examples\\results\\06-Jul-2021_09_35_17\\lm.json', \"r\") as f:\n",
    "    lm = pd.io.json.read_json(path_or_buf=f, typ='frame', dtype=float)\n",
    "\n",
    "with open(r'C:\\Users\\excursion\\Documents\\excursion_project\\no_git\\diana_hep\\examples\\results\\06-Jul-2021_13_52_40\\lm.json', \"r\") as f:\n",
    "    diana = pd.io.json.read_json(path_or_buf=f, typ='frame', dtype=float)\n",
    "\n",
    "with open(r'C:\\Users\\excursion\\Documents\\excursion_project\\excursion\\examples\\results\\09-Jul-2021_22_06_15\\jrf.json', \"r\") as f:\n",
    "    jrfgpu = pd.io.json.read_json(path_or_buf=f, typ='frame', dtype=float)\n",
    "\n",
    "with open(r'C:\\Users\\excursion\\Documents\\excursion_project\\excursion\\examples\\results\\10-Jul-2021_03_03_57\\rf_gpu_pes.json', \"r\") as f:\n",
    "    jrfgpupes = pd.io.json.read_json(path_or_buf=f, typ='frame', dtype=float)\n"
   ],
   "metadata": {
    "collapsed": false,
    "pycharm": {
     "name": "#%%\n"
    }
   },
   "execution_count": 4,
   "outputs": []
  },
  {
   "cell_type": "code",
   "source": [
    "plt.plot(jrf.index.to_list(), jrf['mean_jrf'], )\n",
    "plt.plot(jrf.index.to_list(), idev['mean_jrf'])\n",
    "plt.plot(jrf.index.to_list(), lm['mean_lm'])\n",
    "plt.plot(jrfgpu.index.to_list(), jrfgpu['mean'])\n",
    "plt.plot(diana.index.to_list(), diana['mean_lm'])\n",
    "plt.plot(jrfgpupes.index.to_list(), jrfgpupes['mean'])\n",
    "\n",
    "\n",
    "plt.legend()"
   ],
   "metadata": {
    "collapsed": false,
    "pycharm": {
     "name": "#%%\n"
    }
   },
   "execution_count": 5,
   "outputs": [
    {
     "name": "stderr",
     "output_type": "stream",
     "text": [
      "No handles with labels found to put in legend.\n"
     ]
    },
    {
     "data": {
      "text/plain": "<matplotlib.legend.Legend at 0x2586e3f5550>"
     },
     "execution_count": 5,
     "metadata": {},
     "output_type": "execute_result"
    },
    {
     "data": {
      "text/plain": "<Figure size 432x288 with 1 Axes>",
      "image/png": "[encoded data removed]"
     },
     "metadata": {
      "needs_background": "light"
     },
     "output_type": "display_data"
    }
   ]
  }
 ],
 "metadata": {
  "kernelspec": {
   "name": "pycharm-15431b4e",
   "language": "python",
   "display_name": "PyCharm (jason_refactor)"
  },
  "language_info": {
   "codemirror_mode": {
    "name": "ipython",
    "version": 2
   },
   "file_extension": ".py",
   "mimetype": "text/x-python",
   "name": "python",
   "nbconvert_exporter": "python",
   "pygments_lexer": "ipython2",
   "version": "2.7.6"
  }
 },
 "nbformat": 4,
 "nbformat_minor": 0
}