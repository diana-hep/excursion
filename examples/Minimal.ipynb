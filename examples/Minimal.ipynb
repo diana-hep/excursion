{
 "cells": [
  {
   "cell_type": "code",
   "execution_count": 5,
   "metadata": {},
   "outputs": [],
   "source": [
    "from excursion import ExcursionProblem\n",
    "import excursion.optimize as optimize\n",
    "import numpy as np\n",
    "import scipy.stats\n",
    "np.warnings.filterwarnings('ignore')"
   ]
  },
  {
   "cell_type": "code",
   "execution_count": 6,
   "metadata": {
    "scrolled": false
   },
   "outputs": [
    {
     "name": "stdout",
     "output_type": "stream",
     "text": [
      "next\n",
      "[[0.94444323 0.83734469]\n",
      " [0.99626529 0.00815435]]\n",
      "next\n",
      "[[0.06118467 0.07150192]\n",
      " [0.99501515 0.47561099]]\n",
      "next\n",
      "[[0.55358371 0.20446804]\n",
      " [0.3183391  0.12528746]]\n",
      "next\n",
      "[[0.0966506  0.68114111]\n",
      " [0.44904663 0.16199749]]\n",
      "next\n",
      "[[0.105945   0.67212826]\n",
      " [0.58216149 0.22106836]]\n",
      "next\n",
      "[[0.34449215 0.1374408 ]\n",
      " [0.4141987  0.14892231]]\n",
      "next\n",
      "[[0.55933555 0.19110667]\n",
      " [0.45785126 0.17116225]]\n",
      "next\n",
      "[[0.38409315 0.14655503]\n",
      " [0.4326694  0.15791352]]\n",
      "next\n",
      "[[0.33997984 0.13366006]\n",
      " [0.12313822 0.67326342]]\n",
      "next\n",
      "[[0.4901915  0.16077279]\n",
      " [0.5223449  0.1770531 ]]\n"
     ]
    }
   ],
   "source": [
    "N_UPDATES = 10\n",
    "N_BATCH = 2\n",
    "\n",
    "def expensive_func(X):\n",
    "    return np.atleast_1d(scipy.stats.multivariate_normal.pdf(X,mean = [0.5,0.5], cov = np.diag([0.2,0.3])))\n",
    "\n",
    "scandetails = ExcursionProblem([expensive_func], ndim = 2)\n",
    "X,y_list,gps = optimize.init(scandetails)\n",
    "for index in range(N_UPDATES):\n",
    "    print('next')\n",
    "    newX = optimize.suggest(gps, X, scandetails, batchsize=N_BATCH)\n",
    "    print(newX)\n",
    "    X,y_list,gps  = optimize.evaluate_and_refine(X,y_list,newX,scandetails)"
   ]
  },
  {
   "cell_type": "code",
   "execution_count": null,
   "metadata": {},
   "outputs": [],
   "source": []
  }
 ],
 "metadata": {
  "kernelspec": {
   "display_name": "Python 3",
   "language": "python",
   "name": "python3"
  },
  "language_info": {
   "codemirror_mode": {
    "name": "ipython",
    "version": 3
   },
   "file_extension": ".py",
   "mimetype": "text/x-python",
   "name": "python",
   "nbconvert_exporter": "python",
   "pygments_lexer": "ipython3",
   "version": "3.6.6"
  }
 },
 "nbformat": 4,
 "nbformat_minor": 2
}
