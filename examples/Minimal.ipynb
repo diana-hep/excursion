{
 "cells": [
  {
   "cell_type": "code",
   "execution_count": 5,
   "metadata": {},
   "outputs": [],
   "source": [
    "from excursion import ExcursionProblem\n",
    "import excursion.optimize as optimize\n",
    "import numpy as np\n",
    "import scipy.stats\n",
    "np.warnings.filterwarnings('ignore')"
   ]
  },
  {
   "cell_type": "code",
   "execution_count": null,
   "metadata": {
    "scrolled": false
   },
   "outputs": [
    {
     "name": "stdout",
     "output_type": "stream",
     "text": [
      "next\n"
     ]
    }
   ],
   "source": [
    "N_UPDATES = 10\n",
    "N_BATCH = 2\n",
    "\n",
    "def expensive_func(X):\n",
    "    return np.atleast_1d(scipy.stats.multivariate_normal.pdf(X,mean = [0.5,0.5], cov = np.diag([0.2,0.3])))\n",
    "\n",
    "scandetails = ExcursionProblem([expensive_func], ndim = 2)\n",
    "X,y_list,gps = optimize.init(scandetails)\n",
    "for index in range(N_UPDATES):\n",
    "    print('next')\n",
    "    newX = optimize.suggest(gps, X, scandetails, batchsize=N_BATCH)\n",
    "    print(newX)\n",
    "    X,y_list,gps  = optimize.evaluate_and_refine(X,y_list,newX,scandetails)"
   ]
  },
  {
   "cell_type": "code",
   "execution_count": null,
   "metadata": {},
   "outputs": [],
   "source": []
  }
 ],
 "metadata": {
  "kernelspec": {
   "display_name": "Python 3",
   "language": "python",
   "name": "python3"
  },
  "language_info": {
   "codemirror_mode": {
    "name": "ipython",
    "version": 3
   },
   "file_extension": ".py",
   "mimetype": "text/x-python",
   "name": "python",
   "nbconvert_exporter": "python",
   "pygments_lexer": "ipython3",
   "version": "3.6.6"
  }
 },
 "nbformat": 4,
 "nbformat_minor": 2
}
