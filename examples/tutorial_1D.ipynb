{
 "cells": [
  {
   "cell_type": "markdown",
   "metadata": {},
   "source": [
    "# Tutorial: applying excursion in 1 dimension\n",
    "\n",
    "## (with GPyTorch)"
   ]
  },
  {
   "cell_type": "code",
   "execution_count": 7,
   "metadata": {},
   "outputs": [
    {
     "name": "stdout",
     "output_type": "stream",
     "text": [
      "The autoreload extension is already loaded. To reload it, use:\n",
      "  %reload_ext autoreload\n"
     ]
    }
   ],
   "source": [
    "#generic imports\n",
    "import numpy as np\n",
    "import datetime\n",
    "import os\n",
    "import json\n",
    "import yaml\n",
    "import math\n",
    "import time\n",
    "import torch\n",
    "import gpytorch\n",
    "import matplotlib.pyplot as plt\n",
    "%matplotlib inline\n",
    "np.warnings.filterwarnings('ignore')\n",
    "\n",
    "#excursion package imports\n",
    "import excursion\n",
    "%load_ext autoreload\n",
    "%autoreload 2"
   ]
  },
  {
   "cell_type": "markdown",
   "metadata": {},
   "source": [
    "## Step 0: What is excursion?\n",
    "You can find an explanation [here]()\n",
    "#TO DO\n",
    "Also, it is advisable to use a virtualenv with the following [requeriments](https://github.com/irinaespejo/excursion/blob/master/requeriments.txt)"
   ]
  },
  {
   "cell_type": "markdown",
   "metadata": {},
   "source": [
    "## Step 1: Load\n",
    "\n",
    "We need to initilize several things and with a specific structure so that it's readable:\n",
    "\n",
    "-  **True/Black-box function** (this is not a tutorial using funcX, just a simple toy function is all we need) \n",
    "-  **Grid**: where do you want to search for next evaluation points?\n",
    "-  **Gaussian Process**: which kernel and likelihood do you want to use?\n",
    "-  **Algorithm Options**: which acquisition function? Do you want batch selection? How many points per batch? Which batch method selection?\n",
    "\n",
    "There are many choices and a user might not know a priori what to use. That is why we have prepared a set of complete examples that you just have to load to get started. These pre-build examples are in `excursion/testcases/fast_1D.py`these `.py` scripts contain initialization for: true/black-box function and grid (the \"numerical options\"). The files in `excursion/testcases/algorithms/algorithm_specs.yml` are yaml files that contain prestablished Gaussian Processes and Algorithm Options (the \"algorithm options\"). This way of ordering the init step makes it easy to fix a numerical problem while trying different algorithm configurations and vice versa."
   ]
  },
  {
   "cell_type": "code",
   "execution_count": 8,
   "metadata": {},
   "outputs": [
    {
     "data": {
      "image/png": "[encoded data removed]",
      "text/plain": [
       "<Figure size 432x288 with 1 Axes>"
      ]
     },
     "metadata": {
      "needs_background": "light"
     },
     "output_type": "display_data"
    }
   ],
   "source": [
    "#load testcase\n",
    "import excursion.testcases.fast_1D as testcase_details\n",
    "\n",
    "#plot function and thresholds\n",
    "for func in testcase_details.true_functions:\n",
    "    X_plot = testcase_details.plot_X\n",
    "    true = plt.plot(X_plot, func(X_plot), label='true function', color='black', linestyle='--')\n",
    "    \n",
    "for thr in testcase_details.thresholds:\n",
    "    min_X = torch.min(testcase_details.plot_X)\n",
    "    max_X = torch.max(testcase_details.plot_X)\n",
    "    t = plt.hlines(thr, min_X, max_X, colors = 'purple', label='threshold='+str(thr.item()))\n",
    "\n",
    "#approximate level set for plot purposes\n",
    "#plt.plot([0.25, 0.89,2.05,3.3,3.9], [2,2,2,2,2], 'ro', label='excursion set (target)')\n",
    "plt.xlabel('x')\n",
    "plt.ylabel('f(x)')\n",
    "plt.title('1D\\_fast.py')\n",
    "plt.legend(loc=0)\n",
    "plt.show()"
   ]
  },
  {
   "cell_type": "markdown",
   "metadata": {},
   "source": [
    "## Step 2: Init the Gaussian Proces\n",
    "\n",
    "We initialize the gaussian process and likelihood according to `algorithm_opts['init_type']`"
   ]
  },
  {
   "cell_type": "code",
   "execution_count": null,
   "metadata": {},
   "outputs": [],
   "source": [
    "class ExactGPModel(gpytorch.models.ExactGP):\n",
    "    def __init__(self, train_x, train_y, likelihood):\n",
    "        super(ExactGPModel, self).__init__(train_x, train_y, likelihood)\n",
    "        self.mean_module = gpytorch.means.ConstantMean()\n",
    "        self.covar_module = gpytorch.kernels.ScaleKernel(gpytorch.kernels.RBFKernel())\n",
    "\n",
    "    def forward(self, x):\n",
    "        mean_x = self.mean_module(x)\n",
    "        covar_x = self.covar_module(x)\n",
    "        return gpytorch.distributions.MultivariateNormal(mean_x, covar_x)\n",
    "\n",
    "# initialize likelihood and model\n",
    "likelihood = gpytorch.likelihoods.GaussianLikelihood()\n",
    "train_x = []\n",
    "train_y = []\n",
    "model = ExactGPModel(train_x, train_y, likelihood)"
   ]
  },
  {
   "cell_type": "code",
   "execution_count": null,
   "metadata": {},
   "outputs": [],
   "source": [
    "#load algorithm options\n",
    "file = open('../excursion/testcases/algorithms/algorithm_specs.yaml', \"r\")\n",
    "algorithm_opts = yaml.safe_load(file)\n",
    "print('algorithm_opts =')\n",
    "print(json.dumps(algorithm_opts, indent=4))"
   ]
  },
  {
   "cell_type": "code",
   "execution_count": null,
   "metadata": {},
   "outputs": [],
   "source": [
    "#is there GPU?\n",
    "if (torch.cuda.is_available()):\n",
    "    device = torch.device('cuda')\n",
    "else:\n",
    "    device = torch.device('cpu')\n",
    "\n",
    "from excursion import init_gp\n",
    "models, likelihood = init_gp(testcase_details, \\\n",
    "                            algorithm_opts, \\\n",
    "                            algorithm_opts[\"ninit\"], \\\n",
    "                            device)\n",
    "\n",
    "# X_init and y_init are random points so that we can fit the GP posterior wrt these points"
   ]
  },
  {
   "cell_type": "code",
   "execution_count": null,
   "metadata": {},
   "outputs": [],
   "source": [
    "# fit hyperparameters\n",
    "model = models[0]\n",
    "model.train()\n",
    "likelihood.train()\n",
    "excursion.fit_hyperparams(model,likelihood)"
   ]
  },
  {
   "cell_type": "code",
   "execution_count": null,
   "metadata": {},
   "outputs": [],
   "source": [
    "# plot the fitting\n",
    "import excursion.plotting.onedim as plots\n",
    "plots.plot_GP(model, testcase_details)"
   ]
  },
  {
   "cell_type": "markdown",
   "metadata": {},
   "source": [
    "## Step 3: Init the ExcursionEstimator"
   ]
  },
  {
   "cell_type": "code",
   "execution_count": null,
   "metadata": {},
   "outputs": [],
   "source": [
    "from excursion import ExcursionSetEstimator\n",
    "# this object keeps internal track of the status of all objects involved\n",
    "# in excursion at each step\n",
    "estimator = ExcursionSetEstimator(testcase_details, \\\n",
    "                                  algorithm_opts, \\\n",
    "                                  models, \\\n",
    "                                  likelihood, \\\n",
    "                                  device)"
   ]
  },
  {
   "cell_type": "markdown",
   "metadata": {},
   "source": [
    "## Step 4:  Smart grid search (active learning)"
   ]
  },
  {
   "cell_type": "code",
   "execution_count": null,
   "metadata": {},
   "outputs": [],
   "source": [
    "n_updates = algorithm_opts['nupdates']\n",
    "#save results in folder\n",
    "timestampStr = datetime.datetime.now().strftime(\"%d-%b-%Y_%H:%M:%S\") + \"/\"\n",
    "outputfolder = \"../examples/results/\" +  timestampStr\n",
    "os.makedirs(outputfolder)\n",
    "\n",
    "for iteration in range(1, n_updates+1):    \n",
    "    #take a step forward: find new points to evaluate\n",
    "    estimator.step(testcase_details, algorithm_opts, models, likelihood)\n",
    "    #plot the new status\n",
    "    estimator.plot_status(\n",
    "            testcase_details, algorithm_opts, models, estimator.acq_values, outputfolder)\n",
    "    \n",
    "    #update the posterior of the GP wrt the new points\n",
    "    models = estimator.update_posterior(testcase_details, algorithm_opts, models, likelihood)\n",
    "    \n",
    "    #get diagnostics (accuracy metric)\n",
    "    #estimator.get_diagnostics(testcase_details, mod, likelihood)\n",
    "    \n",
    "#save results\n",
    "#estimator.print_results(outputfolder, testcase_details, algorithm_opts)"
   ]
  },
  {
   "cell_type": "code",
   "execution_count": null,
   "metadata": {},
   "outputs": [],
   "source": []
  }
 ],
 "metadata": {
  "interpreter": {
   "hash": "8c7a83d6095ed6747bcc1498ece768d19bc7b52034aa043da4adf450b301facb"
  },
  "kernelspec": {
   "display_name": "Python 3.8.10 64-bit ('excursion': venv)",
   "name": "python3"
  },
  "language_info": {
   "codemirror_mode": {
    "name": "ipython",
    "version": 3
   },
   "file_extension": ".py",
   "mimetype": "text/x-python",
   "name": "python",
   "nbconvert_exporter": "python",
   "pygments_lexer": "ipython3",
   "version": "3.8.10"
  }
 },
 "nbformat": 4,
 "nbformat_minor": 4
}