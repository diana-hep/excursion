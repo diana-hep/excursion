{
 "cells": [
  {
   "cell_type": "code",
   "execution_count": 11,
   "metadata": {
    "collapsed": true,
    "pycharm": {
     "name": "#%%\n"
    }
   },
   "outputs": [
    {
     "name": "stderr",
     "output_type": "stream",
     "text": [
      "C:\\Users\\excursion\\anaconda3\\envs\\jason_refactor\\lib\\site-packages\\numpy\\lib\\index_tricks.py:185: ComplexWarning: Casting complex values to real discards the imaginary part\n",
      "  nn[k] = (nn[k]*step+start)\n"
     ]
    }
   ],
   "source": [
    "from excursion.models.sklearn_gp import SKLearnGP\n",
    "from excursion.excursion import ExcursionProblem\n",
    "import excursion.testcases.fast_2D as testcase_2D\n",
    "import excursion.testcases.fast_1D as testcase_1D\n",
    "from excursion.optimizer.builders import build_sampler\n",
    "init_x_sampler = build_sampler('random')\n",
    "\n",
    "problem_one_details = ExcursionProblem(thresholds=[0.7], ndim=1, functions=[testcase_1D.numpy_func])\n",
    "problem_two_details = ExcursionProblem(thresholds=[0.7], ndim=2, functions=[testcase_2D.numpy_func])\n"
   ]
  },
  {
   "cell_type": "code",
   "execution_count": 12,
   "outputs": [],
   "source": [
    "init_X = init_x_sampler.generate(1, problem_one_details.X_pointsgrid)\n",
    "init_y = problem_one_details.functions[0](init_X)"
   ],
   "metadata": {
    "collapsed": false,
    "pycharm": {
     "name": "#%%\n"
    }
   }
  },
  {
   "cell_type": "code",
   "execution_count": 13,
   "outputs": [],
   "source": [
    "sktest = SKLearnGP(1)"
   ],
   "metadata": {
    "collapsed": false,
    "pycharm": {
     "name": "#%%\n"
    }
   }
  },
  {
   "cell_type": "code",
   "execution_count": 14,
   "outputs": [
    {
     "name": "stderr",
     "output_type": "stream",
     "text": [
      "C:\\Users\\excursion\\anaconda3\\envs\\jason_refactor\\lib\\site-packages\\sklearn\\gaussian_process\\_gpr.py:506: ConvergenceWarning: lbfgs failed to converge (status=2):\n",
      "ABNORMAL_TERMINATION_IN_LNSRCH.\n",
      "\n",
      "Increase the number of iterations (max_iter) or scale the data as shown in:\n",
      "    https://scikit-learn.org/stable/modules/preprocessing.html\n",
      "  _check_optimize_result(\"lbfgs\", opt_res)\n"
     ]
    },
    {
     "name": "stdout",
     "output_type": "stream",
     "text": [
      "My first update\n",
      "Updating the training data\n",
      "Updating the training data\n",
      "Updating the training data\n"
     ]
    },
    {
     "name": "stderr",
     "output_type": "stream",
     "text": [
      "C:\\Users\\excursion\\anaconda3\\envs\\jason_refactor\\lib\\site-packages\\sklearn\\gaussian_process\\kernels.py:411: ConvergenceWarning: The optimal value found for dimension 0 of parameter k2__length_scale is close to the specified upper bound 100.0. Increasing the bound and calling fit again may find a better value.\n",
      "  warnings.warn(\"The optimal value found for \"\n",
      "C:\\Users\\excursion\\anaconda3\\envs\\jason_refactor\\lib\\site-packages\\sklearn\\gaussian_process\\_gpr.py:506: ConvergenceWarning: lbfgs failed to converge (status=2):\n",
      "ABNORMAL_TERMINATION_IN_LNSRCH.\n",
      "\n",
      "Increase the number of iterations (max_iter) or scale the data as shown in:\n",
      "    https://scikit-learn.org/stable/modules/preprocessing.html\n",
      "  _check_optimize_result(\"lbfgs\", opt_res)\n",
      "C:\\Users\\excursion\\anaconda3\\envs\\jason_refactor\\lib\\site-packages\\sklearn\\gaussian_process\\kernels.py:411: ConvergenceWarning: The optimal value found for dimension 0 of parameter k2__length_scale is close to the specified upper bound 100.0. Increasing the bound and calling fit again may find a better value.\n",
      "  warnings.warn(\"The optimal value found for \"\n",
      "C:\\Users\\excursion\\anaconda3\\envs\\jason_refactor\\lib\\site-packages\\sklearn\\gaussian_process\\kernels.py:411: ConvergenceWarning: The optimal value found for dimension 0 of parameter k2__length_scale is close to the specified upper bound 100.0. Increasing the bound and calling fit again may find a better value.\n",
      "  warnings.warn(\"The optimal value found for \"\n",
      "C:\\Users\\excursion\\anaconda3\\envs\\jason_refactor\\lib\\site-packages\\sklearn\\gaussian_process\\_gpr.py:506: ConvergenceWarning: lbfgs failed to converge (status=2):\n",
      "ABNORMAL_TERMINATION_IN_LNSRCH.\n",
      "\n",
      "Increase the number of iterations (max_iter) or scale the data as shown in:\n",
      "    https://scikit-learn.org/stable/modules/preprocessing.html\n",
      "  _check_optimize_result(\"lbfgs\", opt_res)\n",
      "C:\\Users\\excursion\\anaconda3\\envs\\jason_refactor\\lib\\site-packages\\sklearn\\gaussian_process\\kernels.py:411: ConvergenceWarning: The optimal value found for dimension 0 of parameter k2__length_scale is close to the specified upper bound 100.0. Increasing the bound and calling fit again may find a better value.\n",
      "  warnings.warn(\"The optimal value found for \"\n"
     ]
    },
    {
     "name": "stdout",
     "output_type": "stream",
     "text": [
      "Updating the training data\n",
      "Updating the training data\n",
      "Updating the training data\n"
     ]
    },
    {
     "name": "stderr",
     "output_type": "stream",
     "text": [
      "C:\\Users\\excursion\\anaconda3\\envs\\jason_refactor\\lib\\site-packages\\sklearn\\gaussian_process\\_gpr.py:506: ConvergenceWarning: lbfgs failed to converge (status=2):\n",
      "ABNORMAL_TERMINATION_IN_LNSRCH.\n",
      "\n",
      "Increase the number of iterations (max_iter) or scale the data as shown in:\n",
      "    https://scikit-learn.org/stable/modules/preprocessing.html\n",
      "  _check_optimize_result(\"lbfgs\", opt_res)\n",
      "C:\\Users\\excursion\\anaconda3\\envs\\jason_refactor\\lib\\site-packages\\sklearn\\gaussian_process\\kernels.py:411: ConvergenceWarning: The optimal value found for dimension 0 of parameter k2__length_scale is close to the specified upper bound 100.0. Increasing the bound and calling fit again may find a better value.\n",
      "  warnings.warn(\"The optimal value found for \"\n",
      "C:\\Users\\excursion\\anaconda3\\envs\\jason_refactor\\lib\\site-packages\\sklearn\\gaussian_process\\kernels.py:411: ConvergenceWarning: The optimal value found for dimension 0 of parameter k2__length_scale is close to the specified upper bound 100.0. Increasing the bound and calling fit again may find a better value.\n",
      "  warnings.warn(\"The optimal value found for \"\n",
      "C:\\Users\\excursion\\anaconda3\\envs\\jason_refactor\\lib\\site-packages\\sklearn\\gaussian_process\\kernels.py:411: ConvergenceWarning: The optimal value found for dimension 0 of parameter k2__length_scale is close to the specified upper bound 100.0. Increasing the bound and calling fit again may find a better value.\n",
      "  warnings.warn(\"The optimal value found for \"\n"
     ]
    },
    {
     "name": "stdout",
     "output_type": "stream",
     "text": [
      "Updating the training data\n",
      "Updating the training data\n",
      "Updating the training data\n",
      "Updating the training data\n"
     ]
    },
    {
     "name": "stderr",
     "output_type": "stream",
     "text": [
      "C:\\Users\\excursion\\anaconda3\\envs\\jason_refactor\\lib\\site-packages\\sklearn\\gaussian_process\\kernels.py:411: ConvergenceWarning: The optimal value found for dimension 0 of parameter k2__length_scale is close to the specified upper bound 100.0. Increasing the bound and calling fit again may find a better value.\n",
      "  warnings.warn(\"The optimal value found for \"\n",
      "C:\\Users\\excursion\\anaconda3\\envs\\jason_refactor\\lib\\site-packages\\sklearn\\gaussian_process\\kernels.py:411: ConvergenceWarning: The optimal value found for dimension 0 of parameter k2__length_scale is close to the specified upper bound 100.0. Increasing the bound and calling fit again may find a better value.\n",
      "  warnings.warn(\"The optimal value found for \"\n",
      "C:\\Users\\excursion\\anaconda3\\envs\\jason_refactor\\lib\\site-packages\\sklearn\\gaussian_process\\kernels.py:411: ConvergenceWarning: The optimal value found for dimension 0 of parameter k2__length_scale is close to the specified upper bound 100.0. Increasing the bound and calling fit again may find a better value.\n",
      "  warnings.warn(\"The optimal value found for \"\n"
     ]
    },
    {
     "name": "stdout",
     "output_type": "stream",
     "text": [
      "Updating the training data\n",
      "Updating the training data\n",
      "Updating the training data\n",
      "Updating the training data\n"
     ]
    },
    {
     "name": "stderr",
     "output_type": "stream",
     "text": [
      "C:\\Users\\excursion\\anaconda3\\envs\\jason_refactor\\lib\\site-packages\\sklearn\\gaussian_process\\kernels.py:411: ConvergenceWarning: The optimal value found for dimension 0 of parameter k2__length_scale is close to the specified upper bound 100.0. Increasing the bound and calling fit again may find a better value.\n",
      "  warnings.warn(\"The optimal value found for \"\n",
      "C:\\Users\\excursion\\anaconda3\\envs\\jason_refactor\\lib\\site-packages\\sklearn\\gaussian_process\\kernels.py:411: ConvergenceWarning: The optimal value found for dimension 0 of parameter k2__length_scale is close to the specified upper bound 100.0. Increasing the bound and calling fit again may find a better value.\n",
      "  warnings.warn(\"The optimal value found for \"\n",
      "C:\\Users\\excursion\\anaconda3\\envs\\jason_refactor\\lib\\site-packages\\sklearn\\gaussian_process\\kernels.py:411: ConvergenceWarning: The optimal value found for dimension 0 of parameter k2__length_scale is close to the specified upper bound 100.0. Increasing the bound and calling fit again may find a better value.\n",
      "  warnings.warn(\"The optimal value found for \"\n"
     ]
    }
   ],
   "source": [
    "for i in range(15):\n",
    "    x = init_x_sampler.generate(1, problem_one_details.X_pointsgrid)\n",
    "    y = problem_one_details.functions[0](init_X)\n",
    "    sktest.update_model(x, y)\n",
    "    sktest.fit_model(None)"
   ],
   "metadata": {
    "collapsed": false,
    "pycharm": {
     "name": "#%%\n"
    }
   }
  },
  {
   "cell_type": "code",
   "execution_count": 15,
   "outputs": [],
   "source": [
    "from sklearn.gaussian_process.kernels import ConstantKernel, RBF, WhiteKernel\n",
    "from sklearn.gaussian_process import GaussianProcessRegressor\n",
    "\n",
    "length_scale = [1.]*1\n",
    "kernel = ConstantKernel() * RBF(length_scale_bounds=[0.1, 100.0], length_scale = length_scale)"
   ],
   "metadata": {
    "collapsed": false,
    "pycharm": {
     "name": "#%%\n"
    }
   }
  },
  {
   "cell_type": "code",
   "execution_count": 16,
   "outputs": [],
   "source": [
    "test_params = {\n",
    "    'alpha': 10**-7,\n",
    "    'n_restarts_optimizer': 10,\n",
    "    'random_state': 1234\n",
    "}\n"
   ],
   "metadata": {
    "collapsed": false,
    "pycharm": {
     "name": "#%%\n"
    }
   }
  },
  {
   "cell_type": "code",
   "execution_count": 17,
   "outputs": [],
   "source": [
    "gp = GaussianProcessRegressor(kernel=kernel, **test_params)"
   ],
   "metadata": {
    "collapsed": false,
    "pycharm": {
     "name": "#%%\n"
    }
   }
  },
  {
   "cell_type": "code",
   "execution_count": 18,
   "outputs": [
    {
     "data": {
      "text/plain": "{'alpha': 1e-07,\n 'copy_X_train': True,\n 'kernel__k1': 1**2,\n 'kernel__k2': RBF(length_scale=1),\n 'kernel__k1__constant_value': 1.0,\n 'kernel__k1__constant_value_bounds': (1e-05, 100000.0),\n 'kernel__k2__length_scale': [1.0],\n 'kernel__k2__length_scale_bounds': [0.1, 100.0],\n 'kernel': 1**2 * RBF(length_scale=1),\n 'n_restarts_optimizer': 10,\n 'normalize_y': False,\n 'optimizer': 'fmin_l_bfgs_b',\n 'random_state': 1234}"
     },
     "execution_count": 18,
     "metadata": {},
     "output_type": "execute_result"
    }
   ],
   "source": [
    "gp.get_params()"
   ],
   "metadata": {
    "collapsed": false,
    "pycharm": {
     "name": "#%%\n"
    }
   }
  },
  {
   "cell_type": "code",
   "execution_count": 19,
   "outputs": [],
   "source": [
    "# init_X = init_x_sampler.generate(1, problem_one_details.X_pointsgrid)\n",
    "# init_y = problem_one_details.functions[0](init_X)\n",
    "# print(init_y, init_y.shape)\n",
    "# print(init_X, init_X.shape,\"\\n\")\n",
    "# print((init_X[0], init_X[0].shape))\n",
    "# print(\"\\n\\n\\n 2D Example:\")\n",
    "#\n",
    "# init_X = init_x_sampler.generate(1, problem_two_details.X_pointsgrid)\n",
    "# init_y = problem_two_details.functions[0](init_X)\n",
    "# print(init_y, init_y.shape)\n",
    "# print(init_X, init_X.shape,\"\\n\")\n",
    "# print((init_X[0], init_X[0].shape))"
   ],
   "metadata": {
    "collapsed": false,
    "pycharm": {
     "name": "#%%\n"
    }
   }
  },
  {
   "cell_type": "markdown",
   "source": [
    "##### Conclusion of shape tests... the resulting X_pointsgrid from ExursionProblem will return"
   ],
   "metadata": {
    "collapsed": false
   }
  },
  {
   "cell_type": "code",
   "execution_count": 20,
   "outputs": [],
   "source": [
    "# init_X = init_x_sampler.generate(2, problem_one_details.X_pointsgrid)\n",
    "# init_y = problem_one_details.functions[0](init_X)\n",
    "# print(init_y, init_y.shape)\n",
    "# print(init_X, init_X.shape,\"\\n\")\n",
    "# print((init_X[0], init_X[0].shape))\n",
    "# print(\"\\n\\n\\n\\n 2D Example:\")\n",
    "#\n",
    "# init_X = init_x_sampler.generate(2, problem_two_details.X_pointsgrid)\n",
    "# init_y = problem_two_details.functions[0](init_X)\n",
    "# print(init_y, init_y.shape)\n",
    "# print(init_X, init_X.shape,\"\\n\")\n",
    "# print((init_X[0], init_X[0].shape))"
   ],
   "metadata": {
    "collapsed": false,
    "pycharm": {
     "name": "#%%\n"
    }
   }
  }
 ],
 "metadata": {
  "kernelspec": {
   "name": "pycharm-15431b4e",
   "language": "python",
   "display_name": "PyCharm (jason_refactor)"
  },
  "language_info": {
   "codemirror_mode": {
    "name": "ipython",
    "version": 2
   },
   "file_extension": ".py",
   "mimetype": "text/x-python",
   "name": "python",
   "nbconvert_exporter": "python",
   "pygments_lexer": "ipython2",
   "version": "2.7.6"
  }
 },
 "nbformat": 4,
 "nbformat_minor": 0
}