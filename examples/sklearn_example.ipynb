{
 "cells": [
  {
   "cell_type": "code",
   "execution_count": 1,
   "metadata": {
    "collapsed": true,
    "pycharm": {
     "name": "#%%\n"
    }
   },
   "outputs": [
    {
     "name": "stderr",
     "output_type": "stream",
     "text": [
      "C:\\Users\\excursion\\anaconda3\\envs\\jason_refactor\\lib\\site-packages\\numpy\\lib\\index_tricks.py:185: ComplexWarning: Casting complex values to real discards the imaginary part\n",
      "  nn[k] = (nn[k]*step+start)\n"
     ]
    }
   ],
   "source": [
    "from excursion.models.sklearn_gp import SKLearnGP\n",
    "from excursion.excursion import ExcursionProblem\n",
    "import excursion.testcases.fast_2D as testcase_2D\n",
    "import excursion.testcases.fast_1D as testcase_1D\n",
    "from excursion.optimizer.builders import build_sampler\n",
    "init_x_sampler = build_sampler('random')\n",
    "\n",
    "problem_one_details = ExcursionProblem(thresholds=[0.7], ndim=1, functions=[testcase_1D.numpy_func])\n",
    "problem_two_details = ExcursionProblem(thresholds=[0.7], ndim=2, functions=[testcase_2D.numpy_func])\n"
   ]
  },
  {
   "cell_type": "code",
   "execution_count": 2,
   "outputs": [],
   "source": [
    "init_X = init_x_sampler.generate(1, problem_one_details.X_pointsgrid)\n",
    "init_y = problem_one_details.functions[0](init_X)"
   ],
   "metadata": {
    "collapsed": false,
    "pycharm": {
     "name": "#%%\n"
    }
   }
  },
  {
   "cell_type": "code",
   "execution_count": 3,
   "outputs": [],
   "source": [
    "sktest = SKLearnGP(1)"
   ],
   "metadata": {
    "collapsed": false,
    "pycharm": {
     "name": "#%%\n"
    }
   }
  },
  {
   "cell_type": "code",
   "execution_count": 4,
   "outputs": [
    {
     "name": "stderr",
     "output_type": "stream",
     "text": [
      "C:\\Users\\excursion\\anaconda3\\envs\\jason_refactor\\lib\\site-packages\\sklearn\\gaussian_process\\kernels.py:411: ConvergenceWarning: The optimal value found for dimension 0 of parameter k2__length_scale is close to the specified upper bound 100.0. Increasing the bound and calling fit again may find a better value.\n",
      "  warnings.warn(\"The optimal value found for \"\n"
     ]
    },
    {
     "name": "stdout",
     "output_type": "stream",
     "text": [
      "My first update\n",
      "Updating the training data\n",
      "Updating the training data\n"
     ]
    },
    {
     "name": "stderr",
     "output_type": "stream",
     "text": [
      "C:\\Users\\excursion\\anaconda3\\envs\\jason_refactor\\lib\\site-packages\\sklearn\\gaussian_process\\_gpr.py:506: ConvergenceWarning: lbfgs failed to converge (status=2):\n",
      "ABNORMAL_TERMINATION_IN_LNSRCH.\n",
      "\n",
      "Increase the number of iterations (max_iter) or scale the data as shown in:\n",
      "    https://scikit-learn.org/stable/modules/preprocessing.html\n",
      "  _check_optimize_result(\"lbfgs\", opt_res)\n",
      "C:\\Users\\excursion\\anaconda3\\envs\\jason_refactor\\lib\\site-packages\\sklearn\\gaussian_process\\kernels.py:411: ConvergenceWarning: The optimal value found for dimension 0 of parameter k2__length_scale is close to the specified upper bound 100.0. Increasing the bound and calling fit again may find a better value.\n",
      "  warnings.warn(\"The optimal value found for \"\n",
      "C:\\Users\\excursion\\anaconda3\\envs\\jason_refactor\\lib\\site-packages\\sklearn\\gaussian_process\\_gpr.py:506: ConvergenceWarning: lbfgs failed to converge (status=2):\n",
      "ABNORMAL_TERMINATION_IN_LNSRCH.\n",
      "\n",
      "Increase the number of iterations (max_iter) or scale the data as shown in:\n",
      "    https://scikit-learn.org/stable/modules/preprocessing.html\n",
      "  _check_optimize_result(\"lbfgs\", opt_res)\n",
      "C:\\Users\\excursion\\anaconda3\\envs\\jason_refactor\\lib\\site-packages\\sklearn\\gaussian_process\\kernels.py:411: ConvergenceWarning: The optimal value found for dimension 0 of parameter k2__length_scale is close to the specified upper bound 100.0. Increasing the bound and calling fit again may find a better value.\n",
      "  warnings.warn(\"The optimal value found for \"\n"
     ]
    },
    {
     "name": "stdout",
     "output_type": "stream",
     "text": [
      "Updating the training data\n",
      "Updating the training data\n",
      "Updating the training data\n"
     ]
    },
    {
     "name": "stderr",
     "output_type": "stream",
     "text": [
      "C:\\Users\\excursion\\anaconda3\\envs\\jason_refactor\\lib\\site-packages\\sklearn\\gaussian_process\\_gpr.py:506: ConvergenceWarning: lbfgs failed to converge (status=2):\n",
      "ABNORMAL_TERMINATION_IN_LNSRCH.\n",
      "\n",
      "Increase the number of iterations (max_iter) or scale the data as shown in:\n",
      "    https://scikit-learn.org/stable/modules/preprocessing.html\n",
      "  _check_optimize_result(\"lbfgs\", opt_res)\n",
      "C:\\Users\\excursion\\anaconda3\\envs\\jason_refactor\\lib\\site-packages\\sklearn\\gaussian_process\\kernels.py:411: ConvergenceWarning: The optimal value found for dimension 0 of parameter k2__length_scale is close to the specified upper bound 100.0. Increasing the bound and calling fit again may find a better value.\n",
      "  warnings.warn(\"The optimal value found for \"\n",
      "C:\\Users\\excursion\\anaconda3\\envs\\jason_refactor\\lib\\site-packages\\sklearn\\gaussian_process\\_gpr.py:506: ConvergenceWarning: lbfgs failed to converge (status=2):\n",
      "ABNORMAL_TERMINATION_IN_LNSRCH.\n",
      "\n",
      "Increase the number of iterations (max_iter) or scale the data as shown in:\n",
      "    https://scikit-learn.org/stable/modules/preprocessing.html\n",
      "  _check_optimize_result(\"lbfgs\", opt_res)\n",
      "C:\\Users\\excursion\\anaconda3\\envs\\jason_refactor\\lib\\site-packages\\sklearn\\gaussian_process\\kernels.py:411: ConvergenceWarning: The optimal value found for dimension 0 of parameter k2__length_scale is close to the specified upper bound 100.0. Increasing the bound and calling fit again may find a better value.\n",
      "  warnings.warn(\"The optimal value found for \"\n",
      "C:\\Users\\excursion\\anaconda3\\envs\\jason_refactor\\lib\\site-packages\\sklearn\\gaussian_process\\_gpr.py:506: ConvergenceWarning: lbfgs failed to converge (status=2):\n",
      "ABNORMAL_TERMINATION_IN_LNSRCH.\n",
      "\n",
      "Increase the number of iterations (max_iter) or scale the data as shown in:\n",
      "    https://scikit-learn.org/stable/modules/preprocessing.html\n",
      "  _check_optimize_result(\"lbfgs\", opt_res)\n"
     ]
    },
    {
     "name": "stdout",
     "output_type": "stream",
     "text": [
      "Updating the training data\n",
      "Updating the training data\n"
     ]
    },
    {
     "name": "stderr",
     "output_type": "stream",
     "text": [
      "C:\\Users\\excursion\\anaconda3\\envs\\jason_refactor\\lib\\site-packages\\sklearn\\gaussian_process\\kernels.py:411: ConvergenceWarning: The optimal value found for dimension 0 of parameter k2__length_scale is close to the specified upper bound 100.0. Increasing the bound and calling fit again may find a better value.\n",
      "  warnings.warn(\"The optimal value found for \"\n",
      "C:\\Users\\excursion\\anaconda3\\envs\\jason_refactor\\lib\\site-packages\\sklearn\\gaussian_process\\kernels.py:411: ConvergenceWarning: The optimal value found for dimension 0 of parameter k2__length_scale is close to the specified upper bound 100.0. Increasing the bound and calling fit again may find a better value.\n",
      "  warnings.warn(\"The optimal value found for \"\n",
      "C:\\Users\\excursion\\anaconda3\\envs\\jason_refactor\\lib\\site-packages\\sklearn\\gaussian_process\\_gpr.py:506: ConvergenceWarning: lbfgs failed to converge (status=2):\n",
      "ABNORMAL_TERMINATION_IN_LNSRCH.\n",
      "\n",
      "Increase the number of iterations (max_iter) or scale the data as shown in:\n",
      "    https://scikit-learn.org/stable/modules/preprocessing.html\n",
      "  _check_optimize_result(\"lbfgs\", opt_res)\n",
      "C:\\Users\\excursion\\anaconda3\\envs\\jason_refactor\\lib\\site-packages\\sklearn\\gaussian_process\\kernels.py:411: ConvergenceWarning: The optimal value found for dimension 0 of parameter k2__length_scale is close to the specified upper bound 100.0. Increasing the bound and calling fit again may find a better value.\n",
      "  warnings.warn(\"The optimal value found for \"\n"
     ]
    },
    {
     "name": "stdout",
     "output_type": "stream",
     "text": [
      "Updating the training data\n",
      "Updating the training data\n",
      "Updating the training data\n"
     ]
    },
    {
     "name": "stderr",
     "output_type": "stream",
     "text": [
      "C:\\Users\\excursion\\anaconda3\\envs\\jason_refactor\\lib\\site-packages\\sklearn\\gaussian_process\\kernels.py:411: ConvergenceWarning: The optimal value found for dimension 0 of parameter k2__length_scale is close to the specified upper bound 100.0. Increasing the bound and calling fit again may find a better value.\n",
      "  warnings.warn(\"The optimal value found for \"\n",
      "C:\\Users\\excursion\\anaconda3\\envs\\jason_refactor\\lib\\site-packages\\sklearn\\gaussian_process\\_gpr.py:506: ConvergenceWarning: lbfgs failed to converge (status=2):\n",
      "ABNORMAL_TERMINATION_IN_LNSRCH.\n",
      "\n",
      "Increase the number of iterations (max_iter) or scale the data as shown in:\n",
      "    https://scikit-learn.org/stable/modules/preprocessing.html\n",
      "  _check_optimize_result(\"lbfgs\", opt_res)\n",
      "C:\\Users\\excursion\\anaconda3\\envs\\jason_refactor\\lib\\site-packages\\sklearn\\gaussian_process\\kernels.py:411: ConvergenceWarning: The optimal value found for dimension 0 of parameter k2__length_scale is close to the specified upper bound 100.0. Increasing the bound and calling fit again may find a better value.\n",
      "  warnings.warn(\"The optimal value found for \"\n",
      "C:\\Users\\excursion\\anaconda3\\envs\\jason_refactor\\lib\\site-packages\\sklearn\\gaussian_process\\_gpr.py:506: ConvergenceWarning: lbfgs failed to converge (status=2):\n",
      "ABNORMAL_TERMINATION_IN_LNSRCH.\n",
      "\n",
      "Increase the number of iterations (max_iter) or scale the data as shown in:\n",
      "    https://scikit-learn.org/stable/modules/preprocessing.html\n",
      "  _check_optimize_result(\"lbfgs\", opt_res)\n",
      "C:\\Users\\excursion\\anaconda3\\envs\\jason_refactor\\lib\\site-packages\\sklearn\\gaussian_process\\kernels.py:411: ConvergenceWarning: The optimal value found for dimension 0 of parameter k2__length_scale is close to the specified upper bound 100.0. Increasing the bound and calling fit again may find a better value.\n",
      "  warnings.warn(\"The optimal value found for \"\n"
     ]
    },
    {
     "name": "stdout",
     "output_type": "stream",
     "text": [
      "Updating the training data\n",
      "Updating the training data\n",
      "Updating the training data\n",
      "Updating the training data\n"
     ]
    },
    {
     "name": "stderr",
     "output_type": "stream",
     "text": [
      "C:\\Users\\excursion\\anaconda3\\envs\\jason_refactor\\lib\\site-packages\\sklearn\\gaussian_process\\kernels.py:411: ConvergenceWarning: The optimal value found for dimension 0 of parameter k2__length_scale is close to the specified upper bound 100.0. Increasing the bound and calling fit again may find a better value.\n",
      "  warnings.warn(\"The optimal value found for \"\n",
      "C:\\Users\\excursion\\anaconda3\\envs\\jason_refactor\\lib\\site-packages\\sklearn\\gaussian_process\\_gpr.py:506: ConvergenceWarning: lbfgs failed to converge (status=2):\n",
      "ABNORMAL_TERMINATION_IN_LNSRCH.\n",
      "\n",
      "Increase the number of iterations (max_iter) or scale the data as shown in:\n",
      "    https://scikit-learn.org/stable/modules/preprocessing.html\n",
      "  _check_optimize_result(\"lbfgs\", opt_res)\n",
      "C:\\Users\\excursion\\anaconda3\\envs\\jason_refactor\\lib\\site-packages\\sklearn\\gaussian_process\\kernels.py:411: ConvergenceWarning: The optimal value found for dimension 0 of parameter k2__length_scale is close to the specified upper bound 100.0. Increasing the bound and calling fit again may find a better value.\n",
      "  warnings.warn(\"The optimal value found for \"\n",
      "C:\\Users\\excursion\\anaconda3\\envs\\jason_refactor\\lib\\site-packages\\sklearn\\gaussian_process\\kernels.py:411: ConvergenceWarning: The optimal value found for dimension 0 of parameter k2__length_scale is close to the specified upper bound 100.0. Increasing the bound and calling fit again may find a better value.\n",
      "  warnings.warn(\"The optimal value found for \"\n"
     ]
    }
   ],
   "source": [
    "for i in range(15):\n",
    "    x = init_x_sampler.generate(1, problem_one_details.X_pointsgrid)\n",
    "    y = problem_one_details.functions[0](init_X)\n",
    "    sktest.update_model(x, y)\n",
    "    sktest.fit_model(None)"
   ],
   "metadata": {
    "collapsed": false,
    "pycharm": {
     "name": "#%%\n"
    }
   }
  },
  {
   "cell_type": "code",
   "execution_count": 5,
   "outputs": [],
   "source": [
    "\n",
    "from excursion.acquisition.base import AcquisitionFunction\n",
    "from excursion.acquisition.utils import info_gain\n",
    "import numpy as np\n",
    "import os\n",
    "\n",
    "\n",
    "class SKPES(AcquisitionFunction):\n",
    "    def __init__(self, device=None, dtype=None, batch=False, ):\n",
    "        self._prev_acq_point_index = []\n",
    "        self.device = device\n",
    "        self.dtype = dtype\n",
    "        self.batch = batch\n",
    "        self.acq_vals = None\n",
    "\n",
    "    def _acquire(self, gp, thresholds, X_pointsgrid, x_candidate):\n",
    "        try:\n",
    "            from joblib import Parallel, delayed\n",
    "            nparallel = int(os.environ.get('EXCURSION_NPARALLEL', os.cpu_count()))\n",
    "            result = Parallel(nparallel)(\n",
    "                delayed(info_gain)(x_candidate, [gp], thresholds, X_pointsgrid) for x_candidate in X_pointsgrid)\n",
    "            return np.asarray(result)\n",
    "        except ImportError:\n",
    "            return np.array([info_gain(x_candidate, [gp], thresholds, X_pointsgrid) for x_candidate in X_pointsgrid])\n",
    "\n",
    "    def acquire(self, gp, thresholds, X_pointsgrid):\n",
    "        \"\"\"\n",
    "        Calculates information gain of choosing x_candidate as next point to evaluate.\n",
    "        Performs this calculation with the Predictive Entropy Search approximation. Roughly,\n",
    "        PES(x_candidate) = int dx { H[Y(x_candidate)] - E_{S(x=j)} H[Y(x_candidate)|S(x=j)] }\n",
    "        Notation: PES(x_candidate) = int dx H0 - E_Sj H1\n",
    "\n",
    "        \"\"\"\n",
    "\n",
    "        # compute predictive posterior of Y(x) | train data\n",
    "        # likelihood = gp.likelihood\n",
    "        # gp.eval()\n",
    "        # likelihood.eval()\n",
    "        thresholds = [-np.inf] + thresholds + [np.inf]\n",
    "        acquisition_values = self._acquire(gp, thresholds, X_pointsgrid, None)\n",
    "\n",
    "        self.acq_vals = np.clone(acquisition_values)\n",
    "\n",
    "        return X_pointsgrid[self.get_first_max_index(gp, X_pointsgrid, acquisition_values)]\n",
    "\n",
    "\n",
    "    def get_first_max_index(self, gp, X_pointsgrid, acq_cand_vals):\n",
    "        X_train = gp.X_train\n",
    "        new_index = np.argmax(acq_cand_vals)\n",
    "\n",
    "        # if the index is not already picked nor in the training set\n",
    "        # accept it ans remove from future picks\n",
    "        return self._check_prev_acq(new_index, X_train, X_pointsgrid, acq_cand_vals)\n",
    "\n",
    "    # recursion helper function\n",
    "    def _check_prev_acq(self, new_index, X_train, X_pointsgrid, acq_cand_vals):\n",
    "        new_X = X_pointsgrid[new_index]\n",
    "        if (new_index not in self._prev_acq_point_index) and (\n",
    "                new_X.tolist() not in X_train):\n",
    "            self._prev_acq_point_index.append(new_index.item())\n",
    "            return new_index.item()\n",
    "        else:\n",
    "            acq_cand_vals[new_index] = np.array([(-1.0) * float(\"Inf\")])\n",
    "            new_index = np.argmax(acq_cand_vals)\n",
    "            return self._check_prev_acq(new_index, X_train, X_pointsgrid, acq_cand_vals)"
   ],
   "metadata": {
    "collapsed": false,
    "pycharm": {
     "name": "#%%\n"
    }
   }
  },
  {
   "cell_type": "code",
   "execution_count": 6,
   "outputs": [],
   "source": [
    "skacq = SKPES()"
   ],
   "metadata": {
    "collapsed": false,
    "pycharm": {
     "name": "#%%\n"
    }
   }
  },
  {
   "cell_type": "code",
   "execution_count": null,
   "outputs": [],
   "source": [
    "SKPES."
   ],
   "metadata": {
    "collapsed": false,
    "pycharm": {
     "name": "#%%\n"
    }
   }
  }
 ],
 "metadata": {
  "kernelspec": {
   "name": "pycharm-15431b4e",
   "language": "python",
   "display_name": "PyCharm (jason_refactor)"
  },
  "language_info": {
   "codemirror_mode": {
    "name": "ipython",
    "version": 2
   },
   "file_extension": ".py",
   "mimetype": "text/x-python",
   "name": "python",
   "nbconvert_exporter": "python",
   "pygments_lexer": "ipython2",
   "version": "2.7.6"
  }
 },
 "nbformat": 4,
 "nbformat_minor": 0
}