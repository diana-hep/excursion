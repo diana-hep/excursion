{
 "cells": [
  {
   "cell_type": "code",
   "execution_count": 4,
   "metadata": {
    "collapsed": true,
    "pycharm": {
     "name": "#%%\n"
    }
   },
   "outputs": [
    {
     "name": "stderr",
     "output_type": "stream",
     "text": [
      "C:\\Users\\excursion\\anaconda3\\envs\\jason_refactor\\lib\\site-packages\\numpy\\lib\\index_tricks.py:185: ComplexWarning: Casting complex values to real discards the imaginary part\n",
      "  nn[k] = (nn[k]*step+start)\n"
     ]
    }
   ],
   "source": [
    "import gc\n",
    "\n",
    "from excursion.models.sklearn_gp import SKLearnGP\n",
    "from excursion.excursion import ExcursionProblem\n",
    "import excursion.testcases.fast_2D as testcase_2D\n",
    "import excursion.testcases.fast_1D as testcase_1D\n",
    "from excursion.optimizer.builders import build_sampler\n",
    "import numpy as np\n",
    "init_x_sampler = build_sampler('random')\n",
    "\n",
    "problem_one_details = ExcursionProblem(thresholds=[0.7], ndim=1, functions=[testcase_1D.numpy_func])\n",
    "problem_two_details = ExcursionProblem(thresholds=[0.7], ndim=2, functions=[testcase_2D.numpy_func])\n",
    "\n",
    "\n",
    "\n",
    "from excursion.acquisition.skPES import SKPES"
   ]
  },
  {
   "cell_type": "code",
   "execution_count": 5,
   "outputs": [
    {
     "name": "stdout",
     "output_type": "stream",
     "text": [
      "My first update\n"
     ]
    }
   ],
   "source": [
    "skacq = SKPES()\n",
    "sktest = SKLearnGP(1)\n",
    "\n",
    "details = problem_two_details\n",
    "\n",
    "X_grid = details.X_pointsgrid\n",
    "ndim = details.ndim\n",
    "func = details.functions[0]\n",
    "thresholds = [-np.inf] + details.thresholds + [np.inf]\n",
    "\n",
    "# init model\n",
    "x = init_x_sampler.generate(1, X_grid)\n",
    "y = func(x)\n",
    "sktest.update_model(x, y)\n",
    "sktest.fit_model(None)\n"
   ],
   "metadata": {
    "collapsed": false,
    "pycharm": {
     "name": "#%%\n"
    }
   }
  },
  {
   "cell_type": "code",
   "execution_count": null,
   "outputs": [
    {
     "name": "stdout",
     "output_type": "stream",
     "text": [
      "Parallel Acq\n",
      "[[0.96 0.96]] [0.98476308]\n",
      "Updating the training data\n",
      "Parallel Acq\n"
     ]
    },
    {
     "name": "stderr",
     "output_type": "stream",
     "text": [
      "C:\\Users\\excursion\\anaconda3\\envs\\jason_refactor\\lib\\site-packages\\sklearn\\gaussian_process\\kernels.py:402: ConvergenceWarning: The optimal value found for dimension 0 of parameter k2__length_scale is close to the specified lower bound 0.1. Decreasing the bound and calling fit again may find a better value.\n",
      "  warnings.warn(\"The optimal value found for \"\n"
     ]
    },
    {
     "name": "stdout",
     "output_type": "stream",
     "text": [
      "[[0.8 0.8]] [-2.28193715]\n",
      "Updating the training data\n",
      "Parallel Acq\n"
     ]
    }
   ],
   "source": [
    "for i in range(15):\n",
    "    newx = skacq.acquire(sktest.gp, thresholds, X_grid).reshape(1,ndim)\n",
    "    y = func(newx)\n",
    "    print(newx, y)\n",
    "    sktest.update_model(newx, y)\n",
    "    sktest.fit_model(None)\n",
    "    gc.collect()\n",
    "print(sktest.X_train)\n"
   ],
   "metadata": {
    "collapsed": false,
    "pycharm": {
     "name": "#%%\n",
     "is_executing": true
    }
   }
  },
  {
   "cell_type": "code",
   "execution_count": null,
   "outputs": [],
   "source": [
    "from excursion.sampler.latin import latin_sample_n\n",
    "\n",
    "x_test_sample = 0\n"
   ],
   "metadata": {
    "collapsed": false,
    "pycharm": {
     "name": "#%%\n",
     "is_executing": true
    }
   }
  },
  {
   "cell_type": "raw",
   "source": [
    "\n",
    "init_X = init_x_sampler.generate(1, problem_one_details.X_pointsgrid)\n",
    "init_y = problem_one_details.functions[0](init_X)\n"
   ],
   "metadata": {
    "collapsed": false
   }
  },
  {
   "cell_type": "raw",
   "source": [
    "sktest = SKLearnGP(1)\n",
    "\n",
    "for i in range(15):\n",
    "    x = init_x_sampler.generate(1, problem_one_details.X_pointsgrid)\n",
    "    y = problem_one_details.functions[0](init_X)\n",
    "    sktest.update_model(x, y)\n",
    "    sktest.fit_model(None)\n",
    "\n",
    "\n",
    "\n",
    "\n",
    "\n",
    "\n",
    "\n",
    "\n"
   ],
   "metadata": {
    "collapsed": false
   }
  },
  {
   "cell_type": "code",
   "execution_count": null,
   "outputs": [],
   "source": [
    "# CONSTANT =  ((2 * np.e * np.pi) ** 0.5)\n",
    "# means_mean = []\n",
    "# for val in range(10, int(10e7), int(10e2)):\n",
    "#     mean = 0\n",
    "#     for i in range(25):\n",
    "#         float_error = np.log(val *CONSTANT) - (np.log(val) + np.log(CONSTANT))\n",
    "#     #    print(float_error, i)\n",
    "#         mean += float_error\n",
    "#     means_mean.append(mean/25)\n",
    "# print(means_mean[-1])\n",
    "# print(np.array(means_mean).mean())\n",
    "#"
   ],
   "metadata": {
    "collapsed": false,
    "pycharm": {
     "name": "#%%\n",
     "is_executing": true
    }
   }
  },
  {
   "cell_type": "code",
   "execution_count": null,
   "outputs": [],
   "source": [
    "# CONSTANT =  (2 * np.e * np.pi)\n",
    "# means_mean = []\n",
    "# for val in range(10, int(10e7), int(10e2)):\n",
    "#     mean = 0\n",
    "#     for i in range(25):\n",
    "#         float_error = np.log(val *CONSTANT ** 0.5) - (np.log(val) + np.log(CONSTANT**0.5))\n",
    "#         # print(float_error, i)\n",
    "#         mean += float_error\n",
    "#     means_mean.append(mean/25)\n",
    "# print(means_mean[-1])\n",
    "# print(np.array(means_mean).mean())"
   ],
   "metadata": {
    "collapsed": false,
    "pycharm": {
     "name": "#%%\n",
     "is_executing": true
    }
   }
  }
 ],
 "metadata": {
  "kernelspec": {
   "name": "pycharm-15431b4e",
   "language": "python",
   "display_name": "PyCharm (jason_refactor)"
  },
  "language_info": {
   "codemirror_mode": {
    "name": "ipython",
    "version": 2
   },
   "file_extension": ".py",
   "mimetype": "text/x-python",
   "name": "python",
   "nbconvert_exporter": "python",
   "pygments_lexer": "ipython2",
   "version": "2.7.6"
  }
 },
 "nbformat": 4,
 "nbformat_minor": 0
}